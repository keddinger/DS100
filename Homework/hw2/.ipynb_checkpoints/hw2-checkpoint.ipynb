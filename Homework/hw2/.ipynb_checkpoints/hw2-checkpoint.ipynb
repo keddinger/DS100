{
 "cells": [
  {
   "cell_type": "markdown",
   "metadata": {},
   "source": [
    "# Homework 2: Food Safety \n",
    "## Cleaning and Exploring Data with Pandas"
   ]
  },
  {
   "cell_type": "markdown",
   "metadata": {},
   "source": [
    "<img src=\"scoreCard.jpg\" width=400>\n",
    "\n",
    "In this homework, you will investigate restaurant food safety scores for restaurants in San Francisco. Above is a sample score card for a restaurant. The scores and violation information have been made available by the San Francisco Department of Public Health, and we have made these data available to you via the DS 100 repository. The main goal for this assignment is to understand how restaurants are scored. We will walk through the various steps of exploratory data analysis to do this. To give you a sense of how we think about each discovery we make and what next steps it leads to we will provide comments and insights along the way.\n",
    "\n",
    "As we clean and explore these data, you will gain practice with:\n",
    "* Reading simple csv files\n",
    "* Working with data at different levels of granularity\n",
    "* Identifying the type of data collected, missing values, anomalies, etc.\n",
    "* Exploring characteristics and distributions of individual variables"
   ]
  },
  {
   "cell_type": "markdown",
   "metadata": {},
   "source": [
    "### Question 0\n",
    "\n",
    "To start the assignment, run the cell below to set up some imports and the automatic tests that we will need for this assignment:"
   ]
  },
  {
   "cell_type": "code",
   "execution_count": 6,
   "metadata": {},
   "outputs": [
    {
     "name": "stdout",
     "output_type": "stream",
     "text": [
      "=====================================================================\n",
      "Assignment: Homework 2\n",
      "OK, version v1.12.10\n",
      "=====================================================================\n",
      "\n"
     ]
    }
   ],
   "source": [
    "import os\n",
    "from IPython.display import display, Latex, Markdown\n",
    "from client.api.notebook import Notebook\n",
    "ok = Notebook('hw2.ok')"
   ]
  },
  {
   "cell_type": "markdown",
   "metadata": {},
   "source": [
    "In many of these assignments (and your future adventures as a data scientist) you will use pandas, numpy, matplotlib.pyplot, and seaborn.  \n",
    "\n",
    "1. Import each of these libraries `as` their commonly used abbreviations (e.g., `pd`, `np`, `plt`, and `sns`).  \n",
    "1. Don't forget to use the jupyter notebook \"magic\" to enable [inline matploblib plots](http://ipython.readthedocs.io/en/stable/interactive/magics.html#magic-matplotlib). \n",
    "1. Add the line `sns.set()` to make your plots look nicer."
   ]
  },
  {
   "cell_type": "code",
   "execution_count": 7,
   "metadata": {
    "collapsed": true,
    "tags": [
     "student"
    ]
   },
   "outputs": [],
   "source": [
    "import numpy as np\n",
    "import matplotlib.pyplot as plt\n",
    "import pandas as pd\n",
    "import seaborn as sns\n",
    "%matplotlib inline\n",
    "sns.set()"
   ]
  },
  {
   "cell_type": "markdown",
   "metadata": {},
   "source": [
    "Now, run this cell to log into OkPy:"
   ]
  },
  {
   "cell_type": "code",
   "execution_count": 8,
   "metadata": {},
   "outputs": [
    {
     "name": "stdout",
     "output_type": "stream",
     "text": [
      "Successfully logged in as kath.eddinger@berkeley.edu\n"
     ]
    }
   ],
   "source": [
    "# Sometimes you'll run into an OAuth bug when you run ok.auth(). If so,\n",
    "# uncomment this line of code and run this cell again.\n",
    "# os.remove(os.path.join(os.path.expanduser('~'), '.config', 'ok', 'auth_refresh'))\n",
    "\n",
    "ok.auth()"
   ]
  },
  {
   "cell_type": "markdown",
   "metadata": {},
   "source": [
    "## Loading Food Safety Data\n",
    "\n",
    "To begin our investigation, we need to understand the structure of the data. Recall this involves answering questions such as \n",
    "\n",
    "* Is the data in a standard format or encoding?\n",
    "* Is the data organized in records?\n",
    "* What are the fields in each record?\n",
    "\n",
    "There are 4 files in the data directory.  Use the `ls -lh` command to list all the files and their sizes stored in the data directory.\n",
    "\n",
    "**Note for Windows users:** Unfortunately, since Windows is not a UNIX system most lines of shell code won't work. You can reference http://simplyadvanced.net/blog/cheat-sheet-for-windows-command-prompt/ for how to translate the code into the Windows command prompt, or you can use http://datahub.berkeley.edu/, or if you're feeling adventurous you can try to [set up Anaconda in Bash environment that Windows has recently started to support](http://www.cgranade.com/blog/2016/08/22/qutip-on-wsl.html)."
   ]
  },
  {
   "cell_type": "code",
   "execution_count": 9,
   "metadata": {
    "tags": [
     "student"
    ]
   },
   "outputs": [
    {
     "name": "stdout",
     "output_type": "stream",
     "text": [
      "total 9904\r\n",
      "-rwxr-xr-x@ 1 katherineeddinger  staff   645K Sep  7 12:20 \u001b[31mbusinesses.csv\u001b[m\u001b[m\r\n",
      "-rwxr-xr-x@ 1 katherineeddinger  staff   493K Sep  7 12:20 \u001b[31minspections.csv\u001b[m\u001b[m\r\n",
      "-rwxr-xr-x@ 1 katherineeddinger  staff   120B Sep  7 12:20 \u001b[31mlegend.csv\u001b[m\u001b[m\r\n",
      "-rwxr-xr-x@ 1 katherineeddinger  staff   3.7M Sep  7 12:20 \u001b[31mviolations.csv\u001b[m\u001b[m\r\n"
     ]
    }
   ],
   "source": [
    "!ls -lh data/"
   ]
  },
  {
   "cell_type": "markdown",
   "metadata": {},
   "source": [
    "### Question 1a\n",
    "\n",
    "From the above output we see that one of the files is relatively small.  Use the `cat` command to cat that file and print what it contains.  "
   ]
  },
  {
   "cell_type": "code",
   "execution_count": 10,
   "metadata": {
    "tags": [
     "student"
    ]
   },
   "outputs": [
    {
     "name": "stdout",
     "output_type": "stream",
     "text": [
      "\"Minimum_Score\",\"Maximum_Score\",\"Description\"\r",
      "\r\n",
      "0,70,\"Poor\"\r",
      "\r\n",
      "71,85,\"Needs Improvement\"\r",
      "\r\n",
      "86,90,\"Adequate\"\r",
      "\r\n",
      "91,100,\"Good\"\r",
      "\r\n"
     ]
    }
   ],
   "source": [
    "!cat data/legend.csv"
   ]
  },
  {
   "cell_type": "markdown",
   "metadata": {},
   "source": [
    "### Question 1b\n",
    "\n",
    "Run the `head` command to verify that the remaining files are also CSV formatted as their file extension suggests"
   ]
  },
  {
   "cell_type": "code",
   "execution_count": 11,
   "metadata": {},
   "outputs": [
    {
     "name": "stdout",
     "output_type": "stream",
     "text": [
      "==> data/businesses.csv <==\r\n",
      "\"business_id\",\"name\",\"address\",\"city\",\"state\",\"postal_code\",\"latitude\",\"longitude\",\"phone_number\"\r",
      "\r\n",
      "10,\"TIRAMISU KITCHEN\",\"033 BELDEN PL\",\"San Francisco\",\"CA\",\"94104\",\"37.791116\",\"-122.403816\",\"+14154217044\"\r",
      "\r\n",
      "19,\"NRGIZE LIFESTYLE CAFE\",\"1200 VAN NESS AVE, 3RD FLOOR\",\"San Francisco\",\"CA\",\"94109\",\"37.786848\",\"-122.421547\",\"+14157763262\"\r",
      "\r\n",
      "24,\"OMNI S.F. HOTEL - 2ND FLOOR PANTRY\",\"500 CALIFORNIA ST, 2ND  FLOOR\",\"San Francisco\",\"CA\",\"94104\",\"37.792888\",\"-122.403135\",\"+14156779494\"\r",
      "\r\n",
      "31,\"NORMAN'S ICE CREAM AND FREEZES\",\"2801 LEAVENWORTH ST \",\"San Francisco\",\"CA\",\"94133\",\"37.807155\",\"-122.419004\",\"\"\r",
      "\r\n",
      "45,\"CHARLIE'S DELI CAFE\",\"3202 FOLSOM ST \",\"San Francisco\",\"CA\",\"94110\",\"37.747114\",\"-122.413641\",\"+14156415051\"\r",
      "\r\n",
      "48,\"ART'S CAFE\",\"747 IRVING ST \",\"San Francisco\",\"CA\",\"94122\",\"37.764013\",\"-122.465749\",\"+14156657440\"\r",
      "\r\n",
      "50,\"SUSHI ZONE\",\"1815  MARKET ST. \",\"San Francisco\",\"CA\",\"94103\",\"37.771437\",\"-122.423892\",\"+14156211114\"\r",
      "\r\n",
      "54,\"RHODA GOLDMAN PLAZA\",\"2180 POST ST \",\"San Francisco\",\"CA\",\"94115\",\"37.784626\",\"-122.437734\",\"+14153455060\"\r",
      "\r\n",
      "56,\"CAFE X + O\",\"1799 CHURCH ST \",\"San Francisco\",\"CA\",\"94131\",\"37.742325\",\"-122.426476\",\"+14158263535\"\r",
      "\r\n",
      "\r\n",
      "==> data/inspections.csv <==\r\n",
      "\"business_id\",\"score\",\"date\",\"type\"\r",
      "\r\n",
      "10,\"82\",\"20160503\",\"routine\"\r",
      "\r\n",
      "10,\"94\",\"20140729\",\"routine\"\r",
      "\r\n",
      "10,\"92\",\"20140114\",\"routine\"\r",
      "\r\n",
      "19,\"94\",\"20160513\",\"routine\"\r",
      "\r\n",
      "19,\"94\",\"20141110\",\"routine\"\r",
      "\r\n",
      "19,\"94\",\"20140214\",\"routine\"\r",
      "\r\n",
      "24,\"98\",\"20161005\",\"routine\"\r",
      "\r\n",
      "24,\"96\",\"20160311\",\"routine\"\r",
      "\r\n",
      "24,\"96\",\"20141124\",\"routine\"\r",
      "\r\n",
      "\r\n",
      "==> data/legend.csv <==\r\n",
      "\"Minimum_Score\",\"Maximum_Score\",\"Description\"\r",
      "\r\n",
      "0,70,\"Poor\"\r",
      "\r\n",
      "71,85,\"Needs Improvement\"\r",
      "\r\n",
      "86,90,\"Adequate\"\r",
      "\r\n",
      "91,100,\"Good\"\r",
      "\r\n",
      "\r\n",
      "==> data/violations.csv <==\r\n",
      "\"business_id\",\"date\",\"description\"\r",
      "\r\n",
      "10,\"20160503\",\"High risk food holding temperature   [ date violation corrected: 5/3/2016 ]\"\r",
      "\r\n",
      "10,\"20160503\",\"High risk food holding temperature   [ date violation corrected: 5/3/2016 ]\"\r",
      "\r\n",
      "10,\"20160503\",\"High risk vermin infestation\"\r",
      "\r\n",
      "10,\"20160503\",\"Unapproved or unmaintained equipment or utensils\"\r",
      "\r\n",
      "10,\"20160503\",\"No thermometers or uncalibrated thermometers \"\r",
      "\r\n",
      "10,\"20140729\",\"Insufficient hot water or running water  [ date violation corrected: 8/7/2014 ]\"\r",
      "\r\n",
      "10,\"20140729\",\"Unapproved or unmaintained equipment or utensils  [ date violation corrected: 8/7/2014 ]\"\r",
      "\r\n",
      "10,\"20140114\",\"Improper storage of equipment utensils or linens  [ date violation corrected: 1/24/2014 ]\"\r",
      "\r\n",
      "10,\"20140114\",\"Unclean or degraded floors walls or ceilings  [ date violation corrected: 1/24/2014 ]\"\r",
      "\r\n"
     ]
    }
   ],
   "source": [
    "!head data/*"
   ]
  },
  {
   "cell_type": "markdown",
   "metadata": {},
   "source": [
    "Answer the following boolean expressions using (True or False)."
   ]
  },
  {
   "cell_type": "code",
   "execution_count": 12,
   "metadata": {
    "collapsed": true,
    "tags": [
     "student"
    ]
   },
   "outputs": [],
   "source": [
    "# Are all the files CSV files?\n",
    "all_files_appear_to_be_csv = True\n",
    "\n",
    "# Do all the files have a header line?\n",
    "all_files_contain_headers = True\n",
    "\n",
    "# Do all the strings in the file have quotes around them?\n",
    "strings_appear_quoted = True\n"
   ]
  },
  {
   "cell_type": "markdown",
   "metadata": {},
   "source": [
    "### Question 1c\n",
    "\n",
    "Run the following command to determine the file encoding of each of these files"
   ]
  },
  {
   "cell_type": "code",
   "execution_count": 13,
   "metadata": {},
   "outputs": [
    {
     "name": "stdout",
     "output_type": "stream",
     "text": [
      "data/businesses.csv:  ISO-8859 text, with CRLF line terminators\n",
      "data/inspections.csv: ASCII text, with CRLF line terminators\n",
      "data/legend.csv:      ASCII text, with CRLF line terminators\n",
      "data/violations.csv:  ASCII text, with CRLF line terminators\n"
     ]
    }
   ],
   "source": [
    "!file data/*"
   ]
  },
  {
   "cell_type": "markdown",
   "metadata": {},
   "source": [
    "Based on the above information let's attempt to load the `businesses.csv`, `inspections.csv`, and the `violations.csv` into pandas data frames with the following names `bus`, `ins`, and `vio`.  Because of character encoding issues one of the files will require an additional argument `encoding='ISO-8859-1'` when calling `pd.read_csv`. "
   ]
  },
  {
   "cell_type": "code",
   "execution_count": 14,
   "metadata": {
    "collapsed": true,
    "tags": [
     "student"
    ]
   },
   "outputs": [],
   "source": [
    "# path to directory containing data\n",
    "dsDir = \"data/\"\n",
    "\n",
    "bus = pd.read_csv(\"data/businesses.csv\", encoding='ISO-8859-1' )\n",
    "ins = pd.read_csv(\"data/inspections.csv\")\n",
    "vio = pd.read_csv(\"data/violations.csv\")"
   ]
  },
  {
   "cell_type": "markdown",
   "metadata": {},
   "source": [
    "Run the following cells in order to view a portion of each dataframe."
   ]
  },
  {
   "cell_type": "code",
   "execution_count": 15,
   "metadata": {},
   "outputs": [
    {
     "data": {
      "text/html": [
       "<div>\n",
       "<style>\n",
       "    .dataframe thead tr:only-child th {\n",
       "        text-align: right;\n",
       "    }\n",
       "\n",
       "    .dataframe thead th {\n",
       "        text-align: left;\n",
       "    }\n",
       "\n",
       "    .dataframe tbody tr th {\n",
       "        vertical-align: top;\n",
       "    }\n",
       "</style>\n",
       "<table border=\"1\" class=\"dataframe\">\n",
       "  <thead>\n",
       "    <tr style=\"text-align: right;\">\n",
       "      <th></th>\n",
       "      <th>business_id</th>\n",
       "      <th>name</th>\n",
       "      <th>address</th>\n",
       "      <th>city</th>\n",
       "      <th>state</th>\n",
       "      <th>postal_code</th>\n",
       "      <th>latitude</th>\n",
       "      <th>longitude</th>\n",
       "      <th>phone_number</th>\n",
       "    </tr>\n",
       "  </thead>\n",
       "  <tbody>\n",
       "    <tr>\n",
       "      <th>0</th>\n",
       "      <td>10</td>\n",
       "      <td>TIRAMISU KITCHEN</td>\n",
       "      <td>033 BELDEN PL</td>\n",
       "      <td>San Francisco</td>\n",
       "      <td>CA</td>\n",
       "      <td>94104</td>\n",
       "      <td>37.791116</td>\n",
       "      <td>-122.403816</td>\n",
       "      <td>+14154217044</td>\n",
       "    </tr>\n",
       "    <tr>\n",
       "      <th>1</th>\n",
       "      <td>19</td>\n",
       "      <td>NRGIZE LIFESTYLE CAFE</td>\n",
       "      <td>1200 VAN NESS AVE, 3RD FLOOR</td>\n",
       "      <td>San Francisco</td>\n",
       "      <td>CA</td>\n",
       "      <td>94109</td>\n",
       "      <td>37.786848</td>\n",
       "      <td>-122.421547</td>\n",
       "      <td>+14157763262</td>\n",
       "    </tr>\n",
       "    <tr>\n",
       "      <th>2</th>\n",
       "      <td>24</td>\n",
       "      <td>OMNI S.F. HOTEL - 2ND FLOOR PANTRY</td>\n",
       "      <td>500 CALIFORNIA ST, 2ND  FLOOR</td>\n",
       "      <td>San Francisco</td>\n",
       "      <td>CA</td>\n",
       "      <td>94104</td>\n",
       "      <td>37.792888</td>\n",
       "      <td>-122.403135</td>\n",
       "      <td>+14156779494</td>\n",
       "    </tr>\n",
       "    <tr>\n",
       "      <th>3</th>\n",
       "      <td>31</td>\n",
       "      <td>NORMAN'S ICE CREAM AND FREEZES</td>\n",
       "      <td>2801 LEAVENWORTH ST</td>\n",
       "      <td>San Francisco</td>\n",
       "      <td>CA</td>\n",
       "      <td>94133</td>\n",
       "      <td>37.807155</td>\n",
       "      <td>-122.419004</td>\n",
       "      <td>NaN</td>\n",
       "    </tr>\n",
       "    <tr>\n",
       "      <th>4</th>\n",
       "      <td>45</td>\n",
       "      <td>CHARLIE'S DELI CAFE</td>\n",
       "      <td>3202 FOLSOM ST</td>\n",
       "      <td>San Francisco</td>\n",
       "      <td>CA</td>\n",
       "      <td>94110</td>\n",
       "      <td>37.747114</td>\n",
       "      <td>-122.413641</td>\n",
       "      <td>+14156415051</td>\n",
       "    </tr>\n",
       "  </tbody>\n",
       "</table>\n",
       "</div>"
      ],
      "text/plain": [
       "   business_id                                name  \\\n",
       "0           10                    TIRAMISU KITCHEN   \n",
       "1           19               NRGIZE LIFESTYLE CAFE   \n",
       "2           24  OMNI S.F. HOTEL - 2ND FLOOR PANTRY   \n",
       "3           31      NORMAN'S ICE CREAM AND FREEZES   \n",
       "4           45                 CHARLIE'S DELI CAFE   \n",
       "\n",
       "                         address           city state postal_code   latitude  \\\n",
       "0                  033 BELDEN PL  San Francisco    CA       94104  37.791116   \n",
       "1   1200 VAN NESS AVE, 3RD FLOOR  San Francisco    CA       94109  37.786848   \n",
       "2  500 CALIFORNIA ST, 2ND  FLOOR  San Francisco    CA       94104  37.792888   \n",
       "3           2801 LEAVENWORTH ST   San Francisco    CA       94133  37.807155   \n",
       "4                3202 FOLSOM ST   San Francisco    CA       94110  37.747114   \n",
       "\n",
       "    longitude  phone_number  \n",
       "0 -122.403816  +14154217044  \n",
       "1 -122.421547  +14157763262  \n",
       "2 -122.403135  +14156779494  \n",
       "3 -122.419004           NaN  \n",
       "4 -122.413641  +14156415051  "
      ]
     },
     "execution_count": 15,
     "metadata": {},
     "output_type": "execute_result"
    }
   ],
   "source": [
    "bus.head(5)"
   ]
  },
  {
   "cell_type": "code",
   "execution_count": 16,
   "metadata": {},
   "outputs": [
    {
     "data": {
      "text/html": [
       "<div>\n",
       "<style>\n",
       "    .dataframe thead tr:only-child th {\n",
       "        text-align: right;\n",
       "    }\n",
       "\n",
       "    .dataframe thead th {\n",
       "        text-align: left;\n",
       "    }\n",
       "\n",
       "    .dataframe tbody tr th {\n",
       "        vertical-align: top;\n",
       "    }\n",
       "</style>\n",
       "<table border=\"1\" class=\"dataframe\">\n",
       "  <thead>\n",
       "    <tr style=\"text-align: right;\">\n",
       "      <th></th>\n",
       "      <th>business_id</th>\n",
       "      <th>score</th>\n",
       "      <th>date</th>\n",
       "      <th>type</th>\n",
       "    </tr>\n",
       "  </thead>\n",
       "  <tbody>\n",
       "    <tr>\n",
       "      <th>0</th>\n",
       "      <td>10</td>\n",
       "      <td>82</td>\n",
       "      <td>20160503</td>\n",
       "      <td>routine</td>\n",
       "    </tr>\n",
       "    <tr>\n",
       "      <th>1</th>\n",
       "      <td>10</td>\n",
       "      <td>94</td>\n",
       "      <td>20140729</td>\n",
       "      <td>routine</td>\n",
       "    </tr>\n",
       "    <tr>\n",
       "      <th>2</th>\n",
       "      <td>10</td>\n",
       "      <td>92</td>\n",
       "      <td>20140114</td>\n",
       "      <td>routine</td>\n",
       "    </tr>\n",
       "    <tr>\n",
       "      <th>3</th>\n",
       "      <td>19</td>\n",
       "      <td>94</td>\n",
       "      <td>20160513</td>\n",
       "      <td>routine</td>\n",
       "    </tr>\n",
       "    <tr>\n",
       "      <th>4</th>\n",
       "      <td>19</td>\n",
       "      <td>94</td>\n",
       "      <td>20141110</td>\n",
       "      <td>routine</td>\n",
       "    </tr>\n",
       "  </tbody>\n",
       "</table>\n",
       "</div>"
      ],
      "text/plain": [
       "   business_id  score      date     type\n",
       "0           10     82  20160503  routine\n",
       "1           10     94  20140729  routine\n",
       "2           10     92  20140114  routine\n",
       "3           19     94  20160513  routine\n",
       "4           19     94  20141110  routine"
      ]
     },
     "execution_count": 16,
     "metadata": {},
     "output_type": "execute_result"
    }
   ],
   "source": [
    "ins.head(5)"
   ]
  },
  {
   "cell_type": "code",
   "execution_count": 17,
   "metadata": {},
   "outputs": [
    {
     "data": {
      "text/html": [
       "<div>\n",
       "<style>\n",
       "    .dataframe thead tr:only-child th {\n",
       "        text-align: right;\n",
       "    }\n",
       "\n",
       "    .dataframe thead th {\n",
       "        text-align: left;\n",
       "    }\n",
       "\n",
       "    .dataframe tbody tr th {\n",
       "        vertical-align: top;\n",
       "    }\n",
       "</style>\n",
       "<table border=\"1\" class=\"dataframe\">\n",
       "  <thead>\n",
       "    <tr style=\"text-align: right;\">\n",
       "      <th></th>\n",
       "      <th>business_id</th>\n",
       "      <th>date</th>\n",
       "      <th>description</th>\n",
       "    </tr>\n",
       "  </thead>\n",
       "  <tbody>\n",
       "    <tr>\n",
       "      <th>0</th>\n",
       "      <td>10</td>\n",
       "      <td>20160503</td>\n",
       "      <td>High risk food holding temperature   [ date vi...</td>\n",
       "    </tr>\n",
       "    <tr>\n",
       "      <th>1</th>\n",
       "      <td>10</td>\n",
       "      <td>20160503</td>\n",
       "      <td>High risk food holding temperature   [ date vi...</td>\n",
       "    </tr>\n",
       "    <tr>\n",
       "      <th>2</th>\n",
       "      <td>10</td>\n",
       "      <td>20160503</td>\n",
       "      <td>High risk vermin infestation</td>\n",
       "    </tr>\n",
       "    <tr>\n",
       "      <th>3</th>\n",
       "      <td>10</td>\n",
       "      <td>20160503</td>\n",
       "      <td>Unapproved or unmaintained equipment or utensils</td>\n",
       "    </tr>\n",
       "    <tr>\n",
       "      <th>4</th>\n",
       "      <td>10</td>\n",
       "      <td>20160503</td>\n",
       "      <td>No thermometers or uncalibrated thermometers</td>\n",
       "    </tr>\n",
       "  </tbody>\n",
       "</table>\n",
       "</div>"
      ],
      "text/plain": [
       "   business_id      date                                        description\n",
       "0           10  20160503  High risk food holding temperature   [ date vi...\n",
       "1           10  20160503  High risk food holding temperature   [ date vi...\n",
       "2           10  20160503                       High risk vermin infestation\n",
       "3           10  20160503   Unapproved or unmaintained equipment or utensils\n",
       "4           10  20160503      No thermometers or uncalibrated thermometers "
      ]
     },
     "execution_count": 17,
     "metadata": {},
     "output_type": "execute_result"
    }
   ],
   "source": [
    "vio.head(5)"
   ]
  },
  {
   "cell_type": "markdown",
   "metadata": {},
   "source": [
    "### Question 1d\n",
    "\n",
    "In the following describe at least one potential problem with the above data. Consider issues with missing values and bad data.  "
   ]
  },
  {
   "cell_type": "code",
   "execution_count": 18,
   "metadata": {
    "tags": [
     "student",
     "written"
    ]
   },
   "outputs": [
    {
     "data": {
      "text/markdown": [
       "\n",
       "\n",
       "One potential problem is missing values. For example, the portion of the dataframe we can see \n",
       "for businesses.csv shows that there is an empty value,'NaN', in the 'phone_number' field. \n",
       "\n",
       "If we wanted to join some of our tables together using a merge function, this particular business \n",
       "might be dropped in the join.\n",
       "\n"
      ],
      "text/plain": [
       "<IPython.core.display.Markdown object>"
      ]
     },
     "metadata": {},
     "output_type": "display_data"
    }
   ],
   "source": [
    "q1d_answer = r\"\"\"\n",
    "\n",
    "One potential problem is missing values. For example, the portion of the dataframe we can see \n",
    "for businesses.csv shows that there is an empty value,'NaN', in the 'phone_number' field. \n",
    "\n",
    "If we wanted to join some of our tables together using a merge function, this particular business \n",
    "might be dropped in the join.\n",
    "\n",
    "\"\"\"\n",
    "\n",
    "display(Markdown(q1d_answer))"
   ]
  },
  {
   "cell_type": "code",
   "execution_count": 19,
   "metadata": {},
   "outputs": [
    {
     "name": "stdout",
     "output_type": "stream",
     "text": [
      "~~~~~~~~~~~~~~~~~~~~~~~~~~~~~~~~~~~~~~~~~~~~~~~~~~~~~~~~~~~~~~~~~~~~~\n",
      "Running tests\n",
      "\n",
      "---------------------------------------------------------------------\n",
      "Test summary\n",
      "    Passed: 1\n",
      "    Failed: 0\n",
      "[ooooooooook] 100.0% passed\n",
      "\n"
     ]
    },
    {
     "data": {
      "application/javascript": [
       "IPython.notebook.save_checkpoint();"
      ],
      "text/plain": [
       "<IPython.core.display.Javascript object>"
      ]
     },
     "metadata": {},
     "output_type": "display_data"
    },
    {
     "data": {
      "application/javascript": [
       "IPython.notebook.save_notebook();"
      ],
      "text/plain": [
       "<IPython.core.display.Javascript object>"
      ]
     },
     "metadata": {},
     "output_type": "display_data"
    },
    {
     "name": "stdout",
     "output_type": "stream",
     "text": [
      "Saving notebook... Saved 'hw2.ipynb'.\n",
      "Backup... 100% complete\n",
      "Backup successful for user: kath.eddinger@berkeley.edu\n",
      "URL: https://okpy.org/cal/ds100/fa17/hw2/backups/rklyr2\n",
      "NOTE: this is only a backup. To submit your assignment, use:\n",
      "\tpython3 ok --submit\n",
      "\n"
     ]
    }
   ],
   "source": [
    "_ = ok.grade('q01')\n",
    "_ = ok.backup()"
   ]
  },
  {
   "cell_type": "markdown",
   "metadata": {},
   "source": [
    "We will explore each file in turn, including determining its granularity and primary keys and exploring many of the variables indivdually. Let's begin with the businesses file, which has been read into the data.frame `bus`."
   ]
  },
  {
   "cell_type": "markdown",
   "metadata": {},
   "source": [
    "## Examining the Business data\n",
    "\n",
    "From its name alone, we expect the `businesses.csv` file to contain information about the restaurants. Let's investigate the granularity of this dataset.\n",
    "\n",
    "**Important note: From now on, the local autograder tests will not be comprehensive. You can pass the OkPy tests in your notebook but still fail tests in the autograder.** Please be sure to check your results carefully."
   ]
  },
  {
   "cell_type": "markdown",
   "metadata": {},
   "source": [
    "### Question 2\n",
    "\n",
    "#### Question 2a\n",
    "\n",
    "Examining the entries in in the `businesses.csv` table `bus` is the `business_id` unique for each record?"
   ]
  },
  {
   "cell_type": "code",
   "execution_count": 20,
   "metadata": {
    "tags": [
     "student"
    ]
   },
   "outputs": [
    {
     "name": "stdout",
     "output_type": "stream",
     "text": [
      "There are 6315 unique business id numbers.\n",
      "There are 6315 businesses in the table.\n"
     ]
    }
   ],
   "source": [
    "# bus[\"business_id\"].unique()\n",
    "# len(bus)\n",
    "print(\"There are\", len(bus[\"business_id\"].unique()), \"unique business id numbers.\")\n",
    "print(\"There are\", len(bus), \"businesses in the table.\")\n",
    "# use value_counts() or unique() to determine if the business_id field is unique"
   ]
  },
  {
   "cell_type": "code",
   "execution_count": 21,
   "metadata": {
    "collapsed": true,
    "tags": [
     "student"
    ]
   },
   "outputs": [],
   "source": [
    "is_business_id_unique = True # put your final answer True/False here"
   ]
  },
  {
   "cell_type": "code",
   "execution_count": 22,
   "metadata": {},
   "outputs": [
    {
     "name": "stdout",
     "output_type": "stream",
     "text": [
      "~~~~~~~~~~~~~~~~~~~~~~~~~~~~~~~~~~~~~~~~~~~~~~~~~~~~~~~~~~~~~~~~~~~~~\n",
      "Running tests\n",
      "\n",
      "---------------------------------------------------------------------\n",
      "Test summary\n",
      "    Passed: 1\n",
      "    Failed: 0\n",
      "[ooooooooook] 100.0% passed\n",
      "\n"
     ]
    },
    {
     "data": {
      "application/javascript": [
       "IPython.notebook.save_checkpoint();"
      ],
      "text/plain": [
       "<IPython.core.display.Javascript object>"
      ]
     },
     "metadata": {},
     "output_type": "display_data"
    },
    {
     "data": {
      "application/javascript": [
       "IPython.notebook.save_notebook();"
      ],
      "text/plain": [
       "<IPython.core.display.Javascript object>"
      ]
     },
     "metadata": {},
     "output_type": "display_data"
    },
    {
     "name": "stdout",
     "output_type": "stream",
     "text": [
      "Saving notebook... Saved 'hw2.ipynb'.\n",
      "Backup... 100% complete\n",
      "Backup successful for user: kath.eddinger@berkeley.edu\n",
      "URL: https://okpy.org/cal/ds100/fa17/hw2/backups/v2pKy8\n",
      "NOTE: this is only a backup. To submit your assignment, use:\n",
      "\tpython3 ok --submit\n",
      "\n"
     ]
    }
   ],
   "source": [
    "_ = ok.grade('q02a')\n",
    "_ = ok.backup()"
   ]
  },
  {
   "cell_type": "markdown",
   "metadata": {
    "tags": [
     "written"
    ]
   },
   "source": [
    "#### Question 2b\n",
    "\n",
    "With this information, you can address the question of granularity and so answer the questions below.\n",
    "\n",
    "1. What is the granularity of the businesses data frame? \n",
    "1. How many records are there?\n",
    "1. What does each record represent (e.g., a store, a chain, a transaction)?  \n",
    "1. What is the primary key?\n",
    "\n",
    "Please write your answer in the `q2b_answer` variable. You may create new cells to run code as long as you don't delete the cell below."
   ]
  },
  {
   "cell_type": "code",
   "execution_count": 23,
   "metadata": {
    "tags": [
     "student"
    ]
   },
   "outputs": [
    {
     "data": {
      "text/plain": [
       "Ellipsis"
      ]
     },
     "execution_count": 23,
     "metadata": {},
     "output_type": "execute_result"
    }
   ],
   "source": [
    "# use this cell for scratch work\n",
    "# consider using groupby or value_counts() on the 'name' or 'business_id' \n",
    "... "
   ]
  },
  {
   "cell_type": "code",
   "execution_count": 24,
   "metadata": {
    "tags": [
     "student",
     "written"
    ]
   },
   "outputs": [
    {
     "data": {
      "text/markdown": [
       "\n",
       "\n",
       "1. The businesses data frame is relatively fine grained because we have information that is specific \n",
       "to individual businesses. This data is a bit sparse though, seeing as there are missing values. \n",
       "For example, \"phone_number.\"\n",
       "2. There are 6315 records.\n",
       "3. Each record represents an individual business and information pertaining to that specific business\n",
       "4. The primary key is \"business_id.\"\n",
       "\n"
      ],
      "text/plain": [
       "<IPython.core.display.Markdown object>"
      ]
     },
     "metadata": {},
     "output_type": "display_data"
    }
   ],
   "source": [
    "q2b_answer = r\"\"\"\n",
    "\n",
    "1. The businesses data frame is relatively fine grained because we have information that is specific \n",
    "to individual businesses. This data is a bit sparse though, seeing as there are missing values. \n",
    "For example, \"phone_number.\"\n",
    "2. There are 6315 records.\n",
    "3. Each record represents an individual business and information pertaining to that specific business\n",
    "4. The primary key is \"business_id.\"\n",
    "\n",
    "\"\"\"\n",
    "\n",
    "display(Markdown(q2b_answer))"
   ]
  },
  {
   "cell_type": "markdown",
   "metadata": {
    "tags": [
     "written"
    ]
   },
   "source": [
    "## Zip code\n",
    "\n",
    "Next, let's  explore some of the variables in the business table. We begin by examining the postal code.\n",
    "\n",
    "### Question 3\n",
    "\n",
    "#### Question 3a\n",
    "\n",
    "\n",
    "What kind of values are in the variable postal code in the `bus` data frame?  \n",
    "1. Is zip code quantitative or qualitative? If qualitative, is it ordinal or nominal? \n",
    "1. How are the zip code values encoded in python: ints, floats, strings, booleans ...\n",
    "\n",
    "To answer the second question you might want to examine a particular entry."
   ]
  },
  {
   "cell_type": "code",
   "execution_count": 25,
   "metadata": {
    "tags": [
     "student",
     "written"
    ]
   },
   "outputs": [
    {
     "data": {
      "text/markdown": [
       "\n",
       "1. Ordinal\n",
       "2. The zipcode values are encoded as objects\n",
       "\n",
       " "
      ],
      "text/plain": [
       "<IPython.core.display.Markdown object>"
      ]
     },
     "metadata": {},
     "output_type": "display_data"
    }
   ],
   "source": [
    "# Use this cell for your explorations.\n",
    "# bus.dtypes\n",
    "\n",
    "q3a_answer = r\"\"\"\n",
    "1. Ordinal\n",
    "2. The zipcode values are encoded as objects\n",
    "\n",
    " \"\"\"\n",
    "\n",
    "display(Markdown(q3a_answer))"
   ]
  },
  {
   "cell_type": "markdown",
   "metadata": {},
   "source": [
    "#### Question 3b\n",
    "\n",
    "To explore the zip code values, it makes sense to examine counts, i.e., the number of records  that have the same zip code value. This is essentially answering the question: How many restaurants are in each zip code? \n",
    "\n",
    "Please generate a dataframe with `postal_code` as the index and a column called `count` which denotes the number of restaurants for each zip code.   If the zipcode is missing be sure to replace it with `MISSING` (e.g., by using `fillna`)."
   ]
  },
  {
   "cell_type": "code",
   "execution_count": 26,
   "metadata": {
    "collapsed": true
   },
   "outputs": [],
   "source": [
    "\n",
    "# keep groupby() / value_counts() as a dataframe by uing .to_frame()\n",
    "#use .loc to slice out the columns before you do groupby\n",
    "# .loc can return a dataframe or list depending on inputs"
   ]
  },
  {
   "cell_type": "code",
   "execution_count": 27,
   "metadata": {
    "collapsed": true,
    "tags": [
     "student"
    ]
   },
   "outputs": [],
   "source": [
    "num_pcodes = bus[\"postal_code\"].count().sum()\n",
    "num_missing = bus[\"postal_code\"].isnull().sum()\n",
    "\n",
    "#make a copy of bus\n",
    "zip_counts = bus.copy()\n",
    "\n",
    "#fill in missing values\n",
    "zip_counts.fillna(value=\"MISSING\", inplace=True)\n",
    "\n",
    "# add count column\n",
    "zip_counts[\"count\"] = np.ones(num_pcodes + num_missing, dtype=np.int)\n",
    "\n",
    "\n",
    "#drop these fields from the table\n",
    "zip_counts.drop([\"business_id\",\"latitude\",\"longitude\",\"name\", \"city\", \"state\", \"address\", \"phone_number\"],\n",
    "                axis=1,\n",
    "                inplace=True)\n",
    "\n",
    "#group by postal code\n",
    "zip_counts = zip_counts.groupby(\"postal_code\").sum()"
   ]
  },
  {
   "cell_type": "code",
   "execution_count": 28,
   "metadata": {},
   "outputs": [
    {
     "name": "stdout",
     "output_type": "stream",
     "text": [
      "~~~~~~~~~~~~~~~~~~~~~~~~~~~~~~~~~~~~~~~~~~~~~~~~~~~~~~~~~~~~~~~~~~~~~\n",
      "Running tests\n",
      "\n",
      "---------------------------------------------------------------------\n",
      "Test summary\n",
      "    Passed: 4\n",
      "    Failed: 0\n",
      "[ooooooooook] 100.0% passed\n",
      "\n"
     ]
    },
    {
     "data": {
      "application/javascript": [
       "IPython.notebook.save_checkpoint();"
      ],
      "text/plain": [
       "<IPython.core.display.Javascript object>"
      ]
     },
     "metadata": {},
     "output_type": "display_data"
    },
    {
     "data": {
      "application/javascript": [
       "IPython.notebook.save_notebook();"
      ],
      "text/plain": [
       "<IPython.core.display.Javascript object>"
      ]
     },
     "metadata": {},
     "output_type": "display_data"
    },
    {
     "name": "stdout",
     "output_type": "stream",
     "text": [
      "Saving notebook... Saved 'hw2.ipynb'.\n",
      "Backup... 100% complete\n",
      "Backup successful for user: kath.eddinger@berkeley.edu\n",
      "URL: https://okpy.org/cal/ds100/fa17/hw2/backups/wpqMzr\n",
      "NOTE: this is only a backup. To submit your assignment, use:\n",
      "\tpython3 ok --submit\n",
      "\n"
     ]
    }
   ],
   "source": [
    "_ = ok.grade('q03b')\n",
    "_ = ok.backup()"
   ]
  },
  {
   "cell_type": "markdown",
   "metadata": {},
   "source": [
    "We see that there are many missing values for zip code. There is also some bad data where the postal code got screwed up, e.g., there are 3 'Ca' and 3 'CA' values. Additionally, there are some extended postal codes that are 9 digits long, rather than the typical 5 digits.\n",
    "\n",
    "Let's clean up the extended zip codes by dropping the digits beyond the first 5. It's typically good practice to keep the original values when we are manipulating data and place the modified data in a new column in the DataFrame. We'll call the new column `zip_code`."
   ]
  },
  {
   "cell_type": "code",
   "execution_count": 29,
   "metadata": {},
   "outputs": [
    {
     "data": {
      "text/plain": [
       "94110    586\n",
       "94103    559\n",
       "94102    458\n",
       "94107    451\n",
       "94133    417\n",
       "94109    383\n",
       "94111    282\n",
       "94122    270\n",
       "NaN      259\n",
       "94118    243\n",
       "94115    238\n",
       "94114    230\n",
       "94105    226\n",
       "94108    224\n",
       "94117    197\n",
       "94112    190\n",
       "94123    169\n",
       "94124    164\n",
       "94121    161\n",
       "94132    134\n",
       "94104    133\n",
       "94116     93\n",
       "94134     74\n",
       "94127     71\n",
       "94131     48\n",
       "94158     17\n",
       "94130      8\n",
       "94143      5\n",
       "Ca         3\n",
       "CA         3\n",
       "94101      2\n",
       "94129      2\n",
       "94013      2\n",
       "94014      2\n",
       "94188      1\n",
       "94602      1\n",
       "941        1\n",
       "00000      1\n",
       "92672      1\n",
       "95105      1\n",
       "94066      1\n",
       "94120      1\n",
       "94609      1\n",
       "94621      1\n",
       "94545      1\n",
       "Name: zip_code, dtype: int64"
      ]
     },
     "execution_count": 29,
     "metadata": {},
     "output_type": "execute_result"
    }
   ],
   "source": [
    "# Run me\n",
    "bus['zip_code'] = bus['postal_code'].str[:5]\n",
    "bus['zip_code'].value_counts(dropna=False)"
   ]
  },
  {
   "cell_type": "markdown",
   "metadata": {
    "tags": [
     "written"
    ]
   },
   "source": [
    "#### Question 3c\n",
    "\n",
    "We notice that there are still a lot of missing values!  Examine the businesses with missing zipcode values.  Pay attention to their addresses.  Are there any patterns to missing values in zip codes?\n",
    "\n",
    "**Hint:** You can use `.iloc` to look at different sections of the DataFrame."
   ]
  },
  {
   "cell_type": "code",
   "execution_count": 30,
   "metadata": {
    "collapsed": true
   },
   "outputs": [],
   "source": [
    "z = bus.loc[bus['zip_code'].isnull()]\n",
    "\n",
    "# x = bus.loc[bus[\"longitude\"].isnull()].groupby([\"longitude\"]).count()\n",
    "# x.head()\n",
    "\n",
    "# z.groupby(\"address\").count()\n",
    "\n",
    "# #check that the missing zipcode businesses that have a latitude value also have a longitude value\n",
    "# print (z.loc[bus[\"latitude\"].isnull()].count() == z.loc[bus[\"longitude\"].isnull()].count())\n",
    "\n",
    "# #check the addresses of businesses to see if similar addresses are near the same lat & lon\n",
    "# z.groupby([\"address\", \"latitude\", \"longitude\"]).count()\n",
    "\n",
    "\n",
    "#check the addresses of businesses without lat/lon and zipcode... \n",
    "#since all businesses with a lat have a lon and vice versa, we can just pick lat or lon\n",
    "# z.loc[bus[\"latitude\"].isnull()].count()"
   ]
  },
  {
   "cell_type": "code",
   "execution_count": 31,
   "metadata": {
    "tags": [
     "student",
     "written"
    ]
   },
   "outputs": [
    {
     "data": {
      "text/markdown": [
       "\n",
       "\n",
       "It appears there are two main categories of businesses without zipcodes: \n",
       "ones with latitude & longitude values, and ones without. \n",
       "\n",
       "Those without lat & lon values--:\n",
       "    Majority are businesses located at \"Off The Grid\"\n",
       "    \n",
       "Businesses with latitude & longitude values:\n",
       "    All business that have a lat & lon value but no zipcode appear to all be located at\n",
       "    (lat 37, lon -122), which are locations in San Francisco.\n",
       "    \n"
      ],
      "text/plain": [
       "<IPython.core.display.Markdown object>"
      ]
     },
     "metadata": {},
     "output_type": "display_data"
    }
   ],
   "source": [
    "# Use this cell for your explorations.\n",
    "q3c_answer = r\"\"\"\n",
    "\n",
    "It appears there are two main categories of businesses without zipcodes: \n",
    "ones with latitude & longitude values, and ones without. \n",
    "\n",
    "Those without lat & lon values--:\n",
    "    Majority are businesses located at \"Off The Grid\"\n",
    "    \n",
    "Businesses with latitude & longitude values:\n",
    "    All business that have a lat & lon value but no zipcode appear to all be located at\n",
    "    (lat 37, lon -122), which are locations in San Francisco.\n",
    "    \n",
    "\"\"\"\n",
    "\n",
    "display(Markdown(q3c_answer))"
   ]
  },
  {
   "cell_type": "markdown",
   "metadata": {
    "tags": [
     "written"
    ]
   },
   "source": [
    "#### Question 3d\n",
    "\n",
    "Often times, we need to get additional information in order to understand whether or not the data are bad values or simply unusual values. With zip codes, we can use the Internet to investigate the zip codes that have only a few businesses. Investigate the restaurants at the following zip codes: *94545*, *94602*, and *94609*.  \n",
    "\n",
    "Briefly describe why these strange zip codes might be appropriate.  Where are they located and how might they relate to San Francisco?\n"
   ]
  },
  {
   "cell_type": "code",
   "execution_count": 32,
   "metadata": {},
   "outputs": [
    {
     "data": {
      "text/html": [
       "<div>\n",
       "<style>\n",
       "    .dataframe thead tr:only-child th {\n",
       "        text-align: right;\n",
       "    }\n",
       "\n",
       "    .dataframe thead th {\n",
       "        text-align: left;\n",
       "    }\n",
       "\n",
       "    .dataframe tbody tr th {\n",
       "        vertical-align: top;\n",
       "    }\n",
       "</style>\n",
       "<table border=\"1\" class=\"dataframe\">\n",
       "  <thead>\n",
       "    <tr style=\"text-align: right;\">\n",
       "      <th></th>\n",
       "      <th>business_id</th>\n",
       "      <th>name</th>\n",
       "      <th>address</th>\n",
       "      <th>city</th>\n",
       "      <th>state</th>\n",
       "      <th>postal_code</th>\n",
       "      <th>latitude</th>\n",
       "      <th>longitude</th>\n",
       "      <th>phone_number</th>\n",
       "    </tr>\n",
       "    <tr>\n",
       "      <th>zip_code</th>\n",
       "      <th></th>\n",
       "      <th></th>\n",
       "      <th></th>\n",
       "      <th></th>\n",
       "      <th></th>\n",
       "      <th></th>\n",
       "      <th></th>\n",
       "      <th></th>\n",
       "      <th></th>\n",
       "    </tr>\n",
       "  </thead>\n",
       "  <tbody>\n",
       "    <tr>\n",
       "      <th>94545</th>\n",
       "      <td>5755</td>\n",
       "      <td>J &amp; J VENDING</td>\n",
       "      <td>VARIOUS LOACATIONS (17)</td>\n",
       "      <td>San Francisco</td>\n",
       "      <td>CA</td>\n",
       "      <td>94545</td>\n",
       "      <td>NaN</td>\n",
       "      <td>NaN</td>\n",
       "      <td>+14156750910</td>\n",
       "    </tr>\n",
       "    <tr>\n",
       "      <th>94602</th>\n",
       "      <td>85459</td>\n",
       "      <td>ORBIT ROOM</td>\n",
       "      <td>1900 MARKET ST</td>\n",
       "      <td>San Francisco</td>\n",
       "      <td>CA</td>\n",
       "      <td>94602</td>\n",
       "      <td>NaN</td>\n",
       "      <td>NaN</td>\n",
       "      <td>+14153705584</td>\n",
       "    </tr>\n",
       "    <tr>\n",
       "      <th>94609</th>\n",
       "      <td>65673</td>\n",
       "      <td>DOC'S OF THE BAY</td>\n",
       "      <td>PUBLIC RIGHT OF WAY</td>\n",
       "      <td>San Francisco</td>\n",
       "      <td>CA</td>\n",
       "      <td>94609</td>\n",
       "      <td>37.834628</td>\n",
       "      <td>-122.264171</td>\n",
       "      <td>+14156883245</td>\n",
       "    </tr>\n",
       "  </tbody>\n",
       "</table>\n",
       "</div>"
      ],
      "text/plain": [
       "          business_id              name                  address  \\\n",
       "zip_code                                                           \n",
       "94545            5755     J & J VENDING  VARIOUS LOACATIONS (17)   \n",
       "94602           85459        ORBIT ROOM          1900 MARKET ST    \n",
       "94609           65673  DOC'S OF THE BAY    PUBLIC RIGHT OF WAY     \n",
       "\n",
       "                   city state postal_code   latitude   longitude  phone_number  \n",
       "zip_code                                                                        \n",
       "94545     San Francisco    CA       94545        NaN         NaN  +14156750910  \n",
       "94602     San Francisco    CA       94602        NaN         NaN  +14153705584  \n",
       "94609     San Francisco    CA       94609  37.834628 -122.264171  +14156883245  "
      ]
     },
     "execution_count": 32,
     "metadata": {},
     "output_type": "execute_result"
    }
   ],
   "source": [
    "bus.set_index('zip_code').loc[[\"94545\", \"94602\", \"94609\"]]"
   ]
  },
  {
   "cell_type": "code",
   "execution_count": 33,
   "metadata": {
    "tags": [
     "student",
     "written"
    ]
   },
   "outputs": [
    {
     "data": {
      "text/markdown": [
       "\n",
       "\n",
       "\n",
       "94545 - This is a zipcode for Hayward and Russell City, CA ; located in Alameda County (not SF, but \n",
       "        still Bay Area). \n",
       "        This zipcode also happens to be near \"Off the Grid:Hayward\"\n",
       "        Looking at \"address\" we can see that this business \"J & J VENDING\" is located at \"VARIOUS LOCATIONS.\"\n",
       "        It would make sense to group all the \"J & J VENDING\" locations to one central address.\n",
       "    \n",
       "\n",
       "94602 - This is a zipcode for Oakland, CA. The restaurant \"ORBIT ROOM\" is located at 1900 Market St. Upon \n",
       "        further inspection, I found that there is a 1900 Market St in both SF and Oakland. Further, Orbit Room's\n",
       "        website shows that it is located at 1900 Market St in SF. So this zipcode might actually be inappropriate.\n",
       "\n",
       "94609 - This is a zipcode for Oakland, CA. The address is a bit strange, so I looked up Public Right of Way. \n",
       "        This turns out to be \"an easement for public travel,\" which generally includes roads, highways, sidewalks,\n",
       "        and the like. Sounds a lot like \"Off the Grid.\" Turns out \"Off the Grid: The Lot\" is located nearby \n",
       "        (though, technically \"Off the Grid: The Lot\"'s address is at 94607). There is also an \"Off the Grid: \n",
       "        Emeryville\" located near this zipcode.\n",
       "\n"
      ],
      "text/plain": [
       "<IPython.core.display.Markdown object>"
      ]
     },
     "metadata": {},
     "output_type": "display_data"
    }
   ],
   "source": [
    "# Use this cell for your explorations.\n",
    "q3d_answer = r\"\"\"\n",
    "\n",
    "\n",
    "94545 - This is a zipcode for Hayward and Russell City, CA ; located in Alameda County (not SF, but \n",
    "        still Bay Area). \n",
    "        This zipcode also happens to be near \"Off the Grid:Hayward\"\n",
    "        Looking at \"address\" we can see that this business \"J & J VENDING\" is located at \"VARIOUS LOCATIONS.\"\n",
    "        It would make sense to group all the \"J & J VENDING\" locations to one central address.\n",
    "    \n",
    "\n",
    "94602 - This is a zipcode for Oakland, CA. The restaurant \"ORBIT ROOM\" is located at 1900 Market St. Upon \n",
    "        further inspection, I found that there is a 1900 Market St in both SF and Oakland. Further, Orbit Room's\n",
    "        website shows that it is located at 1900 Market St in SF. So this zipcode might actually be inappropriate.\n",
    "\n",
    "94609 - This is a zipcode for Oakland, CA. The address is a bit strange, so I looked up Public Right of Way. \n",
    "        This turns out to be \"an easement for public travel,\" which generally includes roads, highways, sidewalks,\n",
    "        and the like. Sounds a lot like \"Off the Grid.\" Turns out \"Off the Grid: The Lot\" is located nearby \n",
    "        (though, technically \"Off the Grid: The Lot\"'s address is at 94607). There is also an \"Off the Grid: \n",
    "        Emeryville\" located near this zipcode.\n",
    "\n",
    "\"\"\"\n",
    "\n",
    "display(Markdown(q3d_answer))"
   ]
  },
  {
   "cell_type": "markdown",
   "metadata": {},
   "source": [
    "#### Question 3e\n",
    "\n",
    "Often want to clean the data to improve our analysis. This cleaning might include changing values for a variable or dropping records.\n",
    "\n",
    "Let's correct 94602 to the more likely value based on your analysis.  Let's modify the derived field `zip_code` using `bus['zip_code'].str.replace` to replace 94602 with the correct value."
   ]
  },
  {
   "cell_type": "code",
   "execution_count": 34,
   "metadata": {
    "collapsed": true,
    "tags": [
     "student"
    ]
   },
   "outputs": [],
   "source": [
    "\n",
    "bus['zip_code'] = bus['zip_code'].str.replace(\"94602\", \"94102\")"
   ]
  },
  {
   "cell_type": "code",
   "execution_count": 35,
   "metadata": {},
   "outputs": [
    {
     "name": "stdout",
     "output_type": "stream",
     "text": [
      "~~~~~~~~~~~~~~~~~~~~~~~~~~~~~~~~~~~~~~~~~~~~~~~~~~~~~~~~~~~~~~~~~~~~~\n",
      "Running tests\n",
      "\n",
      "---------------------------------------------------------------------\n",
      "Test summary\n",
      "    Passed: 1\n",
      "    Failed: 0\n",
      "[ooooooooook] 100.0% passed\n",
      "\n"
     ]
    },
    {
     "data": {
      "application/javascript": [
       "IPython.notebook.save_checkpoint();"
      ],
      "text/plain": [
       "<IPython.core.display.Javascript object>"
      ]
     },
     "metadata": {},
     "output_type": "display_data"
    },
    {
     "data": {
      "application/javascript": [
       "IPython.notebook.save_notebook();"
      ],
      "text/plain": [
       "<IPython.core.display.Javascript object>"
      ]
     },
     "metadata": {},
     "output_type": "display_data"
    },
    {
     "name": "stdout",
     "output_type": "stream",
     "text": [
      "Saving notebook... Saved 'hw2.ipynb'.\n",
      "Backup... 100% complete\n",
      "Backup successful for user: kath.eddinger@berkeley.edu\n",
      "URL: https://okpy.org/cal/ds100/fa17/hw2/backups/xkrOAl\n",
      "NOTE: this is only a backup. To submit your assignment, use:\n",
      "\tpython3 ok --submit\n",
      "\n"
     ]
    }
   ],
   "source": [
    "_ = ok.grade('q03e')\n",
    "_ = ok.backup()"
   ]
  },
  {
   "cell_type": "markdown",
   "metadata": {},
   "source": [
    "## Latitude and Longitude\n",
    "\n",
    "Another aspect of the data we want to consider is the prevalence of missing values. If many records have missing values then we might be concerned about whether the nonmissing values are represenative of the population.\n",
    "\n",
    "### Question 4\n",
    " \n",
    "Consider the longitude and latitude in the business DataFrame. \n",
    "\n",
    "#### Question 4a\n",
    "\n",
    "How many businesses are missing longitude and latitude values?"
   ]
  },
  {
   "cell_type": "code",
   "execution_count": 36,
   "metadata": {
    "collapsed": true,
    "tags": [
     "student"
    ]
   },
   "outputs": [],
   "source": [
    "##check that latitude and longitude have the same number of missing values\n",
    "# bus.loc[bus[\"latitude\"].isnull()].count() == z.loc[bus[\"longitude\"].isnull()].count()\n",
    "\n",
    "missing_latlongs = bus.loc[bus[\"latitude\"].isnull()].count()[\"business_id\"]"
   ]
  },
  {
   "cell_type": "code",
   "execution_count": 37,
   "metadata": {},
   "outputs": [
    {
     "name": "stdout",
     "output_type": "stream",
     "text": [
      "~~~~~~~~~~~~~~~~~~~~~~~~~~~~~~~~~~~~~~~~~~~~~~~~~~~~~~~~~~~~~~~~~~~~~\n",
      "Running tests\n",
      "\n",
      "---------------------------------------------------------------------\n",
      "Test summary\n",
      "    Passed: 1\n",
      "    Failed: 0\n",
      "[ooooooooook] 100.0% passed\n",
      "\n"
     ]
    },
    {
     "data": {
      "application/javascript": [
       "IPython.notebook.save_checkpoint();"
      ],
      "text/plain": [
       "<IPython.core.display.Javascript object>"
      ]
     },
     "metadata": {},
     "output_type": "display_data"
    },
    {
     "data": {
      "application/javascript": [
       "IPython.notebook.save_notebook();"
      ],
      "text/plain": [
       "<IPython.core.display.Javascript object>"
      ]
     },
     "metadata": {},
     "output_type": "display_data"
    },
    {
     "name": "stdout",
     "output_type": "stream",
     "text": [
      "Saving notebook... Saved 'hw2.ipynb'.\n",
      "Backup... 100% complete\n",
      "Backup successful for user: kath.eddinger@berkeley.edu\n",
      "URL: https://okpy.org/cal/ds100/fa17/hw2/backups/yPvQB6\n",
      "NOTE: this is only a backup. To submit your assignment, use:\n",
      "\tpython3 ok --submit\n",
      "\n"
     ]
    }
   ],
   "source": [
    "_ = ok.grade('q04a')\n",
    "_ = ok.backup()"
   ]
  },
  {
   "cell_type": "markdown",
   "metadata": {
    "collapsed": true
   },
   "source": [
    "Do some zip codes have more than their fair share of missing lat/lon values?\n",
    "\n",
    "Let's reduce our comparison to just those zips that are in SF and that have many businesses. Below is a list of zip codes."
   ]
  },
  {
   "cell_type": "code",
   "execution_count": 38,
   "metadata": {
    "collapsed": true
   },
   "outputs": [],
   "source": [
    "validZip = [\"94102\", \"94103\", \"94104\", \"94105\", \"94107\", \"94108\",\n",
    "            \"94109\", \"94110\", \"94111\", \"94112\", \"94114\", \"94115\",\n",
    "            \"94116\", \"94117\", \"94118\", \"94121\", \"94122\", \"94123\", \n",
    "            \"94124\", \"94127\", \"94131\", \"94132\", \"94133\", \"94134\"]"
   ]
  },
  {
   "cell_type": "code",
   "execution_count": null,
   "metadata": {
    "collapsed": true
   },
   "outputs": [],
   "source": [
    "\n"
   ]
  },
  {
   "cell_type": "code",
   "execution_count": 39,
   "metadata": {
    "collapsed": true
   },
   "outputs": [],
   "source": [
    "# w = bus.loc[bus['zip_code'].notnull()]\n",
    "# w.head()\n",
    "\n",
    "# bus['zip_code'].isin(validZip)\n",
    "# j = bus.groupby('zip_code').count()\n",
    "# # j.loc[j['zip_code'].isin(validZip).isnull()]\n",
    "\n",
    "# j.head()\n",
    "# j.loc[j.where(bus['zip_code'].isin(validZip)==True)]\n",
    "\n",
    "\n",
    "# t[\"zip_code\"]\n",
    "# t[\"zip_code\"].unique()\n",
    "\n",
    "# j.isnull().count()\n",
    "# v = bus.where(bus['zip_code'].isin(validZip)==True)\n",
    "# v.head()\n",
    "# v.groupby('zip_code').count()\n",
    "\n",
    "# v[\"zip_code\"].count()\n"
   ]
  },
  {
   "cell_type": "markdown",
   "metadata": {},
   "source": [
    "#### Question 4b\n",
    "\n",
    "For these zip codes find the number of businesses in each zip code and the number without longitude values. Do any zip codes appear to have more than their 'fair share' of missing longitude? To answer this, you will want to compare the proportion of missing values for each zip code.\n",
    "\n",
    "Create a new dataframe of counts of the null and proportion of null values, storing the result in `bus_sf_latlong`. It should have 3 columns:\n",
    "\n",
    "1. `zip_code`: Contains the zip codes in the `validZip` variable above.\n",
    "2. `null_lon`: The number of missing values for the zip code.\n",
    "3. `not_null_lon`: The proportion of present values for the zip code."
   ]
  },
  {
   "cell_type": "code",
   "execution_count": 40,
   "metadata": {
    "collapsed": true
   },
   "outputs": [],
   "source": [
    "# You might want to filter the bus dataframe to contain only the validZip\n",
    "\n",
    "bus_sf = bus.loc[bus['zip_code'].isin(validZip),].copy()\n",
    "\n",
    "null_lon = bus_sf.loc[bus[\"longitude\"].isnull()].groupby('zip_code').count()\n",
    "null_lon.drop([\"business_id\",\"latitude\",\"postal_code\",\"longitude\", \"city\", \"state\", \"address\", \"phone_number\"],\n",
    "                axis=1,\n",
    "                inplace=True)\n",
    "\n",
    "\n",
    "not_null_lon = bus_sf.loc[bus[\"longitude\"].notnull()].groupby('zip_code').count()\n",
    "not_null_lon.drop([\"business_id\",\"latitude\",\"name\",\"postal_code\", \"city\", \"state\", \"address\", \"phone_number\"],\n",
    "                axis=1,\n",
    "                inplace=True)\n",
    "\n",
    "\n",
    "bus_sf_latlong = pd.DataFrame({\"zip_code\": validZip, \"null_lon\":null_lon['name'],\n",
    "                               \"not_null_lon\":not_null_lon['longitude']\n",
    "                            })"
   ]
  },
  {
   "cell_type": "code",
   "execution_count": 41,
   "metadata": {},
   "outputs": [
    {
     "name": "stdout",
     "output_type": "stream",
     "text": [
      "~~~~~~~~~~~~~~~~~~~~~~~~~~~~~~~~~~~~~~~~~~~~~~~~~~~~~~~~~~~~~~~~~~~~~\n",
      "Running tests\n",
      "\n",
      "---------------------------------------------------------------------\n",
      "Test summary\n",
      "    Passed: 1\n",
      "    Failed: 0\n",
      "[ooooooooook] 100.0% passed\n",
      "\n"
     ]
    },
    {
     "data": {
      "application/javascript": [
       "IPython.notebook.save_checkpoint();"
      ],
      "text/plain": [
       "<IPython.core.display.Javascript object>"
      ]
     },
     "metadata": {},
     "output_type": "display_data"
    },
    {
     "data": {
      "application/javascript": [
       "IPython.notebook.save_notebook();"
      ],
      "text/plain": [
       "<IPython.core.display.Javascript object>"
      ]
     },
     "metadata": {},
     "output_type": "display_data"
    },
    {
     "name": "stdout",
     "output_type": "stream",
     "text": [
      "Saving notebook... Saved 'hw2.ipynb'.\n",
      "Backup... 100% complete\n",
      "Backup successful for user: kath.eddinger@berkeley.edu\n",
      "URL: https://okpy.org/cal/ds100/fa17/hw2/backups/zpwVDq\n",
      "NOTE: this is only a backup. To submit your assignment, use:\n",
      "\tpython3 ok --submit\n",
      "\n"
     ]
    }
   ],
   "source": [
    "_ = ok.grade('q04b')\n",
    "_ = ok.backup()"
   ]
  },
  {
   "cell_type": "markdown",
   "metadata": {},
   "source": [
    "## Summary of the business data\n",
    "\n",
    "Before we move on to explore the other data, let's take stock of what we have learned and the implications of our findings on future analysis. \n",
    "\n",
    "* We found that the business id is unique across records and so we may be able to use it as a key in joining tables. \n",
    "* We also found that there are some bad values in zip code. As a result, we may want to drop the records with zip codes outside of San Francisco or to treat them differently. For some of the bad values, we may want to take the time to look up the restaurant address online and fix these errors.   \n",
    "* We also found that there are many missing values in latitude and longitude. These may have implications on map making and geographic patterns if the missingness is related to location or restaurant score."
   ]
  },
  {
   "cell_type": "markdown",
   "metadata": {},
   "source": [
    "# Investigate the inspection data\n",
    "\n",
    "Let's now turn to the inspection DataFrame. Earlier, we found that `ins` has 4 columns, these are named `business_id`, `score`, `date` and `type`.  In this section, we determine the granularity of `ins` and investigate the kinds of information provided for the inspections. \n",
    "\n",
    "### Question 5\n",
    "\n",
    "#### Question 5a\n",
    "As with the business data, assess whether there is one inspection record for each business. "
   ]
  },
  {
   "cell_type": "code",
   "execution_count": 42,
   "metadata": {
    "collapsed": true,
    "tags": [
     "student"
    ]
   },
   "outputs": [],
   "source": [
    "# The number of rows in ins\n",
    "rows_in_table = ins.shape[0]\n",
    "\n",
    "# The number of unique IDs in ins.\n",
    "unique_ins_ids = ins[\"business_id\"].unique().shape[0]\n",
    "\n",
    "# print(rows_in_table)\n",
    "# print(ins[\"business_id\"].unique().shape[0])\n",
    "\n",
    "# What does this tell you?\n",
    "# This tells you that there are many entries for some businesses"
   ]
  },
  {
   "cell_type": "code",
   "execution_count": 43,
   "metadata": {},
   "outputs": [
    {
     "name": "stdout",
     "output_type": "stream",
     "text": [
      "~~~~~~~~~~~~~~~~~~~~~~~~~~~~~~~~~~~~~~~~~~~~~~~~~~~~~~~~~~~~~~~~~~~~~\n",
      "Running tests\n",
      "\n",
      "---------------------------------------------------------------------\n",
      "Test summary\n",
      "    Passed: 1\n",
      "    Failed: 0\n",
      "[ooooooooook] 100.0% passed\n",
      "\n"
     ]
    },
    {
     "data": {
      "application/javascript": [
       "IPython.notebook.save_checkpoint();"
      ],
      "text/plain": [
       "<IPython.core.display.Javascript object>"
      ]
     },
     "metadata": {},
     "output_type": "display_data"
    },
    {
     "data": {
      "application/javascript": [
       "IPython.notebook.save_notebook();"
      ],
      "text/plain": [
       "<IPython.core.display.Javascript object>"
      ]
     },
     "metadata": {},
     "output_type": "display_data"
    },
    {
     "name": "stdout",
     "output_type": "stream",
     "text": [
      "Saving notebook... Could not save your notebook. Make sure your notebook is saved before sending it to OK!\n",
      "Backup... 100% complete\n",
      "Backup successful for user: kath.eddinger@berkeley.edu\n",
      "URL: https://okpy.org/cal/ds100/fa17/hw2/backups/BBYlAQ\n",
      "NOTE: this is only a backup. To submit your assignment, use:\n",
      "\tpython3 ok --submit\n",
      "\n"
     ]
    }
   ],
   "source": [
    "_ = ok.grade('q05a')\n",
    "_ = ok.backup()"
   ]
  },
  {
   "cell_type": "markdown",
   "metadata": {},
   "source": [
    "#### Question 5b\n",
    "\n",
    "Next, we examine the `type` variable. From examining the first few rows of `ins`, we see that `type` is a string and one of the values in the string is 'routine', presumably for a routine inspection. What values does `type` take on? How many occurrences of each value is in the DataFrame? What are the implications for further analysis?"
   ]
  },
  {
   "cell_type": "code",
   "execution_count": 44,
   "metadata": {
    "tags": [
     "student"
    ]
   },
   "outputs": [
    {
     "data": {
      "text/html": [
       "<div>\n",
       "<style>\n",
       "    .dataframe thead tr:only-child th {\n",
       "        text-align: right;\n",
       "    }\n",
       "\n",
       "    .dataframe thead th {\n",
       "        text-align: left;\n",
       "    }\n",
       "\n",
       "    .dataframe tbody tr th {\n",
       "        vertical-align: top;\n",
       "    }\n",
       "</style>\n",
       "<table border=\"1\" class=\"dataframe\">\n",
       "  <thead>\n",
       "    <tr style=\"text-align: right;\">\n",
       "      <th></th>\n",
       "      <th>business_id</th>\n",
       "      <th>score</th>\n",
       "      <th>date</th>\n",
       "    </tr>\n",
       "    <tr>\n",
       "      <th>type</th>\n",
       "      <th></th>\n",
       "      <th></th>\n",
       "      <th></th>\n",
       "    </tr>\n",
       "  </thead>\n",
       "  <tbody>\n",
       "    <tr>\n",
       "      <th>complaint</th>\n",
       "      <td>1</td>\n",
       "      <td>1</td>\n",
       "      <td>1</td>\n",
       "    </tr>\n",
       "    <tr>\n",
       "      <th>routine</th>\n",
       "      <td>15429</td>\n",
       "      <td>15429</td>\n",
       "      <td>15429</td>\n",
       "    </tr>\n",
       "  </tbody>\n",
       "</table>\n",
       "</div>"
      ],
      "text/plain": [
       "           business_id  score   date\n",
       "type                                \n",
       "complaint            1      1      1\n",
       "routine          15429  15429  15429"
      ]
     },
     "execution_count": 44,
     "metadata": {},
     "output_type": "execute_result"
    }
   ],
   "source": [
    "# use this cell for scratch work\n",
    "ins['type'].dtype\n",
    "ins.groupby('type').count()\n",
    "# ins['type'].isnull()"
   ]
  },
  {
   "cell_type": "code",
   "execution_count": 45,
   "metadata": {
    "tags": [
     "student",
     "written"
    ]
   },
   "outputs": [
    {
     "data": {
      "text/markdown": [
       "\n",
       "\n",
       "    'type' takes on the values 'routine' and 'complaint.' There are 15429 occurances of 'routine' and \n",
       "    1 occurance of 'complaint'. Since there are no null values in ins['type'], this might mean that\n",
       "    'complaint' is an outlier, so we might want to drop that row.\n",
       "\n",
       "\n"
      ],
      "text/plain": [
       "<IPython.core.display.Markdown object>"
      ]
     },
     "metadata": {},
     "output_type": "display_data"
    }
   ],
   "source": [
    "q5b_answer = r\"\"\"\n",
    "\n",
    "    'type' takes on the values 'routine' and 'complaint.' There are 15429 occurances of 'routine' and \n",
    "    1 occurance of 'complaint'. Since there are no null values in ins['type'], this might mean that\n",
    "    'complaint' is an outlier, so we might want to drop that row.\n",
    "\n",
    "\n",
    "\"\"\"\n",
    "\n",
    "display(Markdown(q5b_answer))"
   ]
  },
  {
   "cell_type": "markdown",
   "metadata": {},
   "source": [
    "#### Question 5c\n",
    "\n",
    "Since the data was stored in a .csv file, the dates are formatted as strings such as `20160503`. Once we read in the data, we would like to have dates in an appropriate format for analsysis. Add a new column called `new_date` which formats the `date` into a datetime object. Then add a column called `year` with only the year.\n",
    "\n",
    "*Hint: You'll want to use the `pd.datetime` functionality at some point.*"
   ]
  },
  {
   "cell_type": "code",
   "execution_count": 46,
   "metadata": {
    "collapsed": true
   },
   "outputs": [],
   "source": [
    "ins['new_date'] = pd.to_datetime(ins['date'], format='%Y%m%d', infer_datetime_format=True)\n",
    "\n",
    "ins['year'] = pd.to_datetime(ins['new_date']).dt.year"
   ]
  },
  {
   "cell_type": "code",
   "execution_count": 47,
   "metadata": {},
   "outputs": [
    {
     "name": "stdout",
     "output_type": "stream",
     "text": [
      "~~~~~~~~~~~~~~~~~~~~~~~~~~~~~~~~~~~~~~~~~~~~~~~~~~~~~~~~~~~~~~~~~~~~~\n",
      "Running tests\n",
      "\n",
      "---------------------------------------------------------------------\n",
      "Test summary\n",
      "    Passed: 1\n",
      "    Failed: 0\n",
      "[ooooooooook] 100.0% passed\n",
      "\n"
     ]
    },
    {
     "data": {
      "application/javascript": [
       "IPython.notebook.save_checkpoint();"
      ],
      "text/plain": [
       "<IPython.core.display.Javascript object>"
      ]
     },
     "metadata": {},
     "output_type": "display_data"
    },
    {
     "data": {
      "application/javascript": [
       "IPython.notebook.save_notebook();"
      ],
      "text/plain": [
       "<IPython.core.display.Javascript object>"
      ]
     },
     "metadata": {},
     "output_type": "display_data"
    },
    {
     "name": "stdout",
     "output_type": "stream",
     "text": [
      "Saving notebook... Saved 'hw2.ipynb'.\n",
      "Backup... 100% complete\n",
      "Backup successful for user: kath.eddinger@berkeley.edu\n",
      "URL: https://okpy.org/cal/ds100/fa17/hw2/backups/DkVpD6\n",
      "NOTE: this is only a backup. To submit your assignment, use:\n",
      "\tpython3 ok --submit\n",
      "\n"
     ]
    }
   ],
   "source": [
    "_ = ok.grade('q05c')\n",
    "_ = ok.backup()"
   ]
  },
  {
   "cell_type": "markdown",
   "metadata": {
    "tags": [
     "written"
    ]
   },
   "source": [
    "#### Question 5d\n",
    "\n",
    "What range of years is covered in this data set? Are there roughly same number of inspections each year?"
   ]
  },
  {
   "cell_type": "code",
   "execution_count": 48,
   "metadata": {},
   "outputs": [
    {
     "data": {
      "text/html": [
       "<div>\n",
       "<style>\n",
       "    .dataframe thead tr:only-child th {\n",
       "        text-align: right;\n",
       "    }\n",
       "\n",
       "    .dataframe thead th {\n",
       "        text-align: left;\n",
       "    }\n",
       "\n",
       "    .dataframe tbody tr th {\n",
       "        vertical-align: top;\n",
       "    }\n",
       "</style>\n",
       "<table border=\"1\" class=\"dataframe\">\n",
       "  <thead>\n",
       "    <tr style=\"text-align: right;\">\n",
       "      <th></th>\n",
       "      <th>business_id</th>\n",
       "      <th>score</th>\n",
       "      <th>date</th>\n",
       "      <th>type</th>\n",
       "      <th>new_date</th>\n",
       "    </tr>\n",
       "    <tr>\n",
       "      <th>year</th>\n",
       "      <th></th>\n",
       "      <th></th>\n",
       "      <th></th>\n",
       "      <th></th>\n",
       "      <th></th>\n",
       "    </tr>\n",
       "  </thead>\n",
       "  <tbody>\n",
       "    <tr>\n",
       "      <th>2013</th>\n",
       "      <td>38</td>\n",
       "      <td>38</td>\n",
       "      <td>38</td>\n",
       "      <td>38</td>\n",
       "      <td>38</td>\n",
       "    </tr>\n",
       "    <tr>\n",
       "      <th>2014</th>\n",
       "      <td>5629</td>\n",
       "      <td>5629</td>\n",
       "      <td>5629</td>\n",
       "      <td>5629</td>\n",
       "      <td>5629</td>\n",
       "    </tr>\n",
       "    <tr>\n",
       "      <th>2015</th>\n",
       "      <td>3923</td>\n",
       "      <td>3923</td>\n",
       "      <td>3923</td>\n",
       "      <td>3923</td>\n",
       "      <td>3923</td>\n",
       "    </tr>\n",
       "    <tr>\n",
       "      <th>2016</th>\n",
       "      <td>5840</td>\n",
       "      <td>5840</td>\n",
       "      <td>5840</td>\n",
       "      <td>5840</td>\n",
       "      <td>5840</td>\n",
       "    </tr>\n",
       "  </tbody>\n",
       "</table>\n",
       "</div>"
      ],
      "text/plain": [
       "      business_id  score  date  type  new_date\n",
       "year                                          \n",
       "2013           38     38    38    38        38\n",
       "2014         5629   5629  5629  5629      5629\n",
       "2015         3923   3923  3923  3923      3923\n",
       "2016         5840   5840  5840  5840      5840"
      ]
     },
     "execution_count": 48,
     "metadata": {},
     "output_type": "execute_result"
    }
   ],
   "source": [
    "# ins['year'].unique()\n",
    "ins.groupby('year').count()\n"
   ]
  },
  {
   "cell_type": "code",
   "execution_count": 49,
   "metadata": {
    "tags": [
     "student",
     "written"
    ]
   },
   "outputs": [
    {
     "data": {
      "text/markdown": [
       "\n",
       "\n",
       "The data covers the years 2013-2016. 2013 has very few inspections; inspections from 2014-16 \n",
       "account for most of the data. 2015 has a roughly 2,000 less inspections than 2014 and 2016, repsectively.\n",
       "\n"
      ],
      "text/plain": [
       "<IPython.core.display.Markdown object>"
      ]
     },
     "metadata": {},
     "output_type": "display_data"
    }
   ],
   "source": [
    "q5d_answer = r\"\"\"\n",
    "\n",
    "The data covers the years 2013-2016. 2013 has very few inspections; inspections from 2014-16 \n",
    "account for most of the data. 2015 has a roughly 2,000 less inspections than 2014 and 2016, repsectively.\n",
    "\n",
    "\"\"\"\n",
    "\n",
    "display(Markdown(q5d_answer))"
   ]
  },
  {
   "cell_type": "markdown",
   "metadata": {},
   "source": [
    "Let's examine only the inspections for one year, 2016. This puts businesses on a more equal footing because [inspection guidelines](https://www.sfdph.org/dph/eh/Food/Inspections.asp) generally refer to how many inspections should occur in a given year."
   ]
  },
  {
   "cell_type": "code",
   "execution_count": 50,
   "metadata": {
    "collapsed": true
   },
   "outputs": [],
   "source": [
    "ins2016 = ins[ins['year']==2016]"
   ]
  },
  {
   "cell_type": "markdown",
   "metadata": {},
   "source": [
    "## Explore inspection score\n",
    "\n",
    "### Question 6\n",
    "\n",
    "#### Question 6a\n",
    "What does the distribution of inspection score for 2016 look like? The inspection scores appear to be integer values. The discreteness of this variable means that we can use a barplot to visualize the distribution of the inspection score. Find the counts of the number of inspections in 2016 for each score. Then, make a bar plot of these counts."
   ]
  },
  {
   "cell_type": "code",
   "execution_count": 51,
   "metadata": {
    "collapsed": true
   },
   "outputs": [],
   "source": [
    "scoreCts = ins.groupby('score').count()\n",
    "# scoreCts['business_id']\n",
    "# ins['score'].unique()\n",
    "sorted_scores = np.sort(ins['score'].unique())\n",
    "# print(sorted_scores)\n",
    "# scoreCts"
   ]
  },
  {
   "cell_type": "code",
   "execution_count": 52,
   "metadata": {
    "collapsed": true
   },
   "outputs": [],
   "source": [
    "# type(scoreCts['business_id'].as_matrix())\n",
    "# type(ins['score'].unique())\n",
    "scoreCts['business_id'].as_matrix().mean()\n",
    "grade_a = scoreCts['business_id'].iloc[41:49]\n",
    "# grade_a.sum()"
   ]
  },
  {
   "cell_type": "code",
   "execution_count": 53,
   "metadata": {
    "tags": [
     "student"
    ]
   },
   "outputs": [
    {
     "data": {
      "image/png": "[encoded data removed]",
      "text/plain": [
       "<matplotlib.figure.Figure at 0x1109980b8>"
      ]
     },
     "metadata": {},
     "output_type": "display_data"
    }
   ],
   "source": [
    "plt.bar(sorted_scores,\n",
    "        scoreCts['business_id'].as_matrix())\n",
    "plt.show()"
   ]
  },
  {
   "cell_type": "markdown",
   "metadata": {
    "tags": [
     "written"
    ]
   },
   "source": [
    "#### Question 6b\n",
    "\n",
    "Describe the qualities of the distribution of the inspections scores. Consider the mode(s), symmetry, tails, gaps, and anamolous values. Are there any unusual features of this distribution? What do your observation imply about the scores?"
   ]
  },
  {
   "cell_type": "code",
   "execution_count": 54,
   "metadata": {},
   "outputs": [
    {
     "data": {
      "text/markdown": [
       "\n",
       "\n",
       "This distribution has a long left tail and no right tail. Its general shape looks a bit like an \n",
       "exponential / power curve. Generally, the number of businesses with each score increases as you move right. \n",
       "However, there are a few high scores for which the number of businesses begins to decrease as you \n",
       "move right. There are also gaps between the 4 highest scores. These two things seem unusual.\n",
       "\n",
       "These things imply that most businesses earn a high score, and that the lower the score, \n",
       "the lower the number of businesses with that score (especially scores below the mid-80s). \n",
       "There is also an implication that we are either missing restaurants with certain high scores,\n",
       "or that the scoring process never yields certain high scores (95,97,99). \n"
      ],
      "text/plain": [
       "<IPython.core.display.Markdown object>"
      ]
     },
     "metadata": {},
     "output_type": "display_data"
    }
   ],
   "source": [
    "q6b_answer = r\"\"\"\n",
    "\n",
    "This distribution has a long left tail and no right tail. Its general shape looks a bit like an \n",
    "exponential / power curve. Generally, the number of businesses with each score increases as you move right. \n",
    "However, there are a few high scores for which the number of businesses begins to decrease as you \n",
    "move right. There are also gaps between the 4 highest scores. These two things seem unusual.\n",
    "\n",
    "These things imply that most businesses earn a high score, and that the lower the score, \n",
    "the lower the number of businesses with that score (especially scores below the mid-80s). \n",
    "There is also an implication that we are either missing restaurants with certain high scores,\n",
    "or that the scoring process never yields certain high scores (95,97,99). \n",
    "\"\"\"\n",
    "\n",
    "display(Markdown(q6b_answer))"
   ]
  },
  {
   "cell_type": "code",
   "execution_count": null,
   "metadata": {
    "collapsed": true
   },
   "outputs": [],
   "source": []
  },
  {
   "cell_type": "markdown",
   "metadata": {},
   "source": [
    "#### Question 6c\n",
    "\n",
    "In assessing the granularity, we want to determine if there is one inspection per business per year. How many restaurants had two inspections? Three or more inspections? Create a dict mapping the number of inspections to the number of business ids with that many inspections.\n",
    "\n",
    "*Hint: pandas Series have a to_dict() method.*"
   ]
  },
  {
   "cell_type": "code",
   "execution_count": 55,
   "metadata": {
    "tags": [
     "student"
    ]
   },
   "outputs": [
    {
     "data": {
      "text/plain": [
       "{1: 3329, 2: 1131, 3: 83}"
      ]
     },
     "execution_count": 55,
     "metadata": {},
     "output_type": "execute_result"
    }
   ],
   "source": [
    "numIns2numIDs = (ins2016\n",
    "                 .sort_values(['business_id'])\n",
    "                 .loc[:, ['score','business_id']]\n",
    "                 .groupby(['business_id'])\n",
    "                 .size()\n",
    "                 .value_counts()\n",
    "                 .to_dict()\n",
    "                  )\n",
    "numIns2numIDs"
   ]
  },
  {
   "cell_type": "code",
   "execution_count": 56,
   "metadata": {},
   "outputs": [
    {
     "name": "stdout",
     "output_type": "stream",
     "text": [
      "~~~~~~~~~~~~~~~~~~~~~~~~~~~~~~~~~~~~~~~~~~~~~~~~~~~~~~~~~~~~~~~~~~~~~\n",
      "Running tests\n",
      "\n",
      "---------------------------------------------------------------------\n",
      "Test summary\n",
      "    Passed: 1\n",
      "    Failed: 0\n",
      "[ooooooooook] 100.0% passed\n",
      "\n"
     ]
    },
    {
     "data": {
      "application/javascript": [
       "IPython.notebook.save_checkpoint();"
      ],
      "text/plain": [
       "<IPython.core.display.Javascript object>"
      ]
     },
     "metadata": {},
     "output_type": "display_data"
    },
    {
     "data": {
      "application/javascript": [
       "IPython.notebook.save_notebook();"
      ],
      "text/plain": [
       "<IPython.core.display.Javascript object>"
      ]
     },
     "metadata": {},
     "output_type": "display_data"
    },
    {
     "name": "stdout",
     "output_type": "stream",
     "text": [
      "Saving notebook... Saved 'hw2.ipynb'.\n",
      "Backup... 100% complete\n",
      "Backup successful for user: kath.eddinger@berkeley.edu\n",
      "URL: https://okpy.org/cal/ds100/fa17/hw2/backups/G6VyJK\n",
      "NOTE: this is only a backup. To submit your assignment, use:\n",
      "\tpython3 ok --submit\n",
      "\n"
     ]
    }
   ],
   "source": [
    "_ = ok.grade('q06c')\n",
    "_ = ok.backup()"
   ]
  },
  {
   "cell_type": "markdown",
   "metadata": {},
   "source": [
    "### Restaurants with multiple inspections\n",
    "\n",
    "### Question 7\n",
    "\n",
    "Some restaurants had 3 inspections in a calandar year, but not very many did. To examine the distribution of score among restaurants with two scores, we can look at the change in score from the first inspection.\n",
    "\n",
    "#### Question 7a\n",
    "\n",
    "What's the relationship between the first and second scores for the businesses with 2 inspections in a year? Do they typically improve?\n",
    "\n",
    "First, make a dataframe called, `scores_pairs_by_business`, indexed by business_id (containing only business with exactly 2 inspections in 2016).  This dataframe contains the field `score_pair` consisting of the score pairs ordered chronologically  `[first_score, second_score]`. \n",
    "\n",
    "Plot these scores. That is, make a scatter plot to display these pairs of scores. Include on the plot a reference line with slope 1. \n",
    "\n",
    "You may find the functions `sort_values`, `groupby`, `filter` and `agg` helpful, though not all necessary. \n",
    "\n",
    "The first few rows resulting table should look something like:\n",
    "\n",
    "<table border=\"1\" class=\"dataframe\">\n",
    "  <thead>\n",
    "    <tr style=\"text-align: right;\">\n",
    "      <th></th>\n",
    "      <th>score_pair</th>\n",
    "    </tr>\n",
    "    <tr>\n",
    "      <th>business_id</th>\n",
    "      <th></th>\n",
    "    </tr>\n",
    "  </thead>\n",
    "  <tbody>\n",
    "    <tr>\n",
    "      <th>24</th>\n",
    "      <td>[96, 98]</td>\n",
    "    </tr>\n",
    "    <tr>\n",
    "      <th>45</th>\n",
    "      <td>[78, 84]</td>\n",
    "    </tr>\n",
    "    <tr>\n",
    "      <th>66</th>\n",
    "      <td>[98, 100]</td>\n",
    "    </tr>\n",
    "    <tr>\n",
    "      <th>67</th>\n",
    "      <td>[87, 94]</td>\n",
    "    </tr>\n",
    "    <tr>\n",
    "      <th>76</th>\n",
    "      <td>[100, 98]</td>\n",
    "    </tr>\n",
    "  </tbody>\n",
    "</table>"
   ]
  },
  {
   "cell_type": "code",
   "execution_count": 57,
   "metadata": {
    "collapsed": true
   },
   "outputs": [],
   "source": [
    "# 1. grab only columns I want\n",
    "# 2. keep only business ids with 2 inspections\n",
    "# 3. group business ids and convert each group into a list"
   ]
  },
  {
   "cell_type": "code",
   "execution_count": 58,
   "metadata": {
    "collapsed": true,
    "tags": [
     "student"
    ]
   },
   "outputs": [],
   "source": [
    "# scores_pairs_by_business = \n",
    "def group_to_list(group):\n",
    "    return list(group)\n",
    "\n",
    "scores_pairs_by_business = (ins2016\n",
    "    .sort_values('date')\n",
    "    .loc[:, ['business_id', 'score']]\n",
    "    .groupby('business_id')\n",
    "    .filter(lambda group: len(group)==2)\n",
    "    .groupby('business_id')\n",
    "    .agg(group_to_list)\n",
    "    .rename(columns = {'score': 'score_pair'})\n",
    ")\n"
   ]
  },
  {
   "cell_type": "code",
   "execution_count": 59,
   "metadata": {},
   "outputs": [
    {
     "name": "stdout",
     "output_type": "stream",
     "text": [
      "~~~~~~~~~~~~~~~~~~~~~~~~~~~~~~~~~~~~~~~~~~~~~~~~~~~~~~~~~~~~~~~~~~~~~\n",
      "Running tests\n",
      "\n",
      "---------------------------------------------------------------------\n",
      "Test summary\n",
      "    Passed: 1\n",
      "    Failed: 0\n",
      "[ooooooooook] 100.0% passed\n",
      "\n"
     ]
    },
    {
     "data": {
      "application/javascript": [
       "IPython.notebook.save_checkpoint();"
      ],
      "text/plain": [
       "<IPython.core.display.Javascript object>"
      ]
     },
     "metadata": {},
     "output_type": "display_data"
    },
    {
     "data": {
      "application/javascript": [
       "IPython.notebook.save_notebook();"
      ],
      "text/plain": [
       "<IPython.core.display.Javascript object>"
      ]
     },
     "metadata": {},
     "output_type": "display_data"
    },
    {
     "name": "stdout",
     "output_type": "stream",
     "text": [
      "Saving notebook... Saved 'hw2.ipynb'.\n",
      "Backup... 100% complete\n",
      "Backup successful for user: kath.eddinger@berkeley.edu\n",
      "URL: https://okpy.org/cal/ds100/fa17/hw2/backups/J69GMK\n",
      "NOTE: this is only a backup. To submit your assignment, use:\n",
      "\tpython3 ok --submit\n",
      "\n"
     ]
    }
   ],
   "source": [
    "_ = ok.grade('q07a')\n",
    "_ = ok.backup()"
   ]
  },
  {
   "cell_type": "code",
   "execution_count": 60,
   "metadata": {
    "tags": [
     "student",
     "written"
    ]
   },
   "outputs": [
    {
     "data": {
      "image/png": "[encoded data removed]",
      "text/plain": [
       "<matplotlib.figure.Figure at 0x115aad860>"
      ]
     },
     "metadata": {},
     "output_type": "display_data"
    }
   ],
   "source": [
    "# Create scatter plot here.\n",
    "pairs = scores_pairs_by_business['score_pair'].tolist()\n",
    "\n",
    "first = [pairs[p][0] for p in range(len(pairs))]\n",
    "second = [pairs[p][1] for p in range(len(pairs))]\n",
    "\n",
    "pairs_df = pd.DataFrame({\"first_score\" :first,\n",
    "                      \"second_score\": second})\n",
    "\n",
    "\n",
    "sns.stripplot(x=\"first_score\", y=\"second_score\", data= pairs_df);\n",
    "\n",
    "plt.plot([65, 100], [65,100]);"
   ]
  },
  {
   "cell_type": "markdown",
   "metadata": {},
   "source": [
    "#### Question 7b\n",
    "\n",
    "Another way to compare the scores from the two inspections is to examine the difference in scores. Subtract the first score from the second in `scores_pairs_by_business`. Make a histogram of these differences in the scores. We might expect these differences to be positive, indicating an improvement from the first to the second inspection."
   ]
  },
  {
   "cell_type": "code",
   "execution_count": 61,
   "metadata": {
    "tags": [
     "student",
     "written"
    ]
   },
   "outputs": [
    {
     "data": {
      "text/plain": [
       "<matplotlib.axes._subplots.AxesSubplot at 0x10c175390>"
      ]
     },
     "execution_count": 61,
     "metadata": {},
     "output_type": "execute_result"
    },
    {
     "data": {
      "image/png": "[encoded data removed]",
      "text/plain": [
       "<matplotlib.figure.Figure at 0x119b3cb38>"
      ]
     },
     "metadata": {},
     "output_type": "display_data"
    }
   ],
   "source": [
    "# Create histogram here.\n",
    "diff_pairs = [second[d] - first[d] for d in range(len(pairs))]\n",
    "sns.distplot(diff_pairs, bins=30)"
   ]
  },
  {
   "cell_type": "markdown",
   "metadata": {},
   "source": [
    "#### Question 7c\n",
    "\n",
    "If a restaurant's score improves from the first to the second inspection, what do you expect to see in the scatter plot that you made in 7a? What do you see?\n",
    "\n",
    "If a restaurant's score improves from the first to the second inspection, how would this be reflected in the histogram of the difference in the scores that you made in 7b? What do you see?"
   ]
  },
  {
   "cell_type": "code",
   "execution_count": 62,
   "metadata": {
    "tags": [
     "student",
     "written"
    ]
   },
   "outputs": [
    {
     "data": {
      "text/markdown": [
       "\n",
       "\n",
       "If the restaurant's score improves from the first to the second-- for the histogram,\n",
       "there should be more area under the curve for postive values(2nd-1st results in a positive val);\n",
       "for the scatter plot, the value should be above the line of slope 1, because the y val\n",
       "should be greater than the x val(scores that remained the \n",
       "same would be on the line because they have the same x and y coordinates). \n",
       "\n",
       "I see that the histogram has a slight right skew, indicating improvement. It also appears\n",
       "that there are more points above the line in the scatter plot.\n",
       "\n"
      ],
      "text/plain": [
       "<IPython.core.display.Markdown object>"
      ]
     },
     "metadata": {},
     "output_type": "display_data"
    }
   ],
   "source": [
    "q7c_answer = r\"\"\"\n",
    "\n",
    "If the restaurant's score improves from the first to the second-- for the histogram,\n",
    "there should be more area under the curve for postive values(2nd-1st results in a positive val);\n",
    "for the scatter plot, the value should be above the line of slope 1, because the y val\n",
    "should be greater than the x val(scores that remained the \n",
    "same would be on the line because they have the same x and y coordinates). \n",
    "\n",
    "I see that the histogram has a slight right skew, indicating improvement. It also appears\n",
    "that there are more points above the line in the scatter plot.\n",
    "\n",
    "\"\"\"\n",
    "\n",
    "display(Markdown(q7c_answer))"
   ]
  },
  {
   "cell_type": "markdown",
   "metadata": {},
   "source": [
    "## Summary of the inspections data\n",
    "\n",
    "What we have learned about the inspections data? What might be some next steps in our investigation? \n",
    "\n",
    "* We found that the records are at the inspection level and that we have inspections for multiple years.   \n",
    "* We also found that may restaurants have more than one inspection a year. In the future, we may want to roll some of the information about the inspections up to the business/restaurant level and join the inspection information with the business dataframe. For example, we could make maps of inspection scores for restaurants.\n",
    "* We also examined the relationship between the scores when a restaurant has multiple inspections in a year. Our findings were a bit counterintuitive and we warrant further investigation. It also makes sense to learn more about the inspection process to help us understand the connections between scores from multiple inspections. \n"
   ]
  },
  {
   "cell_type": "markdown",
   "metadata": {},
   "source": [
    "# Violations Data\n",
    "\n",
    "Lastly, we will explore the `vio` data set. As with the first two DataFreames, we want to determine the granularity of the data, the number of records and fields, and we want to investigate the fields (variables). "
   ]
  },
  {
   "cell_type": "markdown",
   "metadata": {},
   "source": [
    "### Question 8\n",
    "\n",
    "#### Question 8a\n",
    "\n",
    "How many records are in `vio`? What does this tell you about the granularity of `vio` in comparison to `bus` and `ins`? "
   ]
  },
  {
   "cell_type": "code",
   "execution_count": 63,
   "metadata": {},
   "outputs": [
    {
     "data": {
      "text/plain": [
       "business_id    40936\n",
       "date           40936\n",
       "description    40936\n",
       "dtype: int64"
      ]
     },
     "execution_count": 63,
     "metadata": {},
     "output_type": "execute_result"
    }
   ],
   "source": [
    "vio.count()"
   ]
  },
  {
   "cell_type": "code",
   "execution_count": 64,
   "metadata": {
    "tags": [
     "student",
     "written"
    ]
   },
   "outputs": [
    {
     "data": {
      "text/markdown": [
       "\n",
       "\n",
       "There are 40936 records in vio. This might mean the data is more fine grained than bus and ins.\n",
       "\n"
      ],
      "text/plain": [
       "<IPython.core.display.Markdown object>"
      ]
     },
     "metadata": {},
     "output_type": "display_data"
    }
   ],
   "source": [
    "q8a_answer = r\"\"\"\n",
    "\n",
    "There are 40936 records in vio. This might mean the data is more fine grained than bus and ins.\n",
    "\n",
    "\"\"\"\n",
    "display(Markdown(q8a_answer))"
   ]
  },
  {
   "cell_type": "markdown",
   "metadata": {},
   "source": [
    "Let's examine the first few rows of `vio` to see if that provides addtional information about the granularity."
   ]
  },
  {
   "cell_type": "code",
   "execution_count": 65,
   "metadata": {},
   "outputs": [
    {
     "data": {
      "text/html": [
       "<div>\n",
       "<style>\n",
       "    .dataframe thead tr:only-child th {\n",
       "        text-align: right;\n",
       "    }\n",
       "\n",
       "    .dataframe thead th {\n",
       "        text-align: left;\n",
       "    }\n",
       "\n",
       "    .dataframe tbody tr th {\n",
       "        vertical-align: top;\n",
       "    }\n",
       "</style>\n",
       "<table border=\"1\" class=\"dataframe\">\n",
       "  <thead>\n",
       "    <tr style=\"text-align: right;\">\n",
       "      <th></th>\n",
       "      <th>business_id</th>\n",
       "      <th>date</th>\n",
       "      <th>description</th>\n",
       "    </tr>\n",
       "  </thead>\n",
       "  <tbody>\n",
       "    <tr>\n",
       "      <th>0</th>\n",
       "      <td>10</td>\n",
       "      <td>20160503</td>\n",
       "      <td>High risk food holding temperature   [ date vi...</td>\n",
       "    </tr>\n",
       "    <tr>\n",
       "      <th>1</th>\n",
       "      <td>10</td>\n",
       "      <td>20160503</td>\n",
       "      <td>High risk food holding temperature   [ date vi...</td>\n",
       "    </tr>\n",
       "    <tr>\n",
       "      <th>2</th>\n",
       "      <td>10</td>\n",
       "      <td>20160503</td>\n",
       "      <td>High risk vermin infestation</td>\n",
       "    </tr>\n",
       "    <tr>\n",
       "      <th>3</th>\n",
       "      <td>10</td>\n",
       "      <td>20160503</td>\n",
       "      <td>Unapproved or unmaintained equipment or utensils</td>\n",
       "    </tr>\n",
       "    <tr>\n",
       "      <th>4</th>\n",
       "      <td>10</td>\n",
       "      <td>20160503</td>\n",
       "      <td>No thermometers or uncalibrated thermometers</td>\n",
       "    </tr>\n",
       "    <tr>\n",
       "      <th>5</th>\n",
       "      <td>10</td>\n",
       "      <td>20140729</td>\n",
       "      <td>Insufficient hot water or running water  [ dat...</td>\n",
       "    </tr>\n",
       "    <tr>\n",
       "      <th>6</th>\n",
       "      <td>10</td>\n",
       "      <td>20140729</td>\n",
       "      <td>Unapproved or unmaintained equipment or utensi...</td>\n",
       "    </tr>\n",
       "    <tr>\n",
       "      <th>7</th>\n",
       "      <td>10</td>\n",
       "      <td>20140114</td>\n",
       "      <td>Improper storage of equipment utensils or line...</td>\n",
       "    </tr>\n",
       "    <tr>\n",
       "      <th>8</th>\n",
       "      <td>10</td>\n",
       "      <td>20140114</td>\n",
       "      <td>Unclean or degraded floors walls or ceilings  ...</td>\n",
       "    </tr>\n",
       "    <tr>\n",
       "      <th>9</th>\n",
       "      <td>10</td>\n",
       "      <td>20140114</td>\n",
       "      <td>Inadequate and inaccessible handwashing facili...</td>\n",
       "    </tr>\n",
       "  </tbody>\n",
       "</table>\n",
       "</div>"
      ],
      "text/plain": [
       "   business_id      date                                        description\n",
       "0           10  20160503  High risk food holding temperature   [ date vi...\n",
       "1           10  20160503  High risk food holding temperature   [ date vi...\n",
       "2           10  20160503                       High risk vermin infestation\n",
       "3           10  20160503   Unapproved or unmaintained equipment or utensils\n",
       "4           10  20160503      No thermometers or uncalibrated thermometers \n",
       "5           10  20140729  Insufficient hot water or running water  [ dat...\n",
       "6           10  20140729  Unapproved or unmaintained equipment or utensi...\n",
       "7           10  20140114  Improper storage of equipment utensils or line...\n",
       "8           10  20140114  Unclean or degraded floors walls or ceilings  ...\n",
       "9           10  20140114  Inadequate and inaccessible handwashing facili..."
      ]
     },
     "execution_count": 65,
     "metadata": {},
     "output_type": "execute_result"
    }
   ],
   "source": [
    "vio.head(10)"
   ]
  },
  {
   "cell_type": "markdown",
   "metadata": {},
   "source": [
    "Just looking at the first few records in `vio` we see that each inspection has multiple entries. Reading the descriptions, we see that if corrected, a date is listed in the description within square brackets. This date appears to be the same date as the inspection.\n",
    "We will consider how to derive features from the `description` field when we cover the topic of regular expressions."
   ]
  },
  {
   "cell_type": "markdown",
   "metadata": {},
   "source": [
    "#### Question 8b\n",
    "\n",
    "As with the inspections data frame, let's examine only records for 2016. \n",
    "Recall that the dates in the `ins` file are formatted as strings such as 20160503. As before, convert these dates into a datetime object called `new_date`, and create a new colum called `year` that contains the year only. "
   ]
  },
  {
   "cell_type": "code",
   "execution_count": 66,
   "metadata": {
    "collapsed": true,
    "tags": [
     "student"
    ]
   },
   "outputs": [],
   "source": [
    "vio['new_date'] = pd.to_datetime(vio['date'], format='%Y%m%d', infer_datetime_format=True)\n",
    "vio['year']     = pd.to_datetime(vio['new_date']).dt.year\n",
    "\n",
    "vio2016 = vio[vio['year']==2016]"
   ]
  },
  {
   "cell_type": "code",
   "execution_count": 67,
   "metadata": {},
   "outputs": [
    {
     "name": "stdout",
     "output_type": "stream",
     "text": [
      "~~~~~~~~~~~~~~~~~~~~~~~~~~~~~~~~~~~~~~~~~~~~~~~~~~~~~~~~~~~~~~~~~~~~~\n",
      "Running tests\n",
      "\n",
      "---------------------------------------------------------------------\n",
      "Test summary\n",
      "    Passed: 1\n",
      "    Failed: 0\n",
      "[ooooooooook] 100.0% passed\n",
      "\n"
     ]
    },
    {
     "data": {
      "application/javascript": [
       "IPython.notebook.save_checkpoint();"
      ],
      "text/plain": [
       "<IPython.core.display.Javascript object>"
      ]
     },
     "metadata": {},
     "output_type": "display_data"
    },
    {
     "data": {
      "application/javascript": [
       "IPython.notebook.save_notebook();"
      ],
      "text/plain": [
       "<IPython.core.display.Javascript object>"
      ]
     },
     "metadata": {},
     "output_type": "display_data"
    },
    {
     "name": "stdout",
     "output_type": "stream",
     "text": [
      "Saving notebook... Saved 'hw2.ipynb'.\n",
      "Backup... 100% complete\n",
      "Backup successful for user: kath.eddinger@berkeley.edu\n",
      "URL: https://okpy.org/cal/ds100/fa17/hw2/backups/KrVKNG\n",
      "NOTE: this is only a backup. To submit your assignment, use:\n",
      "\tpython3 ok --submit\n",
      "\n"
     ]
    }
   ],
   "source": [
    "_ = ok.grade('q08b')\n",
    "_ = ok.backup()"
   ]
  },
  {
   "cell_type": "markdown",
   "metadata": {},
   "source": [
    "## Number of violations\n",
    "\n",
    "When we explore data, we often create new variables that we think might be useful in our analysis. For example, a variable that contains the number of violation records per inspection may be of interest. We might want to see if the number of inspections is correlated with the inspection score.  Or, we might be interested in whether the score improves on the second inspection. \n",
    "\n",
    "#### Question 8c\n",
    "Derive a variable, `num_vio`, that contains the number of violations in a restaurant inspection."
   ]
  },
  {
   "cell_type": "code",
   "execution_count": 80,
   "metadata": {
    "tags": [
     "student"
    ]
   },
   "outputs": [],
   "source": [
    "vio2016['num_vio'] = (vio2016\n",
    "                      .groupby(['business_id', 'new_date'])\n",
    "                      .size()\n",
    "                      .reset_index()\n",
    "                      .rename(columns={0: 'num_vio'})\n",
    "                     )\n",
    "\n",
    "ins2016 = pd.merge(ins2016, num_vios)\n",
    "\n",
    "vio2016.groupby(['business_id', 'new_date']).size().to_frame()\n",
    "\n",
    "\n",
    "\n",
    "# num_vios = (vio2016\n",
    "#             .groupby(['business_id','new_date'])\n",
    "#             .size()\n",
    "# #             .groupby(['business_id'])\n",
    "# #             .size()\n",
    "#             .rename('num_vio')\n",
    "#             .reset_index()\n",
    "# )\n",
    "\n",
    "# ins2016 = pd.merge(vio2016, num_vios)\n",
    "\n",
    "\n",
    "# vio2016.where(vio2016['new_date'].unique())\n",
    "# # num_vios.loc[(num_vios['num_vio'].unique())]\n",
    "\n",
    "# # super_numvios = \n",
    "# # pd.merge(ins2016, num_vios, how='left')\n",
    "\n"
   ]
  },
  {
   "cell_type": "code",
   "execution_count": 81,
   "metadata": {},
   "outputs": [
    {
     "name": "stdout",
     "output_type": "stream",
     "text": [
      "~~~~~~~~~~~~~~~~~~~~~~~~~~~~~~~~~~~~~~~~~~~~~~~~~~~~~~~~~~~~~~~~~~~~~\n",
      "Running tests\n",
      "\n",
      "---------------------------------------------------------------------\n",
      "Test summary\n",
      "    Passed: 1\n",
      "    Failed: 0\n",
      "[ooooooooook] 100.0% passed\n",
      "\n"
     ]
    },
    {
     "data": {
      "application/javascript": [
       "IPython.notebook.save_checkpoint();"
      ],
      "text/plain": [
       "<IPython.core.display.Javascript object>"
      ]
     },
     "metadata": {},
     "output_type": "display_data"
    },
    {
     "data": {
      "application/javascript": [
       "IPython.notebook.save_notebook();"
      ],
      "text/plain": [
       "<IPython.core.display.Javascript object>"
      ]
     },
     "metadata": {},
     "output_type": "display_data"
    },
    {
     "name": "stdout",
     "output_type": "stream",
     "text": [
      "Saving notebook... Saved 'hw2.ipynb'.\n",
      "Backup... 100% complete\n",
      "Backup successful for user: kath.eddinger@berkeley.edu\n",
      "URL: https://okpy.org/cal/ds100/fa17/hw2/backups/pYjrvQ\n",
      "NOTE: this is only a backup. To submit your assignment, use:\n",
      "\tpython3 ok --submit\n",
      "\n"
     ]
    }
   ],
   "source": [
    "_ = ok.grade('q08c')\n",
    "_ = ok.backup()"
   ]
  },
  {
   "cell_type": "markdown",
   "metadata": {},
   "source": [
    "#### Question 8d\n",
    "\n",
    "Now that we have created this new varable, let's examine its distribution. \n",
    "Make a histogram of `num_vio` and describe its shape."
   ]
  },
  {
   "cell_type": "code",
   "execution_count": 79,
   "metadata": {
    "tags": [
     "student"
    ]
   },
   "outputs": [
    {
     "data": {
      "text/plain": [
       "(array([ 3337.,  2964.,  3316.,  4417.,  1281.,   872.,   580.,   143.,\n",
       "           24.,    27.]),\n",
       " array([  1. ,   2.3,   3.6,   4.9,   6.2,   7.5,   8.8,  10.1,  11.4,\n",
       "         12.7,  14. ]),\n",
       " <a list of 10 Patch objects>)"
      ]
     },
     "execution_count": 79,
     "metadata": {},
     "output_type": "execute_result"
    },
    {
     "data": {
      "image/png": "[encoded data removed]",
      "text/plain": [
       "<matplotlib.figure.Figure at 0x119da5358>"
      ]
     },
     "metadata": {},
     "output_type": "display_data"
    }
   ],
   "source": [
    "plt.hist(vio2016['num_vio'])"
   ]
  },
  {
   "cell_type": "code",
   "execution_count": null,
   "metadata": {
    "tags": [
     "student",
     "written"
    ]
   },
   "outputs": [],
   "source": [
    "q8d_answer = r\"\"\"\n",
    "\n",
    "Put your answer here, replacing this text.\n",
    "\n",
    "\"\"\"\n",
    "\n",
    "display(Markdown(q8d_answer))"
   ]
  },
  {
   "cell_type": "markdown",
   "metadata": {},
   "source": [
    "## Summary of the violations data\n",
    "\n",
    "Let's take stock of what we have learned about the violations data and what might be the next steps in our investigation. \n",
    "\n",
    "* We found that the records consist of the violations that were found on an inspection. And from inspection it seems that if a violation is corrected this information is provided in the description field.\n",
    "* We also found that the distribution of the number of violations shows that some restaurants had many violations. \n",
    "* In the future, we might want to investigate the relationship between the inspection score and the number of violations. Additionally, it migth be interesting to pursue possible connections between the type of violation and the score\n"
   ]
  },
  {
   "cell_type": "markdown",
   "metadata": {},
   "source": [
    "## Submission\n",
    "\n",
    "Congrats! You are finished with HW2. For convenience, we've included a cell below that runs all the OkPy tests."
   ]
  },
  {
   "cell_type": "code",
   "execution_count": null,
   "metadata": {},
   "outputs": [],
   "source": [
    "import os\n",
    "print(\"Running all tests...\")\n",
    "_ = [ok.grade(q[:-3]) for q in os.listdir(\"ok_tests\") if q.startswith('q')]"
   ]
  },
  {
   "cell_type": "markdown",
   "metadata": {},
   "source": [
    "Now, run the cell below to submit your assignment to OkPy. The autograder should email you shortly with your autograded score. The autograder will only run once every 30 minutes.\n",
    "\n",
    "**If you're failing tests on the autograder but pass them locally**, you should simulate the autograder by doing the following:\n",
    "\n",
    "1. In the top menu, click Kernel -> Restart and Run all.\n",
    "2. Run the cell above to run each OkPy test.\n",
    "\n",
    "**You must make sure that you pass all the tests when running steps 1 and 2 in order.** If you are still failing autograder tests, you should double check your results."
   ]
  },
  {
   "cell_type": "code",
   "execution_count": null,
   "metadata": {},
   "outputs": [],
   "source": [
    "_ = ok.submit()"
   ]
  },
  {
   "cell_type": "markdown",
   "metadata": {},
   "source": [
    "Also, as of this writing there's a bug in OkPy where it will say:\n",
    "\n",
    "```\n",
    "NOTE: this is only a backup. To submit your assignment, use:\n",
    "\tpython3 ok --submit\n",
    "```\n",
    "\n",
    "when running the cell above. Don't worry about that; if you can visit OkPy and see your submission, you've submitted the assignment.\n",
    "\n",
    "Even if you forget to run the cell above, we'll automatically take your latest backup when grading so don't worry about that."
   ]
  }
 ],
 "metadata": {
  "anaconda-cloud": {},
  "kernelspec": {
   "display_name": "Python 3",
   "language": "python",
   "name": "python3"
  },
  "language_info": {
   "codemirror_mode": {
    "name": "ipython",
    "version": 3
   },
   "file_extension": ".py",
   "mimetype": "text/x-python",
   "name": "python",
   "nbconvert_exporter": "python",
   "pygments_lexer": "ipython3",
   "version": "3.5.5"
  },
  "widgets": {
   "state": {},
   "version": "1.1.2"
  }
 },
 "nbformat": 4,
 "nbformat_minor": 2
}
