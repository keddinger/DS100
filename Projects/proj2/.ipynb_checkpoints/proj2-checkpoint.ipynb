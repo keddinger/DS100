{
 "cells": [
  {
   "cell_type": "markdown",
   "metadata": {},
   "source": [
    "# Project 2: Spam/Ham Prediction\n",
    "\n",
    "In this project, you will use what you've learned in class to create a classifier that can distinguish spam emails from ham (non-spam) emails.\n",
    "\n",
    "We'll walk you through a couple steps to get you started, but this project is almost entirely open-ended. Instead of providing you with a skeleton to fill in, we will evaluate your work based on your model's accuracy and your written responses in this notebook."
   ]
  },
  {
   "cell_type": "markdown",
   "metadata": {},
   "source": [
    "## Kaggle\n",
    "\n",
    "This project is a bit different from the other assignments in this class because we are using Kaggle to evaluate your model's accuracy. Kaggle is a website that hosts machine learning competitions.\n",
    "\n",
    "We've created a competition just for this project: https://www.kaggle.com/t/433a6bca95f94a78a0d2a6e7e8b311c3\n",
    "\n",
    "Here's how submitting to Kaggle works:\n",
    "\n",
    "1. You will create a classifier using the training dataset.\n",
    "2. You will use your classifier to make predictions on the test dataset.\n",
    "3. You will upload your predictions as a CSV to https://www.kaggle.com/t/433a6bca95f94a78a0d2a6e7e8b311c3\n",
    "4. The website will tell you your accuracy on the test set. You may only do this twice a day. You must reach a test set accuracy of **88%** in order to get full credit for the Kaggle portion of the assignment.\n",
    "\n",
    "(After the assignment ends, we will evaluate your accuracy on a private test set to ensure that you aren't overfitting to the test set.)"
   ]
  },
  {
   "cell_type": "markdown",
   "metadata": {},
   "source": [
    "## Submission\n",
    "\n",
    "This project has no ok tests (and no autograder). Instead, you will submit the following:\n",
    "\n",
    "0. **Your notebook to OkPy**. You can do this by running the `ok.submit()` cell at the bottom of this notebook. Note that there is no autograder for this assignment so you will not receive autograder emails.\n",
    "0. **Your notebook's written answers to GradeScope.** The cell to export the notebook is located at the bottom of this notebook. If you have trouble converting your notebook to PDF, you may upload your notebook to http://datahub.berkeley.edu/ and run the cell there.\n",
    "0. **Your model's predictions on the test set to Kaggle**, a website that hosts machine learning competitions. Kaggle will output your your accuracy on the test set so that you will know whether you've met the accuracy threshold or not.\n",
    "\n",
    "**To prevent you from fitting to the test set, you may only upload predictions to Kaggle twice per day.** This means you should start early. In addition, if you decide to pair with someone else, your group only gets two submissions per day (not four).\n",
    "\n",
    "This project (notebook + Gradescope submissions) is officially due Friday, Dec 1 at 11:59:59pm since we can't make assignments due after classes end. However, we will accept submissions until **Monday, Dec 4 at 11:59:59pm** without using slip days. Submissions after Dec 4 will use 1 slip day each day after Dec 4. The Kaggle competition will remain open until **Saturday Dec 9 at 11:59:59pm**.\n",
    "\n",
    "**No late Kaggle submissions will be accepted** since we've taken slip days into account when setting the Kaggle deadline. You will not use slip days for Kaggle submissions."
   ]
  },
  {
   "cell_type": "markdown",
   "metadata": {},
   "source": [
    "## Grading\n",
    "Grading will be based on a number of set criteria, enumerated below:\n",
    "\n",
    "Task | Description\n",
    "--- | ---\n",
    "Basic Classifier | You succesfully implement our guided basic logistic regression classifier.\n",
    "EDA | You create four exploratory plots that help explain your feature choices.\n",
    "Feature Selection | You explain and justify your feature selection process\n",
    "Written Questions | You answer the written questions that we place throughout this notebook.\n",
    "Kaggle Accuracy | Your model beats the prediction accuracy threshold of **88%**. This is attainable with a well-thought-out model.\n",
    "\n",
    "**You are allowed to work in groups of 2 for this assignment!** If you decide to partner with someone else, make sure you do the following:\n",
    "\n",
    "1. Have one person in the group invite the other on OkPy: https://okpy.org/cal/ds100/fa17/proj2/\n",
    "1. Have one person in the group invite the other person on Gradescope.\n",
    "1. Have one person in the group invite the other person on Kaggle: https://www.kaggle.com/t/433a6bca95f94a78a0d2a6e7e8b311c3"
   ]
  },
  {
   "cell_type": "markdown",
   "metadata": {},
   "source": [
    "## Prizes\n",
    "\n",
    "Although you need to reach 88% accuracy in order to get full credit, we will reward those that create great classifiers.\n",
    "\n",
    "The top 10 students on the Kaggle leaderboard, evaluated by their score in the private test set will: \n",
    "\n",
    "1. Have bragging rights \n",
    "2. Be invited to attend a lunch at the Faculty Club, hosted by Professors Gonzalez and Nolan.\n",
    "\n",
    "## Restrictions\n",
    "\n",
    "While we want you to be creative with your models, we want to make it fair to students who are seeing these techniques for the first time.  As such, **you are only allowed to train logistic regression models and their regularized forms**.  This means no random forest, CART, neural nets, etc.  However, you are free to feature engineer to your heart's content.  Remember that domain knowledge is the third component of data science."
   ]
  },
  {
   "cell_type": "markdown",
   "metadata": {},
   "source": [
    "## Getting Started"
   ]
  },
  {
   "cell_type": "code",
   "execution_count": 1,
   "metadata": {},
   "outputs": [
    {
     "name": "stdout",
     "output_type": "stream",
     "text": [
      "=====================================================================\n",
      "Assignment: Project 2\n",
      "OK, version v1.13.9\n",
      "=====================================================================\n",
      "\n"
     ]
    }
   ],
   "source": [
    "# Run this cell to set up your notebook\n",
    "import seaborn as sns\n",
    "import csv\n",
    "import numpy as np\n",
    "import pandas as pd\n",
    "import matplotlib.pyplot as plt\n",
    "%matplotlib inline\n",
    "sns.set()\n",
    "sns.set_context(\"talk\")\n",
    "\n",
    "from IPython.display import display, Latex, Markdown, HTML, Javascript\n",
    "from client.api.notebook import Notebook\n",
    "ok = Notebook('proj2.ok')"
   ]
  },
  {
   "cell_type": "code",
   "execution_count": 2,
   "metadata": {
    "collapsed": true
   },
   "outputs": [],
   "source": [
    "from sklearn.linear_model import LogisticRegression\n",
    "from sklearn.model_selection import cross_val_predict\n",
    "from sklearn.model_selection import cross_val_score\n",
    "import re\n",
    "import plotly.plotly as py\n",
    "import plotly.graph_objs as go\n",
    "import plotly.figure_factory as ff\n",
    "import cufflinks as cf\n",
    "%matplotlib inline"
   ]
  },
  {
   "cell_type": "code",
   "execution_count": 3,
   "metadata": {
    "scrolled": true
   },
   "outputs": [
    {
     "name": "stdout",
     "output_type": "stream",
     "text": [
      "Successfully logged in as kath.eddinger@berkeley.edu\n"
     ]
    }
   ],
   "source": [
    "# Log into OkPy.\n",
    "# You might need to change this to ok.auth(force=True) if you get an error\n",
    "ok.auth(force=False)"
   ]
  },
  {
   "cell_type": "markdown",
   "metadata": {},
   "source": [
    "For your convenience, run this cell to highlight the written response cells in light blue. Only the highlighted cells will be converted to the GradeScope PDF, so put your written answers there.\n",
    "\n",
    "Unfortunately, you'll have to run this each time you open your notebook to highlight cells."
   ]
  },
  {
   "cell_type": "code",
   "execution_count": 4,
   "metadata": {},
   "outputs": [
    {
     "data": {
      "application/javascript": [
       "\n",
       "Jupyter.notebook.get_cells().map(function(cell) {\n",
       "  var tags = cell.metadata.tags\n",
       "  if (tags && tags.indexOf('written') >= 0)\n",
       "    cell.element.css('background-color', '#efefff')\n",
       "})\n"
      ],
      "text/plain": [
       "<IPython.core.display.Javascript object>"
      ]
     },
     "metadata": {},
     "output_type": "display_data"
    }
   ],
   "source": [
    "highlight_cells = '''\n",
    "Jupyter.notebook.get_cells().map(function(cell) {\n",
    "  var tags = cell.metadata.tags\n",
    "  if (tags && tags.indexOf('written') >= 0)\n",
    "    cell.element.css('background-color', '#efefff')\n",
    "})\n",
    "'''\n",
    "display(Javascript(highlight_cells))"
   ]
  },
  {
   "cell_type": "markdown",
   "metadata": {},
   "source": [
    "## Loading in the Data\n",
    "\n",
    "The dataset consists of email messages and their labels (0 for ham, 1 for spam). The training set contains 8348 labeled examples, and the test set contains 1000 unlabeled examples.\n",
    "\n",
    "Run the following cells to load in the data into DataFrames.\n",
    "\n",
    "The `train` DataFrame contains labeled data that you will use to train your model. It contains three columns:\n",
    "\n",
    "1. `id`: An identifier for the training example.\n",
    "1. `subject`: The subject of the email\n",
    "1. `email`: The text of the email.\n",
    "1. `spam`: 1 if the email was spam, 0 if the email was ham (not spam).\n",
    "\n",
    "The `test` DataFrame contains another set of 1000 unlabeled examples. You will predict labels for these examples and submit your predictions to Kaggle for evaluation."
   ]
  },
  {
   "cell_type": "code",
   "execution_count": 5,
   "metadata": {
    "collapsed": true
   },
   "outputs": [],
   "source": [
    "train = pd.read_csv('train.csv')\n",
    "train_upper = pd.read_csv('train.csv')\n",
    "# We lower case the emails to make them easier to work with\n",
    "train['EMAIL'] = train['email']\n",
    "train['email'] = train['email'].str.lower()\n",
    "# train.head()"
   ]
  },
  {
   "cell_type": "code",
   "execution_count": 6,
   "metadata": {},
   "outputs": [],
   "source": [
    "test = pd.read_csv('test.csv')\n",
    "test['EMAIL'] = test['email']\n",
    "test['email'] = test['email'].str.lower()\n",
    "# test.head()"
   ]
  },
  {
   "cell_type": "markdown",
   "metadata": {},
   "source": [
    "### Question 1\n",
    "\n",
    "In the cell below, print the text of the first ham and the first spam email in the training set. Then, discuss one thing you notice that is different between the two."
   ]
  },
  {
   "cell_type": "code",
   "execution_count": 7,
   "metadata": {},
   "outputs": [
    {
     "name": "stdout",
     "output_type": "stream",
     "text": [
      "url: http://boingboing.net/#85534171\n",
      " date: not supplied\n",
      " \n",
      " arts and letters daily, a wonderful and dense blog, has folded up its tent due \n",
      " to the bankruptcy of its parent company. a&l daily will be auctioned off by the \n",
      " receivers. link[1] discuss[2] (_thanks, misha!_)\n",
      " \n",
      " [1] http://www.aldaily.com/\n",
      " [2] http://www.quicktopic.com/boing/h/zlfterjnd6jf\n",
      " \n",
      " \n",
      "\n",
      "<html>\n",
      " <head>\n",
      " </head>\n",
      " <body>\n",
      " <font size=3d\"4\"><b> a man endowed with a 7-8\" hammer is simply<br>\n",
      "  better equipped than a man with a 5-6\"hammer. <br>\n",
      " <br>would you rather have<br>more than enough to get the job done or fall =\n",
      " short. it's totally up<br>to you. our methods are guaranteed to increase y=\n",
      " our size by 1-3\"<br> <a href=3d\"http://209.163.187.47/cgi-bin/index.php?10=\n",
      " 004\">come in here and see how</a>\n",
      " </body>\n",
      " </html>\n",
      " \n",
      " \n",
      " \n",
      "\n"
     ]
    }
   ],
   "source": [
    "#Print the text of the first ham and the first spam emails. Then, fill in your response in the q01 variable:\n",
    "\n",
    "print(train['email'].loc[train['spam'] == 0][0])\n",
    "print(train['email'].loc[train['spam'] == 1][2])"
   ]
  },
  {
   "cell_type": "code",
   "execution_count": 8,
   "metadata": {
    "tags": [
     "written",
     "q01",
     "student"
    ]
   },
   "outputs": [
    {
     "data": {
      "text/markdown": [
       "\n",
       "*The spam email contains some html text formatting (ham does not). Spam email has an http link with IP address,\n",
       "while the ham links have website names with format 'blah.something'. The spam email uses language that is more informal\n",
       "and direct, using personal pronouns (\"you\") and includes statements about preference (\"would you rather...\", \n",
       "\"its up to you\"). It is not informative, and it is implied that recipient must take some kind of action \n",
       "(\"come in here and see how\") inorder to recieve the actual information.\n",
       "The ham email is much more formal and does not use personal pronouns, indicating that the email was not meant\n",
       "for any one person specifically, but for a group of people. It is a generic announcement, meant to be informative.\n",
       "The recipients of this email do not need to be told that they should read the links, because they already know\n",
       "what the content will be (i.e. more information about the bankrupcy and auctioning of a&l daily).\n",
       "It also includes a sign off (\"thanks, misha!\").*\n"
      ],
      "text/plain": [
       "<IPython.core.display.Markdown object>"
      ]
     },
     "metadata": {},
     "output_type": "display_data"
    }
   ],
   "source": [
    "q01 = '''\n",
    "*The spam email contains some html text formatting (ham does not). Spam email has an http link with IP address,\n",
    "while the ham links have website names with format 'blah.something'. The spam email uses language that is more informal\n",
    "and direct, using personal pronouns (\"you\") and includes statements about preference (\"would you rather...\", \n",
    "\"its up to you\"). It is not informative, and it is implied that recipient must take some kind of action \n",
    "(\"come in here and see how\") inorder to recieve the actual information.\n",
    "The ham email is much more formal and does not use personal pronouns, indicating that the email was not meant\n",
    "for any one person specifically, but for a group of people. It is a generic announcement, meant to be informative.\n",
    "The recipients of this email do not need to be told that they should read the links, because they already know\n",
    "what the content will be (i.e. more information about the bankrupcy and auctioning of a&l daily).\n",
    "It also includes a sign off (\"thanks, misha!\").*\n",
    "'''\n",
    "display(Markdown(q01))"
   ]
  },
  {
   "cell_type": "markdown",
   "metadata": {},
   "source": [
    "## Our First Features\n",
    "\n",
    "We would like to take the text of an email and predict whether the text is ham or spam. This is a *classification* problem, so we will use logistic regression to make a classifier.\n",
    "\n",
    "Recall that the input to logistic regression is a matrix $X$ that contains numeric values only. Unfortunately, our data are text, not numbers. To address this, we can create numeric features derived from the email text and use those features for logistic regression.\n",
    "\n",
    "Each row of $X$ is derived from one email example. Each column of $X$ is one feature. We'll guide you through creating a simple feature, and you'll create more interesting ones when you are trying to increase your accuracy.\n",
    "\n",
    "### Question 2\n",
    "\n",
    "Create a function called `words_in_text` that takes in a list of words and the text of an email. It outputs a pandas Series containing either a 0 or a 1 for each word in the list. The value of the Series should be 0 if the word doesn't appear in the text and 1 if the word does."
   ]
  },
  {
   "cell_type": "code",
   "execution_count": 9,
   "metadata": {
    "collapsed": true
   },
   "outputs": [],
   "source": [
    "def words_in_text(words, text):\n",
    "    '''\n",
    "    Args:\n",
    "        `words` (list of str): words to find\n",
    "        `text` (str): string to search in\n",
    "    \n",
    "    Returns:\n",
    "        Series containing either 0 or 1 for each word in words\n",
    "        (0 if the word is not in text, 1 if the word is).\n",
    "    '''\n",
    "    return pd.Series([int(text.find(word) >= 0) for word in words])\n",
    "\n",
    "# If these don't error, your function outputs the correct output for these examples\n",
    "assert np.allclose(words_in_text(['hello'], 'hello world'),\n",
    "                   [1])\n",
    "assert np.allclose(words_in_text(['hello', 'bye', 'world'], 'hello world hello'),\n",
    "                   [1, 0, 1])\n"
   ]
  },
  {
   "cell_type": "markdown",
   "metadata": {},
   "source": [
    "### Question 3\n",
    "\n",
    "Now, create a function called `words_in_texts` that takes in a list of words and a pandas Series of email texts. It should output a 2-dimensional NumPy matrix containing one row for each email text. The row should contain the output of `words_in_text` for each example. For example:\n",
    "\n",
    "```python\n",
    ">>> words_in_texts(['hello', 'bye', 'world'], pd.Series(['hello', 'hello world hello']))\n",
    "array([[1, 0, 0],\n",
    "       [1, 0, 1]])\n",
    "```\n",
    "\n",
    "You should be able to use the `.apply` and `.as_matrix` functions to implement this."
   ]
  },
  {
   "cell_type": "code",
   "execution_count": 10,
   "metadata": {
    "collapsed": true,
    "tags": [
     "student"
    ]
   },
   "outputs": [],
   "source": [
    "def words_in_texts(words, texts):\n",
    "    '''\n",
    "    Args:\n",
    "        `words` (list of str): words to find\n",
    "        `texts` (Series of str): strings to search in\n",
    "    \n",
    "    Returns:\n",
    "        NumPy array of 0s and 1s with shape (n, p) where n is the\n",
    "        number of texts and p is the number of words.\n",
    "    '''\n",
    "        \n",
    "    return np.array([words_in_text(words, text) for text in texts])\n",
    "\n",
    "# If these don't error, your function outputs the correct output for these examples\n",
    "assert np.allclose(words_in_texts(['hello', 'bye', 'world'], pd.Series(['hello', 'hello world hello'])),\n",
    "                   np.array([[1, 0, 0], [1, 0, 1]]))\n",
    "\n"
   ]
  },
  {
   "cell_type": "code",
   "execution_count": 11,
   "metadata": {
    "collapsed": true
   },
   "outputs": [],
   "source": [
    "x = 'This is SPAM'\n",
    "x = re.sub(\"[^\\w]\", \" \", x).split()"
   ]
  },
  {
   "cell_type": "code",
   "execution_count": 12,
   "metadata": {
    "collapsed": true
   },
   "outputs": [],
   "source": [
    "def num_upper(text):\n",
    "    '''\n",
    "    Args:\n",
    "        `text` (str): string to search in\n",
    "    \n",
    "    Returns:\n",
    "        Series containing the number of uppercase words in `text`.\n",
    "    '''\n",
    "    \n",
    "    if text:\n",
    "        text = re.sub(\"[^\\w]\", \" \", text).split() #split the text into a list of words\n",
    "        \n",
    "        return pd.Series(text).str.isupper().astype(int).sum() #number of uppercase words       \n",
    "\n",
    "    else:\n",
    "        return pd.Series([0])\n",
    "\n",
    "def num_upper_in_texts(texts):\n",
    "    '''\n",
    "    Args:\n",
    "    \n",
    "        `texts` (Series of str): strings to search in\n",
    "    \n",
    "    Returns:\n",
    "        NumPy array with shape (n) where n is the\n",
    "        number of texts, containing the number of uppercase words in each text.\n",
    "    '''\n",
    "    \n",
    "    #fill the series with with '0' when there is no subject\n",
    "    texts = texts.fillna('0')\n",
    "\n",
    "    return texts.apply(lambda x: num_upper(x))\n",
    "\n",
    "def percent_upper(text):\n",
    "    '''\n",
    "    Args:\n",
    "        `text` (str): string to search in\n",
    "    \n",
    "    Returns:\n",
    "        Series containing percentage of uppercase words in text.\n",
    "    '''\n",
    "    \n",
    "    if text:\n",
    "        text = re.sub(\"[^\\w]\", \" \", text).split() #split the text into a list of words\n",
    "        \n",
    "        return pd.Series(text).str.isupper().astype(int).sum() / pd.Series(len(text)) #percentage uppercase words\n",
    "    else:\n",
    "        return pd.Series([0]) #text with zero words won't be divided by zero, \n",
    "\n",
    "def percent_upper_in_texts(texts):\n",
    "    '''\n",
    "    Args:\n",
    "    \n",
    "        `texts` (Series of str): strings to search in\n",
    "    \n",
    "    Returns:\n",
    "        NumPy array of percentages with shape (n) where n is the\n",
    "        number of texts.\n",
    "    '''\n",
    "    \n",
    "    #fill the series with with '0' when there is no subject\n",
    "    texts = texts.fillna('0')\n",
    "\n",
    "    return texts.apply(lambda x: percent_upper(x))"
   ]
  },
  {
   "cell_type": "markdown",
   "metadata": {},
   "source": [
    "\n",
    "\n",
    "\n",
    "## Classification\n",
    "\n",
    "Notice that the output of `words_in_texts` is a numeric matrix containing features for each email. This means we can use it directly to train a classifier.\n",
    "\n",
    "### Question 4\n",
    "\n",
    "We've given you 5 words that might be useful as features to distinguish spam/ham emails. Use these words as well as the `train` DataFrame to create two NumPy arrays: `X_train` and `y_train`.\n",
    "\n",
    "`X_train` should be a matrix of 0s and 1s created by using your `words_in_texts` function on all the emails in the training set.\n",
    "\n",
    "`y_train` should be vector of the correct labels for each email in the training set."
   ]
  },
  {
   "cell_type": "code",
   "execution_count": 13,
   "metadata": {
    "scrolled": true,
    "tags": [
     "student"
    ]
   },
   "outputs": [
    {
     "data": {
      "text/plain": [
       "(array([[0, 1, 0, 0, 0],\n",
       "        [0, 0, 0, 0, 0],\n",
       "        [0, 0, 0, 0, 0],\n",
       "        [0, 0, 0, 0, 1],\n",
       "        [0, 0, 0, 0, 0]]), 0    0\n",
       " 1    0\n",
       " 2    1\n",
       " 3    0\n",
       " 4    0\n",
       " Name: spam, dtype: int64)"
      ]
     },
     "execution_count": 13,
     "metadata": {},
     "output_type": "execute_result"
    }
   ],
   "source": [
    "some_words = ['drug', 'bank', 'prescription', 'memo', 'private']\n",
    "\n",
    "X_train = words_in_texts(some_words, train['email'])\n",
    "y_train = train['spam']\n",
    "\n",
    "X_train[:5], y_train[:5]"
   ]
  },
  {
   "cell_type": "markdown",
   "metadata": {},
   "source": [
    "### Question 5\n",
    "\n",
    "Now we have matrices we can give to scikit-learn! Using the [`LogisticRegression`](http://scikit-learn.org/stable/modules/generated/sklearn.linear_model.LogisticRegression.html) classifier, train a logistic regression model using `X_train` and `y_train`. Then, output the accuracy of the model in the cell below. You should get an accuracy of around 0.7557."
   ]
  },
  {
   "cell_type": "code",
   "execution_count": 14,
   "metadata": {
    "tags": [
     "student"
    ]
   },
   "outputs": [
    {
     "data": {
      "text/plain": [
       "0.75574988021082889"
      ]
     },
     "execution_count": 14,
     "metadata": {},
     "output_type": "execute_result"
    }
   ],
   "source": [
    "CLF_word = LogisticRegression()\n",
    "\n",
    "Word_fit = CLF_word.fit(X_train, y_train)\n",
    "\n",
    "Word_score = Word_fit.score(X_train, y_train)\n",
    "\n",
    "Word_CLF_preds = Word_fit.predict(X_train).reshape(-1, 1)\n",
    "\n",
    "# Word_fit.coef_\n",
    "\n",
    "Word_score"
   ]
  },
  {
   "cell_type": "markdown",
   "metadata": {},
   "source": [
    "### Question 6\n",
    "\n",
    "That doesn't seem too shabby! But the classifier you made above isn't as great as you might think. Recall that we have other ways of evaluating a classifier:\n",
    "\n",
    "*Sensitivity* (also called *recall*) is the rate of true positives; in this case, the proportion of spam emails that are classified as spam.\n",
    "\n",
    "*Specificity* (also called *precision*) is the rate of true negatives; in this case, the proportion of ham emails that are classified as ham.\n",
    "\n",
    "Answer the following questions in the light blue cell below. You may create other cells for scratch work, but your final answers\n",
    "must appear in the light blue cell.\n",
    "\n",
    "0. Suppose we have a classifier that just predicts 0 (ham) for every email. What is its sensitivity? Its specificity?\n",
    "0. Suppose we have a classifier that just predicts 0 (ham) for every email. What is its accuracy on the training set?\n",
    "0. Our logistic regression classifier got 75% prediction accuracy (number of correct predictions / total). Why is this a poor accuracy?\n",
    "0. What is the sensitivity of the logistic regression classifier above? The specificity? What kind of mistake is our classifier more likely to make: false positives or false negatives?\n",
    "0. Given the word features we gave you above, name one reason this classifier is performing poorly."
   ]
  },
  {
   "cell_type": "code",
   "execution_count": 15,
   "metadata": {},
   "outputs": [
    {
     "name": "stdout",
     "output_type": "stream",
     "text": [
      "true positives = 238 , false postives = 137 , false negatives = 1902 , true negatives = 6071\n",
      "sensitivity = 0.6346666666666667\n",
      "specificity = 0.7614448764580459\n"
     ]
    }
   ],
   "source": [
    "predicted_num_spam= Word_CLF_preds[:, 0].sum()\n",
    "real_num_spam = y_train.sum()\n",
    "predicted_num_ham = len(Word_CLF_preds[:, 0])- predicted_num_spam\n",
    "real_num_ham = len(y_train) - real_num_spam\n",
    "\n",
    "true_positive_tt = y_train[(Word_CLF_preds[:, 0] == y_train)].sum() #correctly predicted spam, hits\n",
    "true_negative_ff = len(y_train[(Word_CLF_preds[:, 0] == y_train)]) - true_positive_tt #correct rejections\n",
    "false_positive_tf = real_num_ham - true_negative_ff #false pos, ham classified as spam\n",
    "false_negative_ft = real_num_spam - true_positive_tt #misses, spam classified as hm\n",
    "\n",
    "sensitivity = true_positive_tt/(true_positive_tt + false_positive_tf)\n",
    "specificity = true_negative_ff/(true_negative_ff + false_negative_ft)\n",
    "\n",
    "print('true positives = ' + str(true_positive_tt),\n",
    "      ', false postives = ' + str(false_positive_tf),\n",
    "      ', false negatives = ' + str(false_negative_ft), \n",
    "      ', true negatives = ' + str(true_negative_ff))\n",
    "\n",
    "print('sensitivity = ' + str(sensitivity))\n",
    "print('specificity = ' + str(specificity))"
   ]
  },
  {
   "cell_type": "markdown",
   "metadata": {
    "tags": [
     "student",
     "written",
     "q06"
    ]
   },
   "source": [
    "1. *The sensitivity (proportion of spam emails that are classified as spam) will be 0%, the specificity (proportion of ham emails classified as ham) will be 100%.*\n",
    "\n",
    "2. *If we predict ham for every email, the accuracy on the training set would be 74% (the percentage of ham emails).*\n",
    "\n",
    "3. *Our logisitic regression classifier is only predicting about 1% better than prediciting ham for every email, so its isn't very good.*\n",
    "\n",
    "4. *The sensitivity of the logistic regression classifier is 63.5%, the specificity is 76.1%. The classifier is more likely to make false negatives (marking spam as ham).*\n",
    "\n",
    "5. *The poor performance of our classifier tells us that our current words probably do not appear in many of the spam emails, or they appear in equally many spam emails as they do ham emails.*"
   ]
  },
  {
   "cell_type": "markdown",
   "metadata": {},
   "source": [
    "## Moving Forward\n",
    "\n",
    "With this in mind, it is now your assignment to make your classifier more accurate. In particular, in order to get full credit on the accuracy part of this assignment, you must get at least **88%** accuracy on the test set. To see your accuracy on the test set, you will use your classifier to predict every email in the `test` DataFrame and upload your predictions to Kaggle.\n",
    "\n",
    "To prevent you from fitting to the test set, you may only upload predictions to Kaggle twice per day. This means you should start early!\n",
    "\n",
    "Here are some ideas for improving your model:\n",
    "\n",
    "1. Finding better features based on the email text. For example, simple features that typically work for emails are:\n",
    "    1. Number of characters in the subject / body\n",
    "    1. Number of words in the subject / body\n",
    "    1. Use of punctuation (e.g., how many '!' were there?)\n",
    "    1. Number / percentage of capital letters \n",
    "    1. Whether or not the email is a reply to an earlier email or a forwarded email. \n",
    "    1. Using bag-of-words or [td-idf](http://www.tfidf.com/).\n",
    "1. Finding better words to use as features. Which words are the best at distinguishing emails? This requires digging into the email text itself. (To help you out, we've given you a set of [English stopwords](https://www.wikiwand.com/en/Stop_words) in `stopwords.csv`)\n",
    "1. Better data processing. For example, many emails contain HTML as well as text. You can consider extracting out the text from the HTML to help you find better words. Or, you can match HTML tags themselves, or even some combination of the two.\n",
    "1. Model selection. You can adjust parameters of your model (e.g., the regularization parameter) to achieve higher accuracy. \n",
    "\n",
    "Recall that you should use cross-validation to do feature and model selection properly! Otherwise, you will likely overfit to your training data.\n",
    "\n",
    "You may use whatever method you prefer in order to create features. However, we want to make it fair to students who are seeing these techniques for the first time.  As such, **you are only allowed to train logistic regression models and their regularized forms**. This means no random forest, k-nearest-neighbors, neural nets, etc.\n",
    "\n",
    "We will not give you a code skeleton to do this, so feel free to create as many cells as you need in order to tackle this task. However, you should show us your process as outlined here:"
   ]
  },
  {
   "cell_type": "markdown",
   "metadata": {},
   "source": [
    "### Feature/Model Selection Process\n",
    "\n",
    "In this following cell, describe the process of improving your model. You should use at least 2-3 sentences each to address the follow questions:\n",
    "\n",
    "1. How did you find better features for your model?\n",
    "2. What did you try that worked / didn't work?\n",
    "3. What was surprising in your search for good features?"
   ]
  },
  {
   "cell_type": "markdown",
   "metadata": {
    "tags": [
     "student",
     "written",
     "q_feature"
    ]
   },
   "source": [
    "1. *I came up with ideas based on the suggestions and what I saw in the first few rows of train. Then I created some features. I tried out each feature on its own to see how well it predicted. If it didn't do very well, I decided not to use that feature. I plotted my feature grouped by its spam or ham category to see if my feature was making any meaningful divisions. Another thing I did was look at model weights (for appropriately scaled features like words). I removed some of the words with zero weights.*\n",
    "2. *I tried counting the number of uppercase words in the subject, but then I decided that the percentage of uppercase words might be more appropriate. The percentages worked better. I also tried a small number of words that I thought of myself, which wasn't very good and then I found about 460 or so spam words from the internet, which worked quite well.*\n",
    "3. *When I looked at the weights for my word model alone, I was surprised that some of the words that I thought would be very indicative of spam had low or zero weights. I realized later that this could be due in part to other words or phrases that tend to co-occur in spam emails.*"
   ]
  },
  {
   "cell_type": "code",
   "execution_count": 16,
   "metadata": {
    "collapsed": true
   },
   "outputs": [],
   "source": [
    "#copy the train dataframe\n",
    "new_train = train.copy()\n",
    "\n",
    "#create columns of total uppercase word numbers\n",
    "new_train['subj_num'] = num_upper_in_texts(train['subject'])\n",
    "new_train['email_num']= num_upper_in_texts(train['EMAIL'])\n",
    "\n",
    "#create a column of percentage of uppercase for subjects and emails\n",
    "new_train['subj_up'] = percent_upper_in_texts(train['subject'])\n",
    "new_train['email_up'] = percent_upper_in_texts(train['EMAIL'])\n",
    "\n",
    "meta_train = new_train[:6261]\n",
    "meta_test = new_train[6261:]"
   ]
  },
  {
   "cell_type": "code",
   "execution_count": 17,
   "metadata": {},
   "outputs": [
    {
     "data": {
      "text/html": [
       "<div>\n",
       "<style>\n",
       "    .dataframe thead tr:only-child th {\n",
       "        text-align: right;\n",
       "    }\n",
       "\n",
       "    .dataframe thead th {\n",
       "        text-align: left;\n",
       "    }\n",
       "\n",
       "    .dataframe tbody tr th {\n",
       "        vertical-align: top;\n",
       "    }\n",
       "</style>\n",
       "<table border=\"1\" class=\"dataframe\">\n",
       "  <thead>\n",
       "    <tr style=\"text-align: right;\">\n",
       "      <th></th>\n",
       "      <th>id</th>\n",
       "      <th>subject</th>\n",
       "      <th>email</th>\n",
       "      <th>spam</th>\n",
       "      <th>EMAIL</th>\n",
       "      <th>subj_num</th>\n",
       "      <th>email_num</th>\n",
       "      <th>subj_up</th>\n",
       "      <th>email_up</th>\n",
       "    </tr>\n",
       "  </thead>\n",
       "  <tbody>\n",
       "    <tr>\n",
       "      <th>0</th>\n",
       "      <td>0</td>\n",
       "      <td>Subject: A&amp;L Daily to be auctioned in bankrupt...</td>\n",
       "      <td>url: http://boingboing.net/#85534171\\n date: n...</td>\n",
       "      <td>0</td>\n",
       "      <td>URL: http://boingboing.net/#85534171\\n Date: N...</td>\n",
       "      <td>2</td>\n",
       "      <td>4</td>\n",
       "      <td>0.222222</td>\n",
       "      <td>0.066667</td>\n",
       "    </tr>\n",
       "    <tr>\n",
       "      <th>1</th>\n",
       "      <td>1</td>\n",
       "      <td>Subject: Wired: \"Stronger ties between ISPs an...</td>\n",
       "      <td>url: http://scriptingnews.userland.com/backiss...</td>\n",
       "      <td>0</td>\n",
       "      <td>URL: http://scriptingnews.userland.com/backiss...</td>\n",
       "      <td>0</td>\n",
       "      <td>3</td>\n",
       "      <td>0.000000</td>\n",
       "      <td>0.061224</td>\n",
       "    </tr>\n",
       "    <tr>\n",
       "      <th>2</th>\n",
       "      <td>2</td>\n",
       "      <td>Subject: It's just too small                  ...</td>\n",
       "      <td>&lt;html&gt;\\n &lt;head&gt;\\n &lt;/head&gt;\\n &lt;body&gt;\\n &lt;font siz...</td>\n",
       "      <td>1</td>\n",
       "      <td>&lt;HTML&gt;\\n &lt;HEAD&gt;\\n &lt;/HEAD&gt;\\n &lt;BODY&gt;\\n &lt;FONT SIZ...</td>\n",
       "      <td>1</td>\n",
       "      <td>17</td>\n",
       "      <td>0.142857</td>\n",
       "      <td>0.186813</td>\n",
       "    </tr>\n",
       "    <tr>\n",
       "      <th>3</th>\n",
       "      <td>3</td>\n",
       "      <td>Subject: liberal defnitions\\n</td>\n",
       "      <td>depends on how much over spending vs. how much...</td>\n",
       "      <td>0</td>\n",
       "      <td>Depends on how much over spending vs. how much...</td>\n",
       "      <td>0</td>\n",
       "      <td>3</td>\n",
       "      <td>0.000000</td>\n",
       "      <td>0.012766</td>\n",
       "    </tr>\n",
       "    <tr>\n",
       "      <th>4</th>\n",
       "      <td>4</td>\n",
       "      <td>Subject: RE: [ILUG] Newbie seeks advice - Suse...</td>\n",
       "      <td>hehe sorry but if you hit caps lock twice the ...</td>\n",
       "      <td>0</td>\n",
       "      <td>hehe sorry but if you hit caps lock twice the ...</td>\n",
       "      <td>2</td>\n",
       "      <td>16</td>\n",
       "      <td>0.222222</td>\n",
       "      <td>0.045326</td>\n",
       "    </tr>\n",
       "  </tbody>\n",
       "</table>\n",
       "</div>"
      ],
      "text/plain": [
       "   id                                            subject  \\\n",
       "0   0  Subject: A&L Daily to be auctioned in bankrupt...   \n",
       "1   1  Subject: Wired: \"Stronger ties between ISPs an...   \n",
       "2   2  Subject: It's just too small                  ...   \n",
       "3   3                      Subject: liberal defnitions\\n   \n",
       "4   4  Subject: RE: [ILUG] Newbie seeks advice - Suse...   \n",
       "\n",
       "                                               email  spam  \\\n",
       "0  url: http://boingboing.net/#85534171\\n date: n...     0   \n",
       "1  url: http://scriptingnews.userland.com/backiss...     0   \n",
       "2  <html>\\n <head>\\n </head>\\n <body>\\n <font siz...     1   \n",
       "3  depends on how much over spending vs. how much...     0   \n",
       "4  hehe sorry but if you hit caps lock twice the ...     0   \n",
       "\n",
       "                                               EMAIL  subj_num  email_num  \\\n",
       "0  URL: http://boingboing.net/#85534171\\n Date: N...         2          4   \n",
       "1  URL: http://scriptingnews.userland.com/backiss...         0          3   \n",
       "2  <HTML>\\n <HEAD>\\n </HEAD>\\n <BODY>\\n <FONT SIZ...         1         17   \n",
       "3  Depends on how much over spending vs. how much...         0          3   \n",
       "4  hehe sorry but if you hit caps lock twice the ...         2         16   \n",
       "\n",
       "    subj_up  email_up  \n",
       "0  0.222222  0.066667  \n",
       "1  0.000000  0.061224  \n",
       "2  0.142857  0.186813  \n",
       "3  0.000000  0.012766  \n",
       "4  0.222222  0.045326  "
      ]
     },
     "execution_count": 17,
     "metadata": {},
     "output_type": "execute_result"
    }
   ],
   "source": [
    "new_train.head()"
   ]
  },
  {
   "cell_type": "code",
   "execution_count": 18,
   "metadata": {
    "collapsed": true
   },
   "outputs": [],
   "source": [
    " spam_words = pd.Series(['Reverses','#1','Easy terms','Maintained','Reverses aging',\n",
    "                         \n",
    "                         '$$$','Make $','Risk free','‘Hidden’ assets', \n",
    "                         \n",
    "                         'Rolex','Email harvest','Marketing',\n",
    "                         \n",
    "                         'Round the world','100% Satisfied','Email marketing', 'Marketing solutions',\n",
    "                         \n",
    "                         'S 1618','4U', 'Expect to earn', 'Mass email', 'Safeguard notice','50% off',\n",
    "                         \n",
    "                         'Explode your business','Medicine','Sale','Accept credit cards',\n",
    "                         \n",
    "                         'Extra income','Medium' ,'Sales','Acceptance','F r e e', 'Meet singles','Sample',\n",
    "                         \n",
    "                         'Access','Fantastic deal','Member','Satisfaction','Accordingly',\n",
    "                         \n",
    "                         'Fast cash','Member deal','Satisfaction guaranteed',\n",
    "                         \n",
    "                         'Act Now', 'Fast Viagra delivery','Message contains','Save $',\n",
    "                         \n",
    "                         'Act Now!','Financial freedom', 'Message contains disclaimer', 'Save big money',\n",
    "                         \n",
    "                         'Don’t hesitate!','Financially independent','Million','Save up to',\n",
    "                         \n",
    "                         'Ad', 'For free', 'Million dollars','Additional income', 'For instant access', \n",
    "                         \n",
    "                         'Miracle', 'Search engine listings','Addresses on CD', 'For just $', 'MLM', 'Search engines',\n",
    "                      \n",
    "                         'Affordable', 'Money', 'Section 301','All natural','For Only',\n",
    "                      \n",
    "                         'Money back', 'See for yourself', 'All new', 'For you', 'Money making',\n",
    "                      \n",
    "                         'Sent in compliance', 'Amazing', 'Form', 'Month trial offer', 'Serious cash',\n",
    "                      \n",
    "                         'Amazing stuff', 'Free', 'More Internet Traffic', 'Serious only',\n",
    "                     \n",
    "                         'Apply now', 'Free access', 'Mortgage', 'Shopper','Apply Online',\n",
    "                      \n",
    "                         'Free cell phone', 'Mortgage rates', 'Shopping spree',\n",
    "                      \n",
    "                         'As seen on', 'Free consultation', 'Multi level marketing','Sign up free today',\n",
    "                      \n",
    "                         'Auto email removal', 'Free consultation', 'Multi-level marketing', 'Social security number',\n",
    "                      \n",
    "                         'Avoid', 'Free DVD', 'Name brand', 'Solution', 'Avoid bankruptcy', 'Free gift', 'Never',\n",
    "                      \n",
    "                         'Special promotion','Bargain', 'Free grant money', 'New customers only', 'Stainless steel',\n",
    "                      \n",
    "                         'Be amazed', 'Free hosting', 'New domain extensions', 'Stock alert',\n",
    "                      \n",
    "                         'Be your own boss', 'Free info', 'Nigerian', 'Stock disclaimer statement',\n",
    "                      \n",
    "                         'Being a member', 'Free installation', 'No age restrictions', 'Stock pick',\n",
    "                      \n",
    "                         'Beneficiary', 'Free Instant', 'No catch', 'Stop',\n",
    "                      \n",
    "                         'Best price', 'Free investment', 'No claim forms', 'Stop snoring',\n",
    "                      \n",
    "                         'Beverage', 'Free leads', 'No cost', 'Strong buy',\n",
    "                      \n",
    "                         'Big bucks', 'Free membership', 'No credit check', 'Stuff on sale',\n",
    "                      \n",
    "                         'Bill 1618', 'Free money', 'No disappointment', 'Subject to cash',\n",
    "                      \n",
    "                         'Billing address', 'Free offer', 'No experience', 'Subject to credit',\n",
    "                      \n",
    "                         'Billion', 'Free preview', 'No fees', 'Subscribe',\n",
    "                      \n",
    "                         'Billion dollars','Free priority mail', 'No gimmick', 'Success',\n",
    "                      \n",
    "                         'Bonus', 'Free quote', 'No hidden', 'Supplies are limited',\n",
    "                      \n",
    "                         'Brand new pager', 'Free sample', 'No inventory', 'Take action now',\n",
    "                      \n",
    "                         'Bulk email', 'Free trial', 'No investment', 'Talks about hidden charges',\n",
    "                      \n",
    "                         'Buy', 'Free website', 'No medical exams', 'Talks about prizes',\n",
    "                      \n",
    "                         'Buy direct', 'Freedom', 'No middleman', 'Teen',\n",
    "                      \n",
    "                         'Buying judgements', 'Friend','No obligation', 'this is an ad',\n",
    "                      \n",
    "                         'Buying judgments','Full refund', 'No purchase necessary','Terms and conditions',\n",
    "                      \n",
    "                         'Cable converter', 'Get', 'No questions asked', 'The best rates',\n",
    "                      \n",
    "                         'Call', 'Get it now', 'No selling', 'The following form',\n",
    "                      \n",
    "                         'Call free', 'Get out of debt', 'No strings attached', 'They keep your money – no refund',\n",
    "                      \n",
    "                         'Call now', 'Get paid', 'No-obligation', 'They’re just giving it away',\n",
    "                      \n",
    "                         'Calling creditors', 'Get started now', 'Not intended', 'This isn’t junk',\n",
    "                      \n",
    "                         'Cancel at any time', 'Gift certificate', 'Notspam', 'This isn’t spam',\n",
    "                      \n",
    "                         'Cannot be combined with any other offer', 'Give it away', 'Now', 'This won’t last',\n",
    "                      \n",
    "                         'Can’t live without', 'Giving away', 'Now only', 'Thousands',\n",
    "                      \n",
    "                         'Cards accepted', 'Great offer', 'Obligation', 'Time limited',\n",
    "                      \n",
    "                         'Cash', 'Guarantee', 'Off shore', 'Trial', 'Cash bonus', 'Guaranteed', 'Offer',\n",
    "                      \n",
    "                         'Undisclosed recipient', 'Cashcashcash', 'Have you been turned down?', 'Offer expires',\n",
    "                      \n",
    "                         'University diplomas', 'Casino', 'Hello', 'Once in lifetime', 'Unlimited',\n",
    "                      \n",
    "                         'Celebrity', 'Here', 'One hundred percent free', 'Unsecured credit',\n",
    "                      \n",
    "                         'Cell phone cancer scam', 'Hidden', 'One hundred percent guaranteed', 'Unsecured credit/debt',\n",
    "                      \n",
    "                         'Cents on the dollar', 'Hidden assets', 'One time', 'Unsecured debt',\n",
    "                      \n",
    "                         'Certified', 'Hidden charges', 'One time mailing', 'Unsolicited',\n",
    "                      \n",
    "                         'Chance', 'Home', 'Online biz opportunity', 'Unsubscribe',\n",
    "                      \n",
    "                         'Cheap', 'Home based', 'Online degree', 'Urgent',\n",
    "                      \n",
    "                         'Check', 'Home employment', 'Online marketing', 'US dollars',\n",
    "                      \n",
    "                         'Check or money order', 'Homebased business', 'Online pharmacy','Vacation',\n",
    "                      \n",
    "                         'Claims', 'Human growth hormone', 'Only', 'Vacation offers',\n",
    "                      \n",
    "                         'not selling anything', 'If only it were that easy', 'Only $', 'Valium',\n",
    "                      \n",
    "                         'in accordance with', 'Important information regarding', 'Open', 'Viagra',\n",
    "                      \n",
    "                         'legal', 'Opportunity','Viagra and other drugs',\n",
    "                         \n",
    "                         'Clearance', 'Income', 'Opt in', 'Vicodin',\n",
    "                         \n",
    "                         'Click', 'Income from home', 'Order', 'Visit our website',\n",
    "                         \n",
    "                         'Click below', 'Increase sales', 'Order now', 'Wants credit card',\n",
    "                      \n",
    "                         'Click here', 'Increase traffic', 'Order shipped by', 'Warranty',\n",
    "                      \n",
    "                         'Click to remove', 'Increase your sales', 'Order status', 'We hate spam',\n",
    "                      \n",
    "                         'Collect', 'Incredible deal', 'Order today', 'We honor all',\n",
    "                      \n",
    "                         'Collect child support', 'Info you requested', 'Orders shipped by', 'Web traffic',\n",
    "                      \n",
    "                         'Compare','Information you requested', 'Outstanding values','Weekend getaway',\n",
    "                      \n",
    "                         'Compare rates', 'Instant', 'Passwords', 'Weight loss',\n",
    "                      \n",
    "                         'Compete for your business', 'Insurance', 'Pennies a day', 'What are you waiting for?',\n",
    "                      \n",
    "                         'Confidentially on all orders', 'Internet market', 'Per day','While supplies last',\n",
    "                      \n",
    "                         'Congratulations','Internet marketing', 'Per week', 'While you sleep',\n",
    "                      \n",
    "                         'Consolidate debt and credit', 'Investment', 'Performance', 'Who really wins?',\n",
    "                      \n",
    "                         'Consolidate your debt', 'Investment decision', 'Phone', 'Why pay more?',\n",
    "                      \n",
    "                         'Copy accurately','It’s effective', 'Please read','Wife',\n",
    "                      \n",
    "                         'Copy DVDs','Potential earnings', 'Will not believe your eyes',\n",
    "                      \n",
    "                         'Cost', 'Join millions', 'Pre-approved', 'Win',\n",
    "                      \n",
    "                         'Costs', 'Join millions of Americans', 'Price', 'Winner',\n",
    "                      \n",
    "                         'Credit', 'Laser printer', 'Prices', 'Winner',\n",
    "                      \n",
    "                         'Credit bureaus', 'Leave', 'Print form signature','Winning',\n",
    "                      \n",
    "                         'Credit card offers', 'Legal', 'Print out and fax', 'Won',\n",
    "                      \n",
    "                         'Cures baldness', 'Life', 'Priority mail', 'Work at home',\n",
    "                      \n",
    "                         'Deal', 'Life Insurance', 'Prize','Work from home',\n",
    "                      \n",
    "                         'Dear friend', 'Lifetime', 'Prizes', 'Xanax',\n",
    "                      \n",
    "                         'Diagnostics', 'limited time', 'Problem', 'You are a winner!',\n",
    "                      \n",
    "                         'Dig up dirt on friends', 'Limited time offer','Produced and sent out','You have been selected'\n",
    "                      \n",
    "                         'Direct email' \t'Limited time only','Profits','You’re a Winner!',\n",
    "                      \n",
    "                         'Direct marketing','Loans', 'Promise you','Your income',\n",
    "                      \n",
    "                         'Discount','Long distance phone offer','Pure Profits','You’re a Winner!'\n",
    "                      \n",
    "                         'Do it today','Lose','Quote',\n",
    "                      \n",
    "                         'Don’t delete','Lose weight', 'Quotes', 'Don’t hesitate','Lose weight spam', 'Real thing',\n",
    "                      \n",
    "                         'Dormant', 'Lower interest rate', 'Refinance',\n",
    "                      \n",
    "                         'Double your','Lower interest rates','Refinance home',\n",
    "                      \n",
    "                         'Double your income','Lower monthly payment', 'Refinanced home',\n",
    "                      \n",
    "                         'Drastically reduced', 'Lower your mortgage rate', 'Removal instructions',\n",
    "                      \n",
    "                         'Earn','Lowest insurance rates','Remove',\n",
    "                      \n",
    "                         'Earn $','Lowest Price','Removes wrinkles', 'Earn extra cash' ,'Luxury car','Reserves the right'])\n",
    "    \n",
    "spam_words = spam_words.str.lower()\n",
    "spam_words = spam_words.tolist()"
   ]
  },
  {
   "cell_type": "code",
   "execution_count": 19,
   "metadata": {},
   "outputs": [],
   "source": [
    "some_words = ['drug', 'bank', 'prescription', 'memo', 'private']\n",
    "new_words = ['free', 'click', 'deal', 'order now', 'increase', 'money']"
   ]
  },
  {
   "cell_type": "code",
   "execution_count": 20,
   "metadata": {},
   "outputs": [],
   "source": [
    "#create the word matrix using the meta training data, create the y meta training data (spam labels)\n",
    "X_word = words_in_texts(spam_words, meta_train['email'])\n",
    "y_meta_train = meta_train['spam']"
   ]
  },
  {
   "cell_type": "code",
   "execution_count": 21,
   "metadata": {},
   "outputs": [],
   "source": [
    "#create a matrix of subject and email uppercase percentages\n",
    "X_subj_up = (meta_train['subj_up']).as_matrix().reshape(-1, 1)\n",
    "X_email_up = (meta_train['email_up']).as_matrix().reshape(-1, 1)\n",
    "\n",
    "#create a matrix of the word feature space and subject and email uppercase percentage feature spaces\n",
    "X_word_subj_email = np.hstack((X_word, X_subj_up, X_email_up))\n",
    "\n",
    "# #create a classifier use it to fit and predict\n",
    "CLF_word_subj_email = LogisticRegression()\n",
    "\n",
    "Word_subj_email_up_fit = CLF_word_subj_email.fit(X_word_subj_email, y_meta_train)\n",
    "\n",
    "Word_subj_email_up_score = Word_subj_email_up_fit.score(X_word_subj_email, y_meta_train)\n",
    "\n",
    "Word_subj_email_up_pred = Word_subj_email_up_fit.predict(X_word_subj_email)"
   ]
  },
  {
   "cell_type": "code",
   "execution_count": 22,
   "metadata": {
    "collapsed": true
   },
   "outputs": [],
   "source": [
    "METATEST_X_word = words_in_texts(spam_words, meta_test['email'])\n",
    "\n",
    "y_meta_test = meta_test['spam']\n",
    "\n",
    "#create a matrix of subject uppercase percentages\n",
    "METATEST_X_subj_up = (meta_test['subj_up']).as_matrix().reshape(-1, 1)\n",
    "\n",
    "#create a matrix of email uppercase percentages\n",
    "METATEST_X_email_up = (meta_test['email_up']).as_matrix().reshape(-1, 1)\n",
    "\n",
    "#create a matrix of the word feature space and subject and email uppercase percentage feature spaces\n",
    "METATEST_X_word_subj_email = np.hstack((METATEST_X_word, METATEST_X_subj_up, METATEST_X_email_up))\n",
    "\n",
    "#use meta_train's classifier to score meta_test x and y\n",
    "METATEST_Word_subj_email_up_score = Word_subj_email_up_fit.score(METATEST_X_word_subj_email, y_meta_test)\n",
    "\n",
    "# get cross validated predictions and prediction scores for the words\n",
    "CLF_word_CV = LogisticRegression(C=0.5)\n",
    "METATEST_CV_preds = cross_val_predict(Word_subj_email_up_fit, METATEST_X_word_subj_email, y_meta_test)\n",
    "METATEST_CV_score = cross_val_score(Word_subj_email_up_fit, METATEST_X_word_subj_email, y_meta_test)"
   ]
  },
  {
   "cell_type": "code",
   "execution_count": 23,
   "metadata": {},
   "outputs": [
    {
     "data": {
      "text/plain": [
       "array([ 0.92385057,  0.90948276,  0.92374101])"
      ]
     },
     "execution_count": 23,
     "metadata": {},
     "output_type": "execute_result"
    }
   ],
   "source": [
    "METATEST_CV_score"
   ]
  },
  {
   "cell_type": "code",
   "execution_count": 24,
   "metadata": {
    "collapsed": true
   },
   "outputs": [],
   "source": [
    "# #create a matrix of subject uppercase percentages\n",
    "# X_subj_up = (new_train['subj_up']).as_matrix().reshape(-1, 1)"
   ]
  },
  {
   "cell_type": "code",
   "execution_count": 25,
   "metadata": {},
   "outputs": [],
   "source": [
    "# from sklearn.decomposition import PCA\n",
    "\n",
    "# import matplotlib.pyplot as plt\n",
    "# from mpl_toolkits.mplot3d import Axes3D\n",
    "# from mpl_toolkits.mplot3d import proj3d\n",
    "# # pca = PCA(n_components=4)\n",
    "# pca = PCA()\n",
    "\n",
    "# proj = pca.fit_transform(X_word_subj_email)\n",
    "# # proj = pca.fit_transform(X_word_subj_email)\n"
   ]
  },
  {
   "cell_type": "code",
   "execution_count": 26,
   "metadata": {
    "scrolled": true
   },
   "outputs": [],
   "source": [
    "# #Plot histogram of percentages\n",
    "# # meta_train['email_up'].to_frame().plot.scatter()\n",
    "# fig, ax = plt.subplots()\n",
    "# fig.set_size_inches(11.7, 8.27)\n",
    "# sns.regplot(meta_train['email_up'], meta_train['spam'], logistic=True, x_jitter=True)"
   ]
  },
  {
   "cell_type": "code",
   "execution_count": 27,
   "metadata": {},
   "outputs": [],
   "source": [
    "# fig, ax = plt.subplots()\n",
    "# fig.set_size_inches(11.7, 8.27)\n",
    "# sns.distplot(meta_train.loc[meta_train['spam']==0, 'email_up'], norm_hist=True)\n",
    "# sns.distplot(meta_train.loc[meta_train['spam']==1, 'email_up'], norm_hist=True)\n",
    "# sns.distplot(meta_train.loc[meta_train['spam']==0, 'subj_up'], norm_hist=True)\n",
    "# sns.distplot(meta_train.loc[meta_train['spam']==1, 'subj_up'], norm_hist=True) "
   ]
  },
  {
   "cell_type": "code",
   "execution_count": 28,
   "metadata": {},
   "outputs": [],
   "source": [
    "#see what predictions look like if we combind word feature and subj_up features\n",
    "#create a matrix of word and subj_up\n",
    "\n",
    "clf_word = LogisticRegression()\n",
    "\n",
    "word_fit = clf_word.fit(X_word, y_meta_train)\n",
    "\n",
    "word_pred = word_fit.predict(X_word)\n",
    "\n",
    "\n",
    "clf_subj = LogisticRegression()\n",
    "\n",
    "subj_fit = clf_subj.fit(X_subj_up, y_meta_train)\n",
    "\n",
    "subj_pred = subj_fit.predict(X_subj_up)\n",
    "\n",
    "\n",
    "clf_mail = LogisticRegression()\n",
    "\n",
    "mail_fit = clf_mail.fit(X_email_up, y_meta_train)\n",
    "\n",
    "mail_pred = mail_fit.predict(X_email_up)\n",
    "\n",
    "\n",
    "X_word_subj = np.hstack((X_word, X_subj_up))\n",
    "\n",
    "clf_word_subj = LogisticRegression()\n",
    "\n",
    "word_subj_fit = clf_word_subj.fit(X_word_subj, y_meta_train)\n",
    "\n",
    "word_subj_pred = word_subj_fit.predict(X_word_subj)\n"
   ]
  },
  {
   "cell_type": "code",
   "execution_count": 29,
   "metadata": {},
   "outputs": [
    {
     "name": "stdout",
     "output_type": "stream",
     "text": [
      "true positives = 1279 , false postives = 93 , false negatives = 300 , true negatives = 4589\n",
      "sensitivity = 0.9322157434402333\n",
      "specificity = 0.9386377582327674\n"
     ]
    }
   ],
   "source": [
    "predicted_num_spam_word= word_pred.sum()\n",
    "real_num_spam_word = y_meta_train.sum()\n",
    "predicted_num_ham_word = len(word_pred)- predicted_num_spam_word\n",
    "real_num_ham_word = len(y_meta_train) - real_num_spam_word\n",
    "\n",
    "true_positive_word = y_meta_train[(word_pred == y_meta_train)].sum() #correctly predicted spam, hits\n",
    "true_negative_word = len(y_meta_train[(word_pred == y_meta_train)]) - true_positive_word #correct rejections\n",
    "false_positive_word = real_num_ham_word - true_negative_word #false pos, ham classified as spam\n",
    "false_negative_word = real_num_spam_word - true_positive_word #misses, spam classified as hm\n",
    "\n",
    "sensitivity_word = true_positive_word/(true_positive_word + false_positive_word)\n",
    "specificity_word = true_negative_word/(true_negative_word + false_negative_word)\n",
    "\n",
    "print('true positives = ' + str(true_positive_word),\n",
    "      ', false postives = ' + str(false_positive_word),\n",
    "      ', false negatives = ' + str(false_negative_word), \n",
    "      ', true negatives = ' + str(true_negative_word))\n",
    "\n",
    "print('sensitivity = ' + str(sensitivity_word))\n",
    "print('specificity = ' + str(specificity_word))"
   ]
  },
  {
   "cell_type": "code",
   "execution_count": 30,
   "metadata": {},
   "outputs": [
    {
     "name": "stdout",
     "output_type": "stream",
     "text": [
      "true positives = 171 , false postives = 31 , false negatives = 1408 , true negatives = 4651\n",
      "sensitivity = 0.8465346534653465\n",
      "specificity = 0.7676184188810035\n"
     ]
    }
   ],
   "source": [
    "predicted_num_spam_subj = subj_pred.sum()\n",
    "real_num_spam_subj = y_meta_train.sum()\n",
    "predicted_num_ham_subj = len(subj_pred)- predicted_num_spam_subj\n",
    "real_num_ham_subj = len(y_meta_train) - real_num_spam_subj\n",
    "\n",
    "true_positive_subj = y_meta_train[(subj_pred == y_meta_train)].sum() #correctly predicted spam, hits\n",
    "true_negative_subj = len(y_meta_train[(subj_pred == y_meta_train)]) - true_positive_subj #correct rejections\n",
    "false_positive_subj = real_num_ham_subj - true_negative_subj #false pos, ham classified as spam\n",
    "false_negative_subj = real_num_spam_subj - true_positive_subj #misses, spam classified as hm\n",
    "\n",
    "sensitivity_subj = true_positive_subj/(true_positive_subj + false_positive_subj)\n",
    "specificity_subj = true_negative_subj/(true_negative_subj + false_negative_subj)\n",
    "\n",
    "print('true positives = ' + str(true_positive_subj),\n",
    "      ', false postives = ' + str(false_positive_subj),\n",
    "      ', false negatives = ' + str(false_negative_subj), \n",
    "      ', true negatives = ' + str(true_negative_subj))\n",
    "\n",
    "print('sensitivity = ' + str(sensitivity_subj))\n",
    "print('specificity = ' + str(specificity_subj))"
   ]
  },
  {
   "cell_type": "code",
   "execution_count": 31,
   "metadata": {},
   "outputs": [
    {
     "name": "stdout",
     "output_type": "stream",
     "text": [
      "true positives = 417 , false postives = 82 , false negatives = 1162 , true negatives = 4600\n",
      "sensitivity = 0.8356713426853707\n",
      "specificity = 0.798333911836168\n"
     ]
    }
   ],
   "source": [
    "predicted_num_spam_mail = mail_pred.sum()\n",
    "real_num_spam_mail = y_meta_train.sum()\n",
    "predicted_num_ham_mail = len(mail_pred)- predicted_num_spam_mail\n",
    "real_num_ham_mail = len(y_meta_train) - real_num_spam_mail\n",
    "\n",
    "true_positive_mail = y_meta_train[(mail_pred == y_meta_train)].sum() #correctly predicted spam, hits\n",
    "true_negative_mail = len(y_meta_train[(mail_pred == y_meta_train)]) - true_positive_mail #correct rejections\n",
    "false_positive_mail = real_num_ham_mail - true_negative_mail #false pos, ham classified as spam\n",
    "false_negative_mail = real_num_spam_mail - true_positive_mail #misses, spam classified as hm\n",
    "\n",
    "sensitivity_mail = true_positive_mail/(true_positive_mail + false_positive_mail)\n",
    "specificity_mail = true_negative_mail/(true_negative_mail + false_negative_mail)\n",
    "\n",
    "print('true positives = ' + str(true_positive_mail),\n",
    "      ', false postives = ' + str(false_positive_mail),\n",
    "      ', false negatives = ' + str(false_negative_mail), \n",
    "      ', true negatives = ' + str(true_negative_mail))\n",
    "\n",
    "print('sensitivity = ' + str(sensitivity_mail))\n",
    "print('specificity = ' + str(specificity_mail))"
   ]
  },
  {
   "cell_type": "code",
   "execution_count": 32,
   "metadata": {},
   "outputs": [
    {
     "name": "stdout",
     "output_type": "stream",
     "text": [
      "true positives = 1301 , false postives = 83 , false negatives = 278 , true negatives = 4599\n",
      "sensitivity = 0.940028901734104\n",
      "specificity = 0.9429977445150708\n"
     ]
    }
   ],
   "source": [
    "predicted_num_spam_FINAL = Word_subj_email_up_pred.sum()\n",
    "real_num_spam_FINAL = y_meta_train.sum()\n",
    "predicted_num_ham_FINAL = len(Word_subj_email_up_pred)- predicted_num_spam_FINAL\n",
    "real_num_ham_FINAL = len(y_meta_train) - real_num_spam_FINAL\n",
    "\n",
    "true_positive_FINAL = y_meta_train[(Word_subj_email_up_pred == y_meta_train)].sum() #correctly predicted spam, hits\n",
    "true_negative_FINAL = len(y_meta_train[(Word_subj_email_up_pred == y_meta_train)]) - true_positive_FINAL #correct rejections\n",
    "false_positive_FINAL = real_num_ham_FINAL - true_negative_FINAL #false pos, ham classified as spam\n",
    "false_negative_FINAL = real_num_spam_FINAL - true_positive_FINAL #misses, spam classified as hm\n",
    "\n",
    "sensitivity_FINAL = true_positive_FINAL/(true_positive_FINAL + false_positive_FINAL)\n",
    "specificity_FINAL = true_negative_FINAL/(true_negative_FINAL + false_negative_FINAL)\n",
    "\n",
    "print('true positives = ' + str(true_positive_FINAL),\n",
    "      ', false postives = ' + str(false_positive_FINAL),\n",
    "      ', false negatives = ' + str(false_negative_FINAL), \n",
    "      ', true negatives = ' + str(true_negative_FINAL))\n",
    "\n",
    "print('sensitivity = ' + str(sensitivity_FINAL))\n",
    "print('specificity = ' + str(specificity_FINAL))"
   ]
  },
  {
   "cell_type": "markdown",
   "metadata": {},
   "source": [
    "### EDA\n",
    "\n",
    "In the four light blue cells below, show us four different visualizations that you used to select features for your model. Each cell should output:\n",
    "\n",
    "1. A plot showing something meaningful about the data that helped you during feature / model selection.\n",
    "2. 2-3 sentences describing what you plotted and what its implications are for your features.\n",
    "\n",
    "Feel to create as many plots as you want in your process of feature selection, but select four interesting ones for the cells below.\n",
    "\n",
    "You should not show us more than one visualization for the same type of feature. For example, don't show us a bar chart of the number of emails that contain the word \"hello\" and a bar chart of the number of emails that contain the word \"world\". Each visualization should be conceptually distinct."
   ]
  },
  {
   "cell_type": "code",
   "execution_count": null,
   "metadata": {},
   "outputs": [],
   "source": []
  },
  {
   "cell_type": "code",
   "execution_count": 51,
   "metadata": {},
   "outputs": [
    {
     "data": {
      "text/markdown": [
       "(note, I accidentally deleted one of the blue cells and could not get the highligher to re-highlight my first plot)1. This strip-plot shows how many uppercase words are in each email. This plot was useful to me because it shows that this feature does not do much to differentiate between spam and ham, which would be harder to determine using a bar plot."
      ],
      "text/plain": [
       "<IPython.core.display.Markdown object>"
      ]
     },
     "metadata": {},
     "output_type": "display_data"
    },
    {
     "data": {
      "text/plain": [
       "<matplotlib.axes._subplots.AxesSubplot at 0x1146bccc0>"
      ]
     },
     "execution_count": 51,
     "metadata": {},
     "output_type": "execute_result"
    },
    {
     "data": {
      "image/png": "[encoded data removed]",
      "text/plain": [
       "<matplotlib.figure.Figure at 0x11140d3c8>"
      ]
     },
     "metadata": {},
     "output_type": "display_data"
    }
   ],
   "source": [
    "#this is the first graded EDA cell\n",
    "some_string1 = '(note, I accidentally deleted one of the blue cells and could not get the highligher to re-highlight my first plot)1. This strip-plot shows how many uppercase words are in each email. This plot was useful to me because it shows that this feature does not do much to differentiate between spam and ham, which would be harder to determine using a bar plot.'\n",
    "\n",
    "display(Markdown(some_string1))\n",
    "sns.stripplot(x=\"spam\", y=\"email_num\",data=meta_train, jitter=0.4, split=True, palette=\"muted\")"
   ]
  },
  {
   "cell_type": "code",
   "execution_count": 52,
   "metadata": {
    "tags": [
     "student",
     "written",
     "q_eda2"
    ]
   },
   "outputs": [
    {
     "data": {
      "text/markdown": [
       "(2). This violin plot was useful because it shows the difference between distributions of spam and ham based on percentage of uppercase words in email subjects. The spam plot is more evenly distributed, while the ham plot has a wide and concentrated base, with a small secondary distribution that reaches up to about 40%. The small cluster of outliers in spam, which tells me that this feature is doing something to differentiate spam from ham."
      ],
      "text/plain": [
       "<IPython.core.display.Markdown object>"
      ]
     },
     "metadata": {},
     "output_type": "display_data"
    },
    {
     "data": {
      "text/plain": [
       "<matplotlib.axes._subplots.AxesSubplot at 0x1142e7630>"
      ]
     },
     "execution_count": 52,
     "metadata": {},
     "output_type": "execute_result"
    },
    {
     "data": {
      "image/png": "[encoded data removed]",
      "text/plain": [
       "<matplotlib.figure.Figure at 0x113d68d68>"
      ]
     },
     "metadata": {},
     "output_type": "display_data"
    }
   ],
   "source": [
    "# This is the second graded EDA cell\n",
    "\n",
    "\n",
    "some_string2 = '(2). This violin plot was useful because it shows the difference between distributions of spam and ham based on percentage of uppercase words in email subjects. The spam plot is more evenly distributed, while the ham plot has a wide and concentrated base, with a small secondary distribution that reaches up to about 40%. The small cluster of outliers in spam, which tells me that this feature is doing something to differentiate spam from ham.'\n",
    "\n",
    "display(Markdown(some_string2))\n",
    "sns.violinplot(x=\"spam\", y=\"subj_up\",data=meta_train, palette=\"muted\")"
   ]
  },
  {
   "cell_type": "code",
   "execution_count": 34,
   "metadata": {
    "tags": [
     "student",
     "written",
     "q_eda3"
    ]
   },
   "outputs": [
    {
     "data": {
      "text/markdown": [
       "This distribution plot was helpful to tell whether or not the percentage of uppercase in emails is doing anything to seperate spam from ham. You can see that ham (blue)has a high peak and small right tail which means that ham tends to cluster in a predicable way. Spam (green) has a wider distribution, showing that it is seperable from ham using this classifier."
      ],
      "text/plain": [
       "<IPython.core.display.Markdown object>"
      ]
     },
     "metadata": {},
     "output_type": "display_data"
    },
    {
     "data": {
      "text/plain": [
       "<matplotlib.axes._subplots.AxesSubplot at 0x113fa2c50>"
      ]
     },
     "execution_count": 34,
     "metadata": {},
     "output_type": "execute_result"
    },
    {
     "data": {
      "image/png": "[encoded data removed]",
      "text/plain": [
       "<matplotlib.figure.Figure at 0x1137f2470>"
      ]
     },
     "metadata": {},
     "output_type": "display_data"
    }
   ],
   "source": [
    "# This is the third graded EDA cell\n",
    "some_string3 = 'This distribution plot was helpful to tell whether or not the percentage of uppercase in emails is doing anything to seperate spam from ham. You can see that ham (blue)has a high peak and small right tail which means that ham tends to cluster in a predicable way. Spam (green) has a wider distribution, showing that it is seperable from ham using this classifier.'\n",
    "\n",
    "display(Markdown(some_string3))\n",
    "\n",
    "fig3, ax3 = plt.subplots()\n",
    "fig3.set_size_inches(11.7, 8.27)\n",
    "sns.distplot(meta_train.loc[meta_train['spam']==0, 'email_up'], label = 'HAM')\n",
    "sns.distplot(meta_train.loc[meta_train['spam']==1, 'email_up'], label = 'SPAM')  \n"
   ]
  },
  {
   "cell_type": "code",
   "execution_count": 35,
   "metadata": {
    "tags": [
     "student",
     "written",
     "q_eda4"
    ]
   },
   "outputs": [
    {
     "data": {
      "text/markdown": [
       "This plot was useful in being able to tell the degree to which each classifier was affecting sensitivity versus specificity. This plot revealed an interesting different in the uppercase in email versusuppercase in subject classifiers as they achieve similar prediction accuracy, but seem to be explaining different parts of the variance."
      ],
      "text/plain": [
       "<IPython.core.display.Markdown object>"
      ]
     },
     "metadata": {},
     "output_type": "display_data"
    },
    {
     "data": {
      "text/plain": [
       "<matplotlib.text.Text at 0x113cca470>"
      ]
     },
     "execution_count": 35,
     "metadata": {},
     "output_type": "execute_result"
    },
    {
     "data": {
      "image/png": "[encoded data removed]",
      "text/plain": [
       "<matplotlib.figure.Figure at 0x113d4a588>"
      ]
     },
     "metadata": {},
     "output_type": "display_data"
    }
   ],
   "source": [
    "# This is the fourth graded EDA cell\n",
    "some_string4 = 'This plot was useful in being able to tell the degree to which each classifier was affecting sensitivity versus specificity. This plot revealed an interesting different in the uppercase in email versusuppercase in subject classifiers as they achieve similar prediction accuracy, but seem to be explaining different parts of the variance.'\n",
    "\n",
    "display(Markdown(some_string4))\n",
    "\n",
    "\n",
    "fig4, ax4 = plt.subplots()\n",
    "sensitivities = [sensitivity_mail, sensitivity_subj, sensitivity_word, sensitivity_FINAL]\n",
    "specificities = [specificity_mail, specificity_subj, specificity_word, specificity_FINAL]\n",
    "plt.scatter(sensitivities, specificities)\n",
    "ax4.annotate(' Uppercase % in Email', xy=(sensitivities[0], specificities[0]))\n",
    "ax4.annotate(' Uppercase % in Subject', xy=(sensitivities[1], specificities[1]))\n",
    "ax4.annotate(' Spam Words', xy=(sensitivities[2], specificities[2]), xytext=(sensitivities[2]-0.02, specificities[2]-0.02))\n",
    "ax4.annotate(' FINAL', xy=(sensitivities[3], specificities[3]), xytext=(sensitivities[3], specificities[3]+0.01))\n",
    "\n",
    "plt.xlabel('sensitivity')\n",
    "plt.ylabel('specificity')"
   ]
  },
  {
   "cell_type": "markdown",
   "metadata": {},
   "source": [
    "### Making an ROC Curve\n",
    "\n",
    "It turns out that there's a tradeoff between sensitivity and specificity. In most cases we won't be able to get perfect sensitivity and specificity, so we have to select which of two we value more. For example, in the case of cancer screenings we value specificity more because false negatives are comparatively worse than false positives — a false negative means that a patient might not discover a disease until it's too late to treat, while a false positive means that a patient will probably have to take another screening.\n",
    "\n",
    "Recall that logistic regression calculates the probability that an example belongs to a certain class. Then, to classify an example we say that an email is spam if our classifier gives it >=0.5 probability of being spam. However, we can adjust that cutoff: we can say that an email is spam only if our classifier gives it >=0.7 probability of being spam, for example. This is how we can trade off sensitivity and specificity.\n",
    "\n",
    "The ROC (receiver operating charactistic) curve shows this trade off for each possible cutoff probability. We will discuss this during lecture, and you can also read [this blog post for more information.](https://www.theanalysisfactor.com/what-is-an-roc-curve/).\n",
    "\n",
    "In the light blue cell below, plot the ROC curve for your final classifier (the one you use to make predictions for Kaggle)."
   ]
  },
  {
   "cell_type": "code",
   "execution_count": 36,
   "metadata": {
    "tags": [
     "student",
     "written",
     "q_roc"
    ]
   },
   "outputs": [
    {
     "data": {
      "text/plain": [
       "<matplotlib.text.Text at 0x1134e2400>"
      ]
     },
     "execution_count": 36,
     "metadata": {},
     "output_type": "execute_result"
    },
    {
     "data": {
      "image/png": "[encoded data removed]",
      "text/plain": [
       "<matplotlib.figure.Figure at 0x113b68da0>"
      ]
     },
     "metadata": {},
     "output_type": "display_data"
    }
   ],
   "source": [
    "from sklearn.metrics import roc_curve\n",
    "\n",
    "# Note that you'll want to use the .predict_proba(...) method for your classifier\n",
    "# instead of .predict(...) so you get probabilities, not classes\n",
    "\n",
    "clf_y = LogisticRegression()\n",
    "y_fit = clf_y.fit(X_word_subj_email, y_meta_train)\n",
    "y_hat = y_fit.predict_proba(X_word_subj_email)\n",
    "\n",
    "spam_prob = y_hat[:, 1]\n",
    "ham_prob = y_hat[:, 0]\n",
    "\n",
    "fpr, tpr, thresholds = roc_curve(y_meta_train, spam_prob)\n",
    "\n",
    "plt.plot(fpr, tpr, color='darkorange')\n",
    "plt.plot([0, 1], [0, 1], color='navy', linestyle='--')\n",
    "\n",
    "plt.xlabel('False Positive Rate')\n",
    "plt.ylabel('True Positive Rate')"
   ]
  },
  {
   "cell_type": "markdown",
   "metadata": {},
   "source": [
    "### Submitting to Kaggle\n",
    "\n",
    "The following code will write your predictions on the test dataset to a CSV, which you can submit to Kaggle. You may need to modify it to suit your needs.\n",
    "\n",
    "The code below assumes that you've saved your predictions in a 1-dimensional array called `test_predictions`.\n",
    "\n",
    "Remember that if you've performed transformations or featurization on the training data, you must also perform the same transformations on the test data in order to make predictions. For example, if you've created features for the words \"drug\" and \"money\" on the training data, you must also extract the same features in order to use scikit-learn's `.predict(...)` method.\n",
    "\n",
    "You should submit your CSV files to https://www.kaggle.com/t/433a6bca95f94a78a0d2a6e7e8b311c3"
   ]
  },
  {
   "cell_type": "code",
   "execution_count": 37,
   "metadata": {
    "collapsed": true
   },
   "outputs": [],
   "source": [
    "# some_words77 = ['drug', 'bank', 'prescription', 'memo', 'private']\n",
    "\n",
    "X_test = words_in_texts(spam_words, test['email'])\n",
    "# y_train = test['spam']\n",
    "\n",
    "#create a new dataframe called 'new_test' with a column of percent uppercase in subjects\n",
    "new_test = test.copy()\n",
    "new_test['subj_up'] = percent_upper_in_texts(test['subject'])\n",
    "\n",
    "#create a column of percentage of uppercase in emails\n",
    "new_test['email_up'] = percent_upper_in_texts(test['email'])\n",
    "\n",
    "#create a matrix of subject uppercase percentages\n",
    "X_subj_up77 = (new_test['subj_up']).as_matrix().reshape(-1, 1)\n",
    "\n",
    "#create a matrix of email uppercase percentages\n",
    "X_email_up77 = (new_test['email_up']).as_matrix().reshape(-1, 1)\n",
    "\n",
    "#create a matrix of the word feature space and subject and email uppercase percentage feature spaces\n",
    "\n",
    "FINAL_X_test = np.hstack((X_test, X_subj_up77, X_email_up77))\n",
    "\n",
    "\n",
    "#use the classifier from the training data to predict\n",
    "\n",
    "Word_subj_email_CLF_preds77 = CLF_word_subj_email.predict(X_word_subj_email)\n",
    "\n",
    "\n",
    "#create a classifier for the CLF word/subject/email predictions and get cross validated predictions\n",
    "\n",
    "# Word_subj_email_CV_preds77 = cross_val_predict(CLF_word_subj_email_CV, X_word_subj_email77)"
   ]
  },
  {
   "cell_type": "code",
   "execution_count": 38,
   "metadata": {
    "collapsed": true
   },
   "outputs": [],
   "source": [
    "FINAL_X_word = words_in_texts(spam_words, new_train['email'])"
   ]
  },
  {
   "cell_type": "code",
   "execution_count": 39,
   "metadata": {},
   "outputs": [
    {
     "data": {
      "text/plain": [
       "(8348, 424)"
      ]
     },
     "execution_count": 39,
     "metadata": {},
     "output_type": "execute_result"
    }
   ],
   "source": [
    "FINAL_X_word.shape"
   ]
  },
  {
   "cell_type": "code",
   "execution_count": 40,
   "metadata": {},
   "outputs": [
    {
     "data": {
      "text/plain": [
       "(8348,)"
      ]
     },
     "execution_count": 40,
     "metadata": {},
     "output_type": "execute_result"
    }
   ],
   "source": [
    "FINAL_y_train = new_train['spam']\n",
    "FINAL_y_train.shape"
   ]
  },
  {
   "cell_type": "code",
   "execution_count": 41,
   "metadata": {
    "collapsed": true
   },
   "outputs": [],
   "source": [
    "#create a matrix of subject uppercase percentages\n",
    "FINAL_X_subj_up = (new_train['subj_up']).as_matrix().reshape(-1, 1)"
   ]
  },
  {
   "cell_type": "code",
   "execution_count": 42,
   "metadata": {},
   "outputs": [
    {
     "data": {
      "text/plain": [
       "(8348, 1)"
      ]
     },
     "execution_count": 42,
     "metadata": {},
     "output_type": "execute_result"
    }
   ],
   "source": [
    "FINAL_X_subj_up.shape"
   ]
  },
  {
   "cell_type": "code",
   "execution_count": 43,
   "metadata": {
    "collapsed": true
   },
   "outputs": [],
   "source": [
    "#create a matrix of email uppercase percentages\n",
    "FINAL_X_email_up = (new_train['email_up']).as_matrix().reshape(-1, 1)"
   ]
  },
  {
   "cell_type": "code",
   "execution_count": 44,
   "metadata": {},
   "outputs": [
    {
     "data": {
      "text/plain": [
       "(8348, 1)"
      ]
     },
     "execution_count": 44,
     "metadata": {},
     "output_type": "execute_result"
    }
   ],
   "source": [
    "FINAL_X_email_up.shape"
   ]
  },
  {
   "cell_type": "code",
   "execution_count": 45,
   "metadata": {
    "collapsed": true
   },
   "outputs": [],
   "source": [
    "#create a matrix of the word feature space and subject and email uppercase percentage feature spaces\n",
    "FINAL_X_word_subj_email = np.hstack((FINAL_X_word, FINAL_X_subj_up, FINAL_X_email_up))"
   ]
  },
  {
   "cell_type": "code",
   "execution_count": 46,
   "metadata": {
    "collapsed": true
   },
   "outputs": [],
   "source": [
    "FINAL_clf = LogisticRegression()\n",
    "\n",
    "FINAL_fit = FINAL_clf.fit(FINAL_X_word_subj_email, FINAL_y_train)\n",
    "\n",
    "test_predictions = FINAL_fit.predict(FINAL_X_test)"
   ]
  },
  {
   "cell_type": "code",
   "execution_count": 47,
   "metadata": {},
   "outputs": [
    {
     "data": {
      "text/plain": [
       "(1000,)"
      ]
     },
     "execution_count": 47,
     "metadata": {},
     "output_type": "execute_result"
    }
   ],
   "source": [
    "test_predictions.shape"
   ]
  },
  {
   "cell_type": "code",
   "execution_count": 48,
   "metadata": {
    "collapsed": true
   },
   "outputs": [],
   "source": [
    "# from datetime import datetime\n",
    "\n",
    "# # Assuming that your predictions on the test set are stored in a 1-dimensional array called\n",
    "# # test_predictions. Feel free to modify this cell as long you create a CSV in the right format.\n",
    "# assert isinstance(test_predictions, np.ndarray)\n",
    "# assert test_predictions.shape == (1000, )\n",
    "\n",
    "# submission_df = pd.DataFrame({\n",
    "#     \"Id\": test['id'], \n",
    "#     \"Class\": test_predictions,\n",
    "# }, columns=['Id', 'Class'])\n",
    "\n",
    "# timestamp = datetime.isoformat(datetime.now()).split(\".\")[0]\n",
    "\n",
    "# submission_df.to_csv(\"submission_{}.csv\".format(timestamp), index=False)\n",
    "# print('Created a CSV file: {}.'.format(\"submission_{}.csv\".format(timestamp)))\n",
    "# print('You may now upload this CSV file to Kaggle for scoring.')"
   ]
  },
  {
   "cell_type": "markdown",
   "metadata": {},
   "source": [
    "## Submission\n",
    "\n",
    "Run the cell below to submit your notebook to OkPy:"
   ]
  },
  {
   "cell_type": "code",
   "execution_count": 49,
   "metadata": {},
   "outputs": [
    {
     "data": {
      "application/javascript": [
       "IPython.notebook.save_checkpoint();"
      ],
      "text/plain": [
       "<IPython.core.display.Javascript object>"
      ]
     },
     "metadata": {},
     "output_type": "display_data"
    },
    {
     "data": {
      "application/javascript": [
       "IPython.notebook.save_notebook();"
      ],
      "text/plain": [
       "<IPython.core.display.Javascript object>"
      ]
     },
     "metadata": {},
     "output_type": "display_data"
    },
    {
     "name": "stdout",
     "output_type": "stream",
     "text": [
      "Saving notebook... Saved 'proj2.ipynb'.\n",
      "Submit... 100% complete\n",
      "Submission successful for user: kath.eddinger@berkeley.edu\n",
      "URL: https://okpy.org/cal/ds100/fa17/proj2/submissions/982znJ\n",
      "\n"
     ]
    }
   ],
   "source": [
    "_ = ok.submit()"
   ]
  },
  {
   "cell_type": "markdown",
   "metadata": {},
   "source": [
    "Now, run this cell to create a PDF to upload to Gradescope."
   ]
  },
  {
   "cell_type": "code",
   "execution_count": 50,
   "metadata": {
    "tags": [
     "student",
     "no-ok"
    ]
   },
   "outputs": [
    {
     "name": "stdout",
     "output_type": "stream",
     "text": [
      "Collecting gs100\n",
      "  Downloading gs100-0.0.5-py3-none-any.whl\n",
      "Requirement already up-to-date: nbformat>=4 in /Users/katherineeddinger/anaconda3/envs/ds100/lib/python3.6/site-packages (from gs100)\n",
      "Requirement already up-to-date: nbconvert>=5 in /Users/katherineeddinger/anaconda3/envs/ds100/lib/python3.6/site-packages (from gs100)\n",
      "Requirement already up-to-date: pdfkit>=0.6 in /Users/katherineeddinger/anaconda3/envs/ds100/lib/python3.6/site-packages (from gs100)\n",
      "Requirement already up-to-date: PyPDF2>=1.26 in /Users/katherineeddinger/anaconda3/envs/ds100/lib/python3.6/site-packages (from gs100)\n",
      "Requirement already up-to-date: toolz>=0.8 in /Users/katherineeddinger/anaconda3/envs/ds100/lib/python3.6/site-packages (from gs100)\n",
      "Requirement already up-to-date: beautifulsoup4>=4 in /Users/katherineeddinger/anaconda3/envs/ds100/lib/python3.6/site-packages (from gs100)\n",
      "Requirement already up-to-date: jupyter-core in /Users/katherineeddinger/anaconda3/envs/ds100/lib/python3.6/site-packages (from nbformat>=4->gs100)\n",
      "Requirement already up-to-date: traitlets>=4.1 in /Users/katherineeddinger/anaconda3/envs/ds100/lib/python3.6/site-packages (from nbformat>=4->gs100)\n",
      "Requirement already up-to-date: ipython-genutils in /Users/katherineeddinger/anaconda3/envs/ds100/lib/python3.6/site-packages (from nbformat>=4->gs100)\n",
      "Requirement already up-to-date: jsonschema!=2.5.0,>=2.4 in /Users/katherineeddinger/anaconda3/envs/ds100/lib/python3.6/site-packages (from nbformat>=4->gs100)\n",
      "Requirement already up-to-date: entrypoints>=0.2.2 in /Users/katherineeddinger/anaconda3/envs/ds100/lib/python3.6/site-packages (from nbconvert>=5->gs100)\n",
      "Requirement already up-to-date: pandocfilters>=1.4.1 in /Users/katherineeddinger/anaconda3/envs/ds100/lib/python3.6/site-packages (from nbconvert>=5->gs100)\n",
      "Requirement already up-to-date: jinja2 in /Users/katherineeddinger/anaconda3/envs/ds100/lib/python3.6/site-packages (from nbconvert>=5->gs100)\n",
      "Requirement already up-to-date: testpath in /Users/katherineeddinger/anaconda3/envs/ds100/lib/python3.6/site-packages (from nbconvert>=5->gs100)\n",
      "Collecting bleach (from nbconvert>=5->gs100)\n",
      "  Using cached bleach-2.1.1-py2.py3-none-any.whl\n",
      "Collecting mistune>=0.7.4 (from nbconvert>=5->gs100)\n",
      "  Downloading mistune-0.8.3-py2.py3-none-any.whl\n",
      "Requirement already up-to-date: pygments in /Users/katherineeddinger/anaconda3/envs/ds100/lib/python3.6/site-packages (from nbconvert>=5->gs100)\n",
      "Requirement already up-to-date: MarkupSafe>=0.23 in /Users/katherineeddinger/anaconda3/envs/ds100/lib/python3.6/site-packages (from jinja2->nbconvert>=5->gs100)\n",
      "Requirement already up-to-date: six in /Users/katherineeddinger/.local/lib/python3.6/site-packages (from bleach->nbconvert>=5->gs100)\n",
      "Collecting html5lib!=1.0b1,!=1.0b2,!=1.0b3,!=1.0b4,!=1.0b5,!=1.0b6,!=1.0b7,!=1.0b8,>=0.99999999pre (from bleach->nbconvert>=5->gs100)\n",
      "  Using cached html5lib-1.0b10-py2.py3-none-any.whl\n",
      "Requirement already up-to-date: webencodings in /Users/katherineeddinger/anaconda3/envs/ds100/lib/python3.6/site-packages (from html5lib!=1.0b1,!=1.0b2,!=1.0b3,!=1.0b4,!=1.0b5,!=1.0b6,!=1.0b7,!=1.0b8,>=0.99999999pre->bleach->nbconvert>=5->gs100)\n",
      "Collecting setuptools>=18.5 (from html5lib!=1.0b1,!=1.0b2,!=1.0b3,!=1.0b4,!=1.0b5,!=1.0b6,!=1.0b7,!=1.0b8,>=0.99999999pre->bleach->nbconvert>=5->gs100)\n",
      "  Downloading setuptools-38.2.4-py2.py3-none-any.whl (489kB)\n",
      "\u001b[K    100% |████████████████████████████████| 491kB 800kB/s ta 0:00:011\n",
      "\u001b[?25hInstalling collected packages: gs100, setuptools, html5lib, bleach, mistune\n",
      "  Found existing installation: gs100 0.0.2\n",
      "    Uninstalling gs100-0.0.2:\n",
      "      Successfully uninstalled gs100-0.0.2\n",
      "  Found existing installation: setuptools 38.2.3\n",
      "    Uninstalling setuptools-38.2.3:\n",
      "      Successfully uninstalled setuptools-38.2.3\n",
      "  Found existing installation: html5lib 0.9999999\n",
      "    Uninstalling html5lib-0.9999999:\n",
      "      Successfully uninstalled html5lib-0.9999999\n",
      "  Found existing installation: bleach 1.5.0\n",
      "    Uninstalling bleach-1.5.0:\n",
      "      Successfully uninstalled bleach-1.5.0\n",
      "  Found existing installation: mistune 0.8.1\n",
      "    Uninstalling mistune-0.8.1:\n",
      "      Successfully uninstalled mistune-0.8.1\n",
      "Successfully installed bleach-2.1.1 gs100-0.0.5 html5lib-1.0b10 mistune-0.8.3 setuptools-38.2.4\n"
     ]
    },
    {
     "data": {
      "application/javascript": [
       "IPython.notebook.save_checkpoint();"
      ],
      "text/plain": [
       "<IPython.core.display.Javascript object>"
      ]
     },
     "metadata": {},
     "output_type": "display_data"
    },
    {
     "data": {
      "application/javascript": [
       "IPython.notebook.save_notebook();"
      ],
      "text/plain": [
       "<IPython.core.display.Javascript object>"
      ]
     },
     "metadata": {},
     "output_type": "display_data"
    },
    {
     "name": "stdout",
     "output_type": "stream",
     "text": [
      "Saving notebook... Saved 'proj2.ipynb'.\n",
      "Created question_pdfs/q_email.pdf\n",
      "Created question_pdfs/q01.pdf\n",
      "Created question_pdfs/q06.pdf\n",
      "Created question_pdfs/q_feature.pdf\n",
      "Created question_pdfs/q_eda2.pdf\n",
      "Created question_pdfs/q_eda3.pdf\n",
      "Created question_pdfs/q_eda4.pdf\n",
      "Created question_pdfs/q_roc.pdf\n"
     ]
    },
    {
     "name": "stderr",
     "output_type": "stream",
     "text": [
      "WARNING  | converter.py:73 | We expected there to be 8 questions but there are only 8 in your final PDF. Gradescope will most likely not accept your submission. Double check that you wrote your answers in the cells that we provided.\n"
     ]
    },
    {
     "data": {
      "text/html": [
       "<a href=\"./gradescope.pdf\" target=\"_blank\">Done! Click this link to download the pdf. Upload this PDF to Gradescope for grading.</a>"
      ],
      "text/plain": [
       "<IPython.core.display.HTML object>"
      ]
     },
     "metadata": {},
     "output_type": "display_data"
    },
    {
     "name": "stdout",
     "output_type": "stream",
     "text": [
      "If the font size of your PDF is too small/large, change the value of the zoom argument when calling convert. For example, setting zoom=2 makes everything twice as big.\n"
     ]
    }
   ],
   "source": [
    "!pip install -U gs100\n",
    "from gs100 import convert\n",
    "# Change the zoom argument if your font size is too small\n",
    "convert('proj2.ipynb', num_questions=8, zoom=1)"
   ]
  },
  {
   "cell_type": "markdown",
   "metadata": {},
   "source": [
    "Make sure to upload your PDF now. Otherwise, your written questions won't be graded."
   ]
  },
  {
   "cell_type": "code",
   "execution_count": null,
   "metadata": {
    "collapsed": true
   },
   "outputs": [],
   "source": []
  }
 ],
 "metadata": {
  "kernelspec": {
   "display_name": "Python 3",
   "language": "python",
   "name": "python3"
  },
  "language_info": {
   "codemirror_mode": {
    "name": "ipython",
    "version": 3
   },
   "file_extension": ".py",
   "mimetype": "text/x-python",
   "name": "python",
   "nbconvert_exporter": "python",
   "pygments_lexer": "ipython3",
   "version": "3.5.5"
  },
  "widgets": {
   "state": {},
   "version": "1.1.2"
  }
 },
 "nbformat": 4,
 "nbformat_minor": 2
}
