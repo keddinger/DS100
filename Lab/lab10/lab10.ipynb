{
 "cells": [
  {
   "cell_type": "markdown",
   "metadata": {},
   "source": [
    "# Lab 10: Introduction to Least Squares Regression and the Normal Equations\n",
    "\n",
    "\n",
    "In this lab you will implement the normal equations to estimate the parameters of a least squares regression model.  This lab will also help prepare you for the homework this week."
   ]
  },
  {
   "cell_type": "code",
   "execution_count": 1,
   "metadata": {},
   "outputs": [
    {
     "name": "stdout",
     "output_type": "stream",
     "text": [
      "=====================================================================\n",
      "Assignment: lab10\n",
      "OK, version v1.13.9\n",
      "=====================================================================\n",
      "\n"
     ]
    }
   ],
   "source": [
    "# Run this cell to set up your notebook\n",
    "import numpy as np\n",
    "import pandas as pd\n",
    "import seaborn as sns\n",
    "import matplotlib.pyplot as plt\n",
    "\n",
    "%matplotlib notebook\n",
    "\n",
    "from client.api.notebook import Notebook\n",
    "ok = Notebook('lab10.ok')"
   ]
  },
  {
   "cell_type": "code",
   "execution_count": 2,
   "metadata": {
    "collapsed": true
   },
   "outputs": [],
   "source": [
    "np.set_printoptions(16)\n",
    "# For instructor use only. Call this function to force refresh okpy tests\n",
    "def refresh():\n",
    "    import sys\n",
    "    keys = [k for k in sys.modules.keys() if 'ok_tests' in k]\n",
    "    for k in keys:\n",
    "        del sys.modules[k]\n",
    "    global ok\n",
    "    ok = Notebook('lab09.ok')"
   ]
  },
  {
   "cell_type": "code",
   "execution_count": 3,
   "metadata": {},
   "outputs": [
    {
     "name": "stdout",
     "output_type": "stream",
     "text": [
      "\n",
      "Open the following URL:\n",
      "\n",
      "https://okpy.org/client/login/\n",
      "\n",
      "After logging in, copy the code from the web page and paste it into the box.\n",
      "Then press the \"Enter\" key on your keyboard.\n",
      "\n",
      "Paste your code here: 6ZW6cqsASOfgMS5gMiGFfa3bzIuZr7\n",
      "Successfully logged in as kath.eddinger@berkeley.edu\n"
     ]
    }
   ],
   "source": [
    "ok.auth(force=True) # Change False to True if you are getting errors authenticating"
   ]
  },
  {
   "cell_type": "markdown",
   "metadata": {},
   "source": [
    "### Creating the Data\n",
    "\n",
    "Before we implement least squares linear regression in the cloud, let's first try implementing it within this notebook.\n",
    "\n",
    "The following code downloads and plots a small toy dataset."
   ]
  },
  {
   "cell_type": "code",
   "execution_count": 5,
   "metadata": {
    "collapsed": true
   },
   "outputs": [],
   "source": [
    "n = 100\n",
    "p = 2\n",
    "theta_true = np.array([-2.2, 1.0])\n",
    "intercept = 4.0 \n",
    "np.random.seed(42)\n",
    "X = np.random.rand(n, p)*2.0 - 1.0\n",
    "Y =  X @ theta_true + intercept + np.random.randn(n) * 0.2 "
   ]
  },
  {
   "cell_type": "markdown",
   "metadata": {},
   "source": [
    "Take the following plot for a spin (literally).  Drag across the plot to spin it. Notice that we added the origin in red."
   ]
  },
  {
   "cell_type": "code",
   "execution_count": 6,
   "metadata": {},
   "outputs": [
    {
     "data": {
      "application/javascript": [
       "/* Put everything inside the global mpl namespace */\n",
       "window.mpl = {};\n",
       "\n",
       "\n",
       "mpl.get_websocket_type = function() {\n",
       "    if (typeof(WebSocket) !== 'undefined') {\n",
       "        return WebSocket;\n",
       "    } else if (typeof(MozWebSocket) !== 'undefined') {\n",
       "        return MozWebSocket;\n",
       "    } else {\n",
       "        alert('Your browser does not have WebSocket support.' +\n",
       "              'Please try Chrome, Safari or Firefox ≥ 6. ' +\n",
       "              'Firefox 4 and 5 are also supported but you ' +\n",
       "              'have to enable WebSockets in about:config.');\n",
       "    };\n",
       "}\n",
       "\n",
       "mpl.figure = function(figure_id, websocket, ondownload, parent_element) {\n",
       "    this.id = figure_id;\n",
       "\n",
       "    this.ws = websocket;\n",
       "\n",
       "    this.supports_binary = (this.ws.binaryType != undefined);\n",
       "\n",
       "    if (!this.supports_binary) {\n",
       "        var warnings = document.getElementById(\"mpl-warnings\");\n",
       "        if (warnings) {\n",
       "            warnings.style.display = 'block';\n",
       "            warnings.textContent = (\n",
       "                \"This browser does not support binary websocket messages. \" +\n",
       "                    \"Performance may be slow.\");\n",
       "        }\n",
       "    }\n",
       "\n",
       "    this.imageObj = new Image();\n",
       "\n",
       "    this.context = undefined;\n",
       "    this.message = undefined;\n",
       "    this.canvas = undefined;\n",
       "    this.rubberband_canvas = undefined;\n",
       "    this.rubberband_context = undefined;\n",
       "    this.format_dropdown = undefined;\n",
       "\n",
       "    this.image_mode = 'full';\n",
       "\n",
       "    this.root = $('<div/>');\n",
       "    this._root_extra_style(this.root)\n",
       "    this.root.attr('style', 'display: inline-block');\n",
       "\n",
       "    $(parent_element).append(this.root);\n",
       "\n",
       "    this._init_header(this);\n",
       "    this._init_canvas(this);\n",
       "    this._init_toolbar(this);\n",
       "\n",
       "    var fig = this;\n",
       "\n",
       "    this.waiting = false;\n",
       "\n",
       "    this.ws.onopen =  function () {\n",
       "            fig.send_message(\"supports_binary\", {value: fig.supports_binary});\n",
       "            fig.send_message(\"send_image_mode\", {});\n",
       "            if (mpl.ratio != 1) {\n",
       "                fig.send_message(\"set_dpi_ratio\", {'dpi_ratio': mpl.ratio});\n",
       "            }\n",
       "            fig.send_message(\"refresh\", {});\n",
       "        }\n",
       "\n",
       "    this.imageObj.onload = function() {\n",
       "            if (fig.image_mode == 'full') {\n",
       "                // Full images could contain transparency (where diff images\n",
       "                // almost always do), so we need to clear the canvas so that\n",
       "                // there is no ghosting.\n",
       "                fig.context.clearRect(0, 0, fig.canvas.width, fig.canvas.height);\n",
       "            }\n",
       "            fig.context.drawImage(fig.imageObj, 0, 0);\n",
       "        };\n",
       "\n",
       "    this.imageObj.onunload = function() {\n",
       "        this.ws.close();\n",
       "    }\n",
       "\n",
       "    this.ws.onmessage = this._make_on_message_function(this);\n",
       "\n",
       "    this.ondownload = ondownload;\n",
       "}\n",
       "\n",
       "mpl.figure.prototype._init_header = function() {\n",
       "    var titlebar = $(\n",
       "        '<div class=\"ui-dialog-titlebar ui-widget-header ui-corner-all ' +\n",
       "        'ui-helper-clearfix\"/>');\n",
       "    var titletext = $(\n",
       "        '<div class=\"ui-dialog-title\" style=\"width: 100%; ' +\n",
       "        'text-align: center; padding: 3px;\"/>');\n",
       "    titlebar.append(titletext)\n",
       "    this.root.append(titlebar);\n",
       "    this.header = titletext[0];\n",
       "}\n",
       "\n",
       "\n",
       "\n",
       "mpl.figure.prototype._canvas_extra_style = function(canvas_div) {\n",
       "\n",
       "}\n",
       "\n",
       "\n",
       "mpl.figure.prototype._root_extra_style = function(canvas_div) {\n",
       "\n",
       "}\n",
       "\n",
       "mpl.figure.prototype._init_canvas = function() {\n",
       "    var fig = this;\n",
       "\n",
       "    var canvas_div = $('<div/>');\n",
       "\n",
       "    canvas_div.attr('style', 'position: relative; clear: both; outline: 0');\n",
       "\n",
       "    function canvas_keyboard_event(event) {\n",
       "        return fig.key_event(event, event['data']);\n",
       "    }\n",
       "\n",
       "    canvas_div.keydown('key_press', canvas_keyboard_event);\n",
       "    canvas_div.keyup('key_release', canvas_keyboard_event);\n",
       "    this.canvas_div = canvas_div\n",
       "    this._canvas_extra_style(canvas_div)\n",
       "    this.root.append(canvas_div);\n",
       "\n",
       "    var canvas = $('<canvas/>');\n",
       "    canvas.addClass('mpl-canvas');\n",
       "    canvas.attr('style', \"left: 0; top: 0; z-index: 0; outline: 0\")\n",
       "\n",
       "    this.canvas = canvas[0];\n",
       "    this.context = canvas[0].getContext(\"2d\");\n",
       "\n",
       "    var backingStore = this.context.backingStorePixelRatio ||\n",
       "\tthis.context.webkitBackingStorePixelRatio ||\n",
       "\tthis.context.mozBackingStorePixelRatio ||\n",
       "\tthis.context.msBackingStorePixelRatio ||\n",
       "\tthis.context.oBackingStorePixelRatio ||\n",
       "\tthis.context.backingStorePixelRatio || 1;\n",
       "\n",
       "    mpl.ratio = (window.devicePixelRatio || 1) / backingStore;\n",
       "\n",
       "    var rubberband = $('<canvas/>');\n",
       "    rubberband.attr('style', \"position: absolute; left: 0; top: 0; z-index: 1;\")\n",
       "\n",
       "    var pass_mouse_events = true;\n",
       "\n",
       "    canvas_div.resizable({\n",
       "        start: function(event, ui) {\n",
       "            pass_mouse_events = false;\n",
       "        },\n",
       "        resize: function(event, ui) {\n",
       "            fig.request_resize(ui.size.width, ui.size.height);\n",
       "        },\n",
       "        stop: function(event, ui) {\n",
       "            pass_mouse_events = true;\n",
       "            fig.request_resize(ui.size.width, ui.size.height);\n",
       "        },\n",
       "    });\n",
       "\n",
       "    function mouse_event_fn(event) {\n",
       "        if (pass_mouse_events)\n",
       "            return fig.mouse_event(event, event['data']);\n",
       "    }\n",
       "\n",
       "    rubberband.mousedown('button_press', mouse_event_fn);\n",
       "    rubberband.mouseup('button_release', mouse_event_fn);\n",
       "    // Throttle sequential mouse events to 1 every 20ms.\n",
       "    rubberband.mousemove('motion_notify', mouse_event_fn);\n",
       "\n",
       "    rubberband.mouseenter('figure_enter', mouse_event_fn);\n",
       "    rubberband.mouseleave('figure_leave', mouse_event_fn);\n",
       "\n",
       "    canvas_div.on(\"wheel\", function (event) {\n",
       "        event = event.originalEvent;\n",
       "        event['data'] = 'scroll'\n",
       "        if (event.deltaY < 0) {\n",
       "            event.step = 1;\n",
       "        } else {\n",
       "            event.step = -1;\n",
       "        }\n",
       "        mouse_event_fn(event);\n",
       "    });\n",
       "\n",
       "    canvas_div.append(canvas);\n",
       "    canvas_div.append(rubberband);\n",
       "\n",
       "    this.rubberband = rubberband;\n",
       "    this.rubberband_canvas = rubberband[0];\n",
       "    this.rubberband_context = rubberband[0].getContext(\"2d\");\n",
       "    this.rubberband_context.strokeStyle = \"#000000\";\n",
       "\n",
       "    this._resize_canvas = function(width, height) {\n",
       "        // Keep the size of the canvas, canvas container, and rubber band\n",
       "        // canvas in synch.\n",
       "        canvas_div.css('width', width)\n",
       "        canvas_div.css('height', height)\n",
       "\n",
       "        canvas.attr('width', width * mpl.ratio);\n",
       "        canvas.attr('height', height * mpl.ratio);\n",
       "        canvas.attr('style', 'width: ' + width + 'px; height: ' + height + 'px;');\n",
       "\n",
       "        rubberband.attr('width', width);\n",
       "        rubberband.attr('height', height);\n",
       "    }\n",
       "\n",
       "    // Set the figure to an initial 600x600px, this will subsequently be updated\n",
       "    // upon first draw.\n",
       "    this._resize_canvas(600, 600);\n",
       "\n",
       "    // Disable right mouse context menu.\n",
       "    $(this.rubberband_canvas).bind(\"contextmenu\",function(e){\n",
       "        return false;\n",
       "    });\n",
       "\n",
       "    function set_focus () {\n",
       "        canvas.focus();\n",
       "        canvas_div.focus();\n",
       "    }\n",
       "\n",
       "    window.setTimeout(set_focus, 100);\n",
       "}\n",
       "\n",
       "mpl.figure.prototype._init_toolbar = function() {\n",
       "    var fig = this;\n",
       "\n",
       "    var nav_element = $('<div/>')\n",
       "    nav_element.attr('style', 'width: 100%');\n",
       "    this.root.append(nav_element);\n",
       "\n",
       "    // Define a callback function for later on.\n",
       "    function toolbar_event(event) {\n",
       "        return fig.toolbar_button_onclick(event['data']);\n",
       "    }\n",
       "    function toolbar_mouse_event(event) {\n",
       "        return fig.toolbar_button_onmouseover(event['data']);\n",
       "    }\n",
       "\n",
       "    for(var toolbar_ind in mpl.toolbar_items) {\n",
       "        var name = mpl.toolbar_items[toolbar_ind][0];\n",
       "        var tooltip = mpl.toolbar_items[toolbar_ind][1];\n",
       "        var image = mpl.toolbar_items[toolbar_ind][2];\n",
       "        var method_name = mpl.toolbar_items[toolbar_ind][3];\n",
       "\n",
       "        if (!name) {\n",
       "            // put a spacer in here.\n",
       "            continue;\n",
       "        }\n",
       "        var button = $('<button/>');\n",
       "        button.addClass('ui-button ui-widget ui-state-default ui-corner-all ' +\n",
       "                        'ui-button-icon-only');\n",
       "        button.attr('role', 'button');\n",
       "        button.attr('aria-disabled', 'false');\n",
       "        button.click(method_name, toolbar_event);\n",
       "        button.mouseover(tooltip, toolbar_mouse_event);\n",
       "\n",
       "        var icon_img = $('<span/>');\n",
       "        icon_img.addClass('ui-button-icon-primary ui-icon');\n",
       "        icon_img.addClass(image);\n",
       "        icon_img.addClass('ui-corner-all');\n",
       "\n",
       "        var tooltip_span = $('<span/>');\n",
       "        tooltip_span.addClass('ui-button-text');\n",
       "        tooltip_span.html(tooltip);\n",
       "\n",
       "        button.append(icon_img);\n",
       "        button.append(tooltip_span);\n",
       "\n",
       "        nav_element.append(button);\n",
       "    }\n",
       "\n",
       "    var fmt_picker_span = $('<span/>');\n",
       "\n",
       "    var fmt_picker = $('<select/>');\n",
       "    fmt_picker.addClass('mpl-toolbar-option ui-widget ui-widget-content');\n",
       "    fmt_picker_span.append(fmt_picker);\n",
       "    nav_element.append(fmt_picker_span);\n",
       "    this.format_dropdown = fmt_picker[0];\n",
       "\n",
       "    for (var ind in mpl.extensions) {\n",
       "        var fmt = mpl.extensions[ind];\n",
       "        var option = $(\n",
       "            '<option/>', {selected: fmt === mpl.default_extension}).html(fmt);\n",
       "        fmt_picker.append(option)\n",
       "    }\n",
       "\n",
       "    // Add hover states to the ui-buttons\n",
       "    $( \".ui-button\" ).hover(\n",
       "        function() { $(this).addClass(\"ui-state-hover\");},\n",
       "        function() { $(this).removeClass(\"ui-state-hover\");}\n",
       "    );\n",
       "\n",
       "    var status_bar = $('<span class=\"mpl-message\"/>');\n",
       "    nav_element.append(status_bar);\n",
       "    this.message = status_bar[0];\n",
       "}\n",
       "\n",
       "mpl.figure.prototype.request_resize = function(x_pixels, y_pixels) {\n",
       "    // Request matplotlib to resize the figure. Matplotlib will then trigger a resize in the client,\n",
       "    // which will in turn request a refresh of the image.\n",
       "    this.send_message('resize', {'width': x_pixels, 'height': y_pixels});\n",
       "}\n",
       "\n",
       "mpl.figure.prototype.send_message = function(type, properties) {\n",
       "    properties['type'] = type;\n",
       "    properties['figure_id'] = this.id;\n",
       "    this.ws.send(JSON.stringify(properties));\n",
       "}\n",
       "\n",
       "mpl.figure.prototype.send_draw_message = function() {\n",
       "    if (!this.waiting) {\n",
       "        this.waiting = true;\n",
       "        this.ws.send(JSON.stringify({type: \"draw\", figure_id: this.id}));\n",
       "    }\n",
       "}\n",
       "\n",
       "\n",
       "mpl.figure.prototype.handle_save = function(fig, msg) {\n",
       "    var format_dropdown = fig.format_dropdown;\n",
       "    var format = format_dropdown.options[format_dropdown.selectedIndex].value;\n",
       "    fig.ondownload(fig, format);\n",
       "}\n",
       "\n",
       "\n",
       "mpl.figure.prototype.handle_resize = function(fig, msg) {\n",
       "    var size = msg['size'];\n",
       "    if (size[0] != fig.canvas.width || size[1] != fig.canvas.height) {\n",
       "        fig._resize_canvas(size[0], size[1]);\n",
       "        fig.send_message(\"refresh\", {});\n",
       "    };\n",
       "}\n",
       "\n",
       "mpl.figure.prototype.handle_rubberband = function(fig, msg) {\n",
       "    var x0 = msg['x0'] / mpl.ratio;\n",
       "    var y0 = (fig.canvas.height - msg['y0']) / mpl.ratio;\n",
       "    var x1 = msg['x1'] / mpl.ratio;\n",
       "    var y1 = (fig.canvas.height - msg['y1']) / mpl.ratio;\n",
       "    x0 = Math.floor(x0) + 0.5;\n",
       "    y0 = Math.floor(y0) + 0.5;\n",
       "    x1 = Math.floor(x1) + 0.5;\n",
       "    y1 = Math.floor(y1) + 0.5;\n",
       "    var min_x = Math.min(x0, x1);\n",
       "    var min_y = Math.min(y0, y1);\n",
       "    var width = Math.abs(x1 - x0);\n",
       "    var height = Math.abs(y1 - y0);\n",
       "\n",
       "    fig.rubberband_context.clearRect(\n",
       "        0, 0, fig.canvas.width, fig.canvas.height);\n",
       "\n",
       "    fig.rubberband_context.strokeRect(min_x, min_y, width, height);\n",
       "}\n",
       "\n",
       "mpl.figure.prototype.handle_figure_label = function(fig, msg) {\n",
       "    // Updates the figure title.\n",
       "    fig.header.textContent = msg['label'];\n",
       "}\n",
       "\n",
       "mpl.figure.prototype.handle_cursor = function(fig, msg) {\n",
       "    var cursor = msg['cursor'];\n",
       "    switch(cursor)\n",
       "    {\n",
       "    case 0:\n",
       "        cursor = 'pointer';\n",
       "        break;\n",
       "    case 1:\n",
       "        cursor = 'default';\n",
       "        break;\n",
       "    case 2:\n",
       "        cursor = 'crosshair';\n",
       "        break;\n",
       "    case 3:\n",
       "        cursor = 'move';\n",
       "        break;\n",
       "    }\n",
       "    fig.rubberband_canvas.style.cursor = cursor;\n",
       "}\n",
       "\n",
       "mpl.figure.prototype.handle_message = function(fig, msg) {\n",
       "    fig.message.textContent = msg['message'];\n",
       "}\n",
       "\n",
       "mpl.figure.prototype.handle_draw = function(fig, msg) {\n",
       "    // Request the server to send over a new figure.\n",
       "    fig.send_draw_message();\n",
       "}\n",
       "\n",
       "mpl.figure.prototype.handle_image_mode = function(fig, msg) {\n",
       "    fig.image_mode = msg['mode'];\n",
       "}\n",
       "\n",
       "mpl.figure.prototype.updated_canvas_event = function() {\n",
       "    // Called whenever the canvas gets updated.\n",
       "    this.send_message(\"ack\", {});\n",
       "}\n",
       "\n",
       "// A function to construct a web socket function for onmessage handling.\n",
       "// Called in the figure constructor.\n",
       "mpl.figure.prototype._make_on_message_function = function(fig) {\n",
       "    return function socket_on_message(evt) {\n",
       "        if (evt.data instanceof Blob) {\n",
       "            /* FIXME: We get \"Resource interpreted as Image but\n",
       "             * transferred with MIME type text/plain:\" errors on\n",
       "             * Chrome.  But how to set the MIME type?  It doesn't seem\n",
       "             * to be part of the websocket stream */\n",
       "            evt.data.type = \"image/png\";\n",
       "\n",
       "            /* Free the memory for the previous frames */\n",
       "            if (fig.imageObj.src) {\n",
       "                (window.URL || window.webkitURL).revokeObjectURL(\n",
       "                    fig.imageObj.src);\n",
       "            }\n",
       "\n",
       "            fig.imageObj.src = (window.URL || window.webkitURL).createObjectURL(\n",
       "                evt.data);\n",
       "            fig.updated_canvas_event();\n",
       "            fig.waiting = false;\n",
       "            return;\n",
       "        }\n",
       "        else if (typeof evt.data === 'string' && evt.data.slice(0, 21) == \"data:image/png;base64\") {\n",
       "            fig.imageObj.src = evt.data;\n",
       "            fig.updated_canvas_event();\n",
       "            fig.waiting = false;\n",
       "            return;\n",
       "        }\n",
       "\n",
       "        var msg = JSON.parse(evt.data);\n",
       "        var msg_type = msg['type'];\n",
       "\n",
       "        // Call the  \"handle_{type}\" callback, which takes\n",
       "        // the figure and JSON message as its only arguments.\n",
       "        try {\n",
       "            var callback = fig[\"handle_\" + msg_type];\n",
       "        } catch (e) {\n",
       "            console.log(\"No handler for the '\" + msg_type + \"' message type: \", msg);\n",
       "            return;\n",
       "        }\n",
       "\n",
       "        if (callback) {\n",
       "            try {\n",
       "                // console.log(\"Handling '\" + msg_type + \"' message: \", msg);\n",
       "                callback(fig, msg);\n",
       "            } catch (e) {\n",
       "                console.log(\"Exception inside the 'handler_\" + msg_type + \"' callback:\", e, e.stack, msg);\n",
       "            }\n",
       "        }\n",
       "    };\n",
       "}\n",
       "\n",
       "// from http://stackoverflow.com/questions/1114465/getting-mouse-location-in-canvas\n",
       "mpl.findpos = function(e) {\n",
       "    //this section is from http://www.quirksmode.org/js/events_properties.html\n",
       "    var targ;\n",
       "    if (!e)\n",
       "        e = window.event;\n",
       "    if (e.target)\n",
       "        targ = e.target;\n",
       "    else if (e.srcElement)\n",
       "        targ = e.srcElement;\n",
       "    if (targ.nodeType == 3) // defeat Safari bug\n",
       "        targ = targ.parentNode;\n",
       "\n",
       "    // jQuery normalizes the pageX and pageY\n",
       "    // pageX,Y are the mouse positions relative to the document\n",
       "    // offset() returns the position of the element relative to the document\n",
       "    var x = e.pageX - $(targ).offset().left;\n",
       "    var y = e.pageY - $(targ).offset().top;\n",
       "\n",
       "    return {\"x\": x, \"y\": y};\n",
       "};\n",
       "\n",
       "/*\n",
       " * return a copy of an object with only non-object keys\n",
       " * we need this to avoid circular references\n",
       " * http://stackoverflow.com/a/24161582/3208463\n",
       " */\n",
       "function simpleKeys (original) {\n",
       "  return Object.keys(original).reduce(function (obj, key) {\n",
       "    if (typeof original[key] !== 'object')\n",
       "        obj[key] = original[key]\n",
       "    return obj;\n",
       "  }, {});\n",
       "}\n",
       "\n",
       "mpl.figure.prototype.mouse_event = function(event, name) {\n",
       "    var canvas_pos = mpl.findpos(event)\n",
       "\n",
       "    if (name === 'button_press')\n",
       "    {\n",
       "        this.canvas.focus();\n",
       "        this.canvas_div.focus();\n",
       "    }\n",
       "\n",
       "    var x = canvas_pos.x * mpl.ratio;\n",
       "    var y = canvas_pos.y * mpl.ratio;\n",
       "\n",
       "    this.send_message(name, {x: x, y: y, button: event.button,\n",
       "                             step: event.step,\n",
       "                             guiEvent: simpleKeys(event)});\n",
       "\n",
       "    /* This prevents the web browser from automatically changing to\n",
       "     * the text insertion cursor when the button is pressed.  We want\n",
       "     * to control all of the cursor setting manually through the\n",
       "     * 'cursor' event from matplotlib */\n",
       "    event.preventDefault();\n",
       "    return false;\n",
       "}\n",
       "\n",
       "mpl.figure.prototype._key_event_extra = function(event, name) {\n",
       "    // Handle any extra behaviour associated with a key event\n",
       "}\n",
       "\n",
       "mpl.figure.prototype.key_event = function(event, name) {\n",
       "\n",
       "    // Prevent repeat events\n",
       "    if (name == 'key_press')\n",
       "    {\n",
       "        if (event.which === this._key)\n",
       "            return;\n",
       "        else\n",
       "            this._key = event.which;\n",
       "    }\n",
       "    if (name == 'key_release')\n",
       "        this._key = null;\n",
       "\n",
       "    var value = '';\n",
       "    if (event.ctrlKey && event.which != 17)\n",
       "        value += \"ctrl+\";\n",
       "    if (event.altKey && event.which != 18)\n",
       "        value += \"alt+\";\n",
       "    if (event.shiftKey && event.which != 16)\n",
       "        value += \"shift+\";\n",
       "\n",
       "    value += 'k';\n",
       "    value += event.which.toString();\n",
       "\n",
       "    this._key_event_extra(event, name);\n",
       "\n",
       "    this.send_message(name, {key: value,\n",
       "                             guiEvent: simpleKeys(event)});\n",
       "    return false;\n",
       "}\n",
       "\n",
       "mpl.figure.prototype.toolbar_button_onclick = function(name) {\n",
       "    if (name == 'download') {\n",
       "        this.handle_save(this, null);\n",
       "    } else {\n",
       "        this.send_message(\"toolbar_button\", {name: name});\n",
       "    }\n",
       "};\n",
       "\n",
       "mpl.figure.prototype.toolbar_button_onmouseover = function(tooltip) {\n",
       "    this.message.textContent = tooltip;\n",
       "};\n",
       "mpl.toolbar_items = [[\"Home\", \"Reset original view\", \"fa fa-home icon-home\", \"home\"], [\"Back\", \"Back to  previous view\", \"fa fa-arrow-left icon-arrow-left\", \"back\"], [\"Forward\", \"Forward to next view\", \"fa fa-arrow-right icon-arrow-right\", \"forward\"], [\"\", \"\", \"\", \"\"], [\"Pan\", \"Pan axes with left mouse, zoom with right\", \"fa fa-arrows icon-move\", \"pan\"], [\"Zoom\", \"Zoom to rectangle\", \"fa fa-square-o icon-check-empty\", \"zoom\"], [\"\", \"\", \"\", \"\"], [\"Download\", \"Download plot\", \"fa fa-floppy-o icon-save\", \"download\"]];\n",
       "\n",
       "mpl.extensions = [\"eps\", \"jpeg\", \"pdf\", \"png\", \"ps\", \"raw\", \"svg\", \"tif\"];\n",
       "\n",
       "mpl.default_extension = \"png\";var comm_websocket_adapter = function(comm) {\n",
       "    // Create a \"websocket\"-like object which calls the given IPython comm\n",
       "    // object with the appropriate methods. Currently this is a non binary\n",
       "    // socket, so there is still some room for performance tuning.\n",
       "    var ws = {};\n",
       "\n",
       "    ws.close = function() {\n",
       "        comm.close()\n",
       "    };\n",
       "    ws.send = function(m) {\n",
       "        //console.log('sending', m);\n",
       "        comm.send(m);\n",
       "    };\n",
       "    // Register the callback with on_msg.\n",
       "    comm.on_msg(function(msg) {\n",
       "        //console.log('receiving', msg['content']['data'], msg);\n",
       "        // Pass the mpl event to the overriden (by mpl) onmessage function.\n",
       "        ws.onmessage(msg['content']['data'])\n",
       "    });\n",
       "    return ws;\n",
       "}\n",
       "\n",
       "mpl.mpl_figure_comm = function(comm, msg) {\n",
       "    // This is the function which gets called when the mpl process\n",
       "    // starts-up an IPython Comm through the \"matplotlib\" channel.\n",
       "\n",
       "    var id = msg.content.data.id;\n",
       "    // Get hold of the div created by the display call when the Comm\n",
       "    // socket was opened in Python.\n",
       "    var element = $(\"#\" + id);\n",
       "    var ws_proxy = comm_websocket_adapter(comm)\n",
       "\n",
       "    function ondownload(figure, format) {\n",
       "        window.open(figure.imageObj.src);\n",
       "    }\n",
       "\n",
       "    var fig = new mpl.figure(id, ws_proxy,\n",
       "                           ondownload,\n",
       "                           element.get(0));\n",
       "\n",
       "    // Call onopen now - mpl needs it, as it is assuming we've passed it a real\n",
       "    // web socket which is closed, not our websocket->open comm proxy.\n",
       "    ws_proxy.onopen();\n",
       "\n",
       "    fig.parent_element = element.get(0);\n",
       "    fig.cell_info = mpl.find_output_cell(\"<div id='\" + id + \"'></div>\");\n",
       "    if (!fig.cell_info) {\n",
       "        console.error(\"Failed to find cell for figure\", id, fig);\n",
       "        return;\n",
       "    }\n",
       "\n",
       "    var output_index = fig.cell_info[2]\n",
       "    var cell = fig.cell_info[0];\n",
       "\n",
       "};\n",
       "\n",
       "mpl.figure.prototype.handle_close = function(fig, msg) {\n",
       "    var width = fig.canvas.width/mpl.ratio\n",
       "    fig.root.unbind('remove')\n",
       "\n",
       "    // Update the output cell to use the data from the current canvas.\n",
       "    fig.push_to_output();\n",
       "    var dataURL = fig.canvas.toDataURL();\n",
       "    // Re-enable the keyboard manager in IPython - without this line, in FF,\n",
       "    // the notebook keyboard shortcuts fail.\n",
       "    IPython.keyboard_manager.enable()\n",
       "    $(fig.parent_element).html('<img src=\"' + dataURL + '\" width=\"' + width + '\">');\n",
       "    fig.close_ws(fig, msg);\n",
       "}\n",
       "\n",
       "mpl.figure.prototype.close_ws = function(fig, msg){\n",
       "    fig.send_message('closing', msg);\n",
       "    // fig.ws.close()\n",
       "}\n",
       "\n",
       "mpl.figure.prototype.push_to_output = function(remove_interactive) {\n",
       "    // Turn the data on the canvas into data in the output cell.\n",
       "    var width = this.canvas.width/mpl.ratio\n",
       "    var dataURL = this.canvas.toDataURL();\n",
       "    this.cell_info[1]['text/html'] = '<img src=\"' + dataURL + '\" width=\"' + width + '\">';\n",
       "}\n",
       "\n",
       "mpl.figure.prototype.updated_canvas_event = function() {\n",
       "    // Tell IPython that the notebook contents must change.\n",
       "    IPython.notebook.set_dirty(true);\n",
       "    this.send_message(\"ack\", {});\n",
       "    var fig = this;\n",
       "    // Wait a second, then push the new image to the DOM so\n",
       "    // that it is saved nicely (might be nice to debounce this).\n",
       "    setTimeout(function () { fig.push_to_output() }, 1000);\n",
       "}\n",
       "\n",
       "mpl.figure.prototype._init_toolbar = function() {\n",
       "    var fig = this;\n",
       "\n",
       "    var nav_element = $('<div/>')\n",
       "    nav_element.attr('style', 'width: 100%');\n",
       "    this.root.append(nav_element);\n",
       "\n",
       "    // Define a callback function for later on.\n",
       "    function toolbar_event(event) {\n",
       "        return fig.toolbar_button_onclick(event['data']);\n",
       "    }\n",
       "    function toolbar_mouse_event(event) {\n",
       "        return fig.toolbar_button_onmouseover(event['data']);\n",
       "    }\n",
       "\n",
       "    for(var toolbar_ind in mpl.toolbar_items){\n",
       "        var name = mpl.toolbar_items[toolbar_ind][0];\n",
       "        var tooltip = mpl.toolbar_items[toolbar_ind][1];\n",
       "        var image = mpl.toolbar_items[toolbar_ind][2];\n",
       "        var method_name = mpl.toolbar_items[toolbar_ind][3];\n",
       "\n",
       "        if (!name) { continue; };\n",
       "\n",
       "        var button = $('<button class=\"btn btn-default\" href=\"#\" title=\"' + name + '\"><i class=\"fa ' + image + ' fa-lg\"></i></button>');\n",
       "        button.click(method_name, toolbar_event);\n",
       "        button.mouseover(tooltip, toolbar_mouse_event);\n",
       "        nav_element.append(button);\n",
       "    }\n",
       "\n",
       "    // Add the status bar.\n",
       "    var status_bar = $('<span class=\"mpl-message\" style=\"text-align:right; float: right;\"/>');\n",
       "    nav_element.append(status_bar);\n",
       "    this.message = status_bar[0];\n",
       "\n",
       "    // Add the close button to the window.\n",
       "    var buttongrp = $('<div class=\"btn-group inline pull-right\"></div>');\n",
       "    var button = $('<button class=\"btn btn-mini btn-primary\" href=\"#\" title=\"Stop Interaction\"><i class=\"fa fa-power-off icon-remove icon-large\"></i></button>');\n",
       "    button.click(function (evt) { fig.handle_close(fig, {}); } );\n",
       "    button.mouseover('Stop Interaction', toolbar_mouse_event);\n",
       "    buttongrp.append(button);\n",
       "    var titlebar = this.root.find($('.ui-dialog-titlebar'));\n",
       "    titlebar.prepend(buttongrp);\n",
       "}\n",
       "\n",
       "mpl.figure.prototype._root_extra_style = function(el){\n",
       "    var fig = this\n",
       "    el.on(\"remove\", function(){\n",
       "\tfig.close_ws(fig, {});\n",
       "    });\n",
       "}\n",
       "\n",
       "mpl.figure.prototype._canvas_extra_style = function(el){\n",
       "    // this is important to make the div 'focusable\n",
       "    el.attr('tabindex', 0)\n",
       "    // reach out to IPython and tell the keyboard manager to turn it's self\n",
       "    // off when our div gets focus\n",
       "\n",
       "    // location in version 3\n",
       "    if (IPython.notebook.keyboard_manager) {\n",
       "        IPython.notebook.keyboard_manager.register_events(el);\n",
       "    }\n",
       "    else {\n",
       "        // location in version 2\n",
       "        IPython.keyboard_manager.register_events(el);\n",
       "    }\n",
       "\n",
       "}\n",
       "\n",
       "mpl.figure.prototype._key_event_extra = function(event, name) {\n",
       "    var manager = IPython.notebook.keyboard_manager;\n",
       "    if (!manager)\n",
       "        manager = IPython.keyboard_manager;\n",
       "\n",
       "    // Check for shift+enter\n",
       "    if (event.shiftKey && event.which == 13) {\n",
       "        this.canvas_div.blur();\n",
       "        // select the cell after this one\n",
       "        var index = IPython.notebook.find_cell_index(this.cell_info[0]);\n",
       "        IPython.notebook.select(index + 1);\n",
       "    }\n",
       "}\n",
       "\n",
       "mpl.figure.prototype.handle_save = function(fig, msg) {\n",
       "    fig.ondownload(fig, null);\n",
       "}\n",
       "\n",
       "\n",
       "mpl.find_output_cell = function(html_output) {\n",
       "    // Return the cell and output element which can be found *uniquely* in the notebook.\n",
       "    // Note - this is a bit hacky, but it is done because the \"notebook_saving.Notebook\"\n",
       "    // IPython event is triggered only after the cells have been serialised, which for\n",
       "    // our purposes (turning an active figure into a static one), is too late.\n",
       "    var cells = IPython.notebook.get_cells();\n",
       "    var ncells = cells.length;\n",
       "    for (var i=0; i<ncells; i++) {\n",
       "        var cell = cells[i];\n",
       "        if (cell.cell_type === 'code'){\n",
       "            for (var j=0; j<cell.output_area.outputs.length; j++) {\n",
       "                var data = cell.output_area.outputs[j];\n",
       "                if (data.data) {\n",
       "                    // IPython >= 3 moved mimebundle to data attribute of output\n",
       "                    data = data.data;\n",
       "                }\n",
       "                if (data['text/html'] == html_output) {\n",
       "                    return [cell, data, j];\n",
       "                }\n",
       "            }\n",
       "        }\n",
       "    }\n",
       "}\n",
       "\n",
       "// Register the function which deals with the matplotlib target/channel.\n",
       "// The kernel may be null if the page has been refreshed.\n",
       "if (IPython.notebook.kernel != null) {\n",
       "    IPython.notebook.kernel.comm_manager.register_target('matplotlib', mpl.mpl_figure_comm);\n",
       "}\n"
      ],
      "text/plain": [
       "<IPython.core.display.Javascript object>"
      ]
     },
     "metadata": {},
     "output_type": "display_data"
    },
    {
     "data": {
      "text/html": [
       "<img src=\"data:image/png;base64,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\" width=\"640\">"
      ],
      "text/plain": [
       "<IPython.core.display.HTML object>"
      ]
     },
     "metadata": {},
     "output_type": "display_data"
    },
    {
     "data": {
      "text/plain": [
       "<mpl_toolkits.mplot3d.art3d.Path3DCollection at 0x11c341470>"
      ]
     },
     "execution_count": 6,
     "metadata": {},
     "output_type": "execute_result"
    }
   ],
   "source": [
    "from mpl_toolkits.mplot3d import Axes3D\n",
    "fig = plt.figure(1)\n",
    "ax = fig.add_subplot(111, projection='3d')\n",
    "ax.scatter(X[:,0], X[:,1], Y)\n",
    "# Added the origin \n",
    "ax.scatter([0],[0],[0], \"o\", color='red')"
   ]
  },
  {
   "cell_type": "markdown",
   "metadata": {},
   "source": [
    "## Question 1\n",
    "\n",
    "Recall from class that when we solve the normal equations we obtain the following estimate for our linear model:\n",
    "\n",
    "$$\n",
    "\\hat{\\theta{}} = (X^T X)^{-1} (X^T y)\n",
    "$$\n",
    "\n",
    "Complete the following function to compute the parameter estimate $\\hat{\\theta{}}$:"
   ]
  },
  {
   "cell_type": "code",
   "execution_count": 8,
   "metadata": {
    "collapsed": true,
    "tags": [
     "student"
    ]
   },
   "outputs": [],
   "source": [
    "def least_squares_est(X, Y):\n",
    "    \"\"\"\n",
    "    Solve the normal equations for the data X and Y.\n",
    "    \n",
    "        X: is the covariate matrix where each row is a record \n",
    "            and each column is a feature\n",
    "        Y: is a vector containing the response values\n",
    "    \n",
    "    \n",
    "    returns the solution to the normal equations\n",
    "        inv(X.T @ X) @ (X.T @ Y)\n",
    "    \n",
    "    \"\"\"\n",
    "    # Read the documentation on this function\n",
    "    from numpy.linalg import solve  \n",
    "    return np.linalg.solve((X.T @ X) , (X.T @ Y))\n",
    "    "
   ]
  },
  {
   "cell_type": "markdown",
   "metadata": {},
   "source": [
    "Let's look at our estimate for the model parameters:"
   ]
  },
  {
   "cell_type": "code",
   "execution_count": 9,
   "metadata": {},
   "outputs": [
    {
     "data": {
      "text/plain": [
       "array([-2.5883789105125627,  0.6953174687410613])"
      ]
     },
     "execution_count": 9,
     "metadata": {},
     "output_type": "execute_result"
    }
   ],
   "source": [
    "theta_hat = least_squares_est(X, Y)\n",
    "theta_hat"
   ]
  },
  {
   "cell_type": "code",
   "execution_count": 10,
   "metadata": {
    "tags": [
     "test",
     "q01"
    ]
   },
   "outputs": [
    {
     "name": "stdout",
     "output_type": "stream",
     "text": [
      "~~~~~~~~~~~~~~~~~~~~~~~~~~~~~~~~~~~~~~~~~~~~~~~~~~~~~~~~~~~~~~~~~~~~~\n",
      "Running tests\n",
      "\n",
      "---------------------------------------------------------------------\n",
      "Test summary\n",
      "    Passed: 1\n",
      "    Failed: 0\n",
      "[ooooooooook] 100.0% passed\n",
      "\n"
     ]
    },
    {
     "data": {
      "application/javascript": [
       "IPython.notebook.save_checkpoint();"
      ],
      "text/plain": [
       "<IPython.core.display.Javascript object>"
      ]
     },
     "metadata": {},
     "output_type": "display_data"
    },
    {
     "data": {
      "application/javascript": [
       "IPython.notebook.save_notebook();"
      ],
      "text/plain": [
       "<IPython.core.display.Javascript object>"
      ]
     },
     "metadata": {},
     "output_type": "display_data"
    },
    {
     "name": "stdout",
     "output_type": "stream",
     "text": [
      "Saving notebook... Saved 'lab10.ipynb'.\n",
      "Backup... 100% complete\n",
      "Backup successful for user: kath.eddinger@berkeley.edu\n",
      "URL: https://okpy.org/cal/ds100/fa17/lab10/backups/OY1RPp\n",
      "NOTE: this is only a backup. To submit your assignment, use:\n",
      "\tpython3 ok --submit\n",
      "\n"
     ]
    }
   ],
   "source": [
    "_ = ok.grade('q01')\n",
    "_ = ok.backup()"
   ]
  },
  {
   "cell_type": "markdown",
   "metadata": {},
   "source": [
    "## Question 2\n",
    "\n",
    "Let's compute the correlation coefficient:\n",
    "\n",
    "$$\n",
    "r(x,y) = \\frac{1}{n} \\sum_{i=1}^n \\frac{(x_i - \\bar{x})}{\\sigma_x}  * \n",
    "\\frac{(y_i - \\bar{y})}{\\sigma_y}\n",
    "$$\n",
    "\n",
    "where:\n",
    "\n",
    "$$\n",
    "\\sigma_x = \\sqrt{\\frac{1}{n}\\sum_{i=1}^n (x-\\bar{x})^2}\n",
    "$$\n",
    "\n",
    "and\n",
    "\n",
    "$$\n",
    "\\sigma_y = \\sqrt{\\frac{1}{n}\\sum_{i=1}^n (y-\\bar{y})^2}\n",
    "$$\n",
    "\n",
    "Complete the following function:"
   ]
  },
  {
   "cell_type": "code",
   "execution_count": 11,
   "metadata": {
    "collapsed": true,
    "tags": [
     "student"
    ]
   },
   "outputs": [],
   "source": [
    "def correlation(x, y):\n",
    "    \"\"\"\n",
    "    Compute the correlation between the vectors x and y.\n",
    "    \n",
    "        x: a 1-dimensional vector of length n\n",
    "        y: a 1-dimensional vector of length n\n",
    "        \n",
    "    return the correlation coefficient defined as above.\n",
    "    \"\"\"\n",
    "    \n",
    "    sigma_x = np.std(x)\n",
    "    sigma_y = np.std(y)\n",
    "    \n",
    "    return np.mean([((x - np.mean(x))/(sigma_x))*((y - np.mean(y))/(sigma_y))])"
   ]
  },
  {
   "cell_type": "code",
   "execution_count": 12,
   "metadata": {
    "tags": [
     "test",
     "q02"
    ]
   },
   "outputs": [
    {
     "name": "stdout",
     "output_type": "stream",
     "text": [
      "~~~~~~~~~~~~~~~~~~~~~~~~~~~~~~~~~~~~~~~~~~~~~~~~~~~~~~~~~~~~~~~~~~~~~\n",
      "Running tests\n",
      "\n",
      "---------------------------------------------------------------------\n",
      "Test summary\n",
      "    Passed: 1\n",
      "    Failed: 0\n",
      "[ooooooooook] 100.0% passed\n",
      "\n"
     ]
    },
    {
     "data": {
      "application/javascript": [
       "IPython.notebook.save_checkpoint();"
      ],
      "text/plain": [
       "<IPython.core.display.Javascript object>"
      ]
     },
     "metadata": {},
     "output_type": "display_data"
    },
    {
     "data": {
      "application/javascript": [
       "IPython.notebook.save_notebook();"
      ],
      "text/plain": [
       "<IPython.core.display.Javascript object>"
      ]
     },
     "metadata": {},
     "output_type": "display_data"
    },
    {
     "name": "stdout",
     "output_type": "stream",
     "text": [
      "Saving notebook... Saved 'lab10.ipynb'.\n",
      "Backup... 100% complete\n",
      "Backup successful for user: kath.eddinger@berkeley.edu\n",
      "URL: https://okpy.org/cal/ds100/fa17/lab10/backups/2knQxz\n",
      "NOTE: this is only a backup. To submit your assignment, use:\n",
      "\tpython3 ok --submit\n",
      "\n"
     ]
    }
   ],
   "source": [
    "_ = ok.grade('q02')\n",
    "_ = ok.backup()"
   ]
  },
  {
   "cell_type": "markdown",
   "metadata": {},
   "source": [
    "In the following we compute the correlation coefficient for `X[:,0]` and `X[:,1]`"
   ]
  },
  {
   "cell_type": "code",
   "execution_count": 13,
   "metadata": {},
   "outputs": [
    {
     "data": {
      "text/plain": [
       "-0.90739849873602996"
      ]
     },
     "execution_count": 13,
     "metadata": {},
     "output_type": "execute_result"
    }
   ],
   "source": [
    "correlation(X[:,0], Y)\n"
   ]
  },
  {
   "cell_type": "code",
   "execution_count": 14,
   "metadata": {},
   "outputs": [
    {
     "data": {
      "text/plain": [
       "0.43225082378347557"
      ]
     },
     "execution_count": 14,
     "metadata": {},
     "output_type": "execute_result"
    }
   ],
   "source": [
    "correlation(X[:,1], Y)"
   ]
  },
  {
   "cell_type": "markdown",
   "metadata": {},
   "source": [
    "Which dimension has a stronger linear relationship?"
   ]
  },
  {
   "cell_type": "code",
   "execution_count": null,
   "metadata": {
    "collapsed": true,
    "tags": [
     "student"
    ]
   },
   "outputs": [],
   "source": [
    "q2_text = r\"\"\"your answer\"\"\""
   ]
  },
  {
   "cell_type": "markdown",
   "metadata": {},
   "source": [
    "## Question 3\n",
    "\n",
    "How well do we fit the data?  Let's examine our prediction error.  Finish the following function to compute the root mean squared error for a given theta:\n",
    "\n",
    "$$\n",
    "RMSE = \\sqrt{\\frac{1}{n} \\sum_{i=1}^n (\\theta^T X_{i,:} - Y_i)^2}\n",
    "$$"
   ]
  },
  {
   "cell_type": "code",
   "execution_count": null,
   "metadata": {
    "collapsed": true,
    "tags": [
     "student"
    ]
   },
   "outputs": [],
   "source": [
    "def rmse(theta, X, Y):\n",
    "    \"\"\"\n",
    "    Compute the root mean squared error for the parameters theta\n",
    "    \n",
    "        theta: the estimated parameter vector\n",
    "        X: the n by p covariate matrix\n",
    "        Y: the n response values\n",
    "    \n",
    "    return the np.sqrt of the np.mean of X.dot(theta) - Y)^2 \n",
    "    \n",
    "    \"\"\"\n",
    "    ..."
   ]
  },
  {
   "cell_type": "code",
   "execution_count": null,
   "metadata": {
    "collapsed": true,
    "tags": [
     "test",
     "q03"
    ]
   },
   "outputs": [],
   "source": [
    "_ = ok.grade('q03')\n",
    "_ = ok.backup()"
   ]
  },
  {
   "cell_type": "markdown",
   "metadata": {},
   "source": [
    "Examining the error in our estimate $\\hat{\\theta{}}$"
   ]
  },
  {
   "cell_type": "code",
   "execution_count": null,
   "metadata": {
    "collapsed": true
   },
   "outputs": [],
   "source": [
    "rmse(theta_true, X, Y)"
   ]
  },
  {
   "cell_type": "code",
   "execution_count": null,
   "metadata": {
    "collapsed": true
   },
   "outputs": [],
   "source": [
    "rmse(theta_hat, X, Y)"
   ]
  },
  {
   "cell_type": "markdown",
   "metadata": {},
   "source": [
    "Why might the estimator have a lower error than the true theta?"
   ]
  },
  {
   "cell_type": "code",
   "execution_count": null,
   "metadata": {
    "collapsed": true,
    "tags": [
     "student"
    ]
   },
   "outputs": [],
   "source": [
    "q3_text = r\"\"\"your answer\"\"\""
   ]
  },
  {
   "cell_type": "code",
   "execution_count": null,
   "metadata": {
    "collapsed": true
   },
   "outputs": [],
   "source": []
  },
  {
   "cell_type": "markdown",
   "metadata": {},
   "source": [
    "## Question 4\n",
    "\n",
    "Currently our model has the form:\n",
    "\n",
    "$$\n",
    "y = x_0  \\theta_0 + x_1 \\theta_1\n",
    "$$\n",
    "\n",
    "However we might want to add an additional intercept term:\n",
    "\n",
    "$$\n",
    "y = x_0  \\theta_0 + x_1 \\theta_1 + \\mathbf{\\theta_3}\n",
    "$$\n",
    "\n",
    "A common \"trick\" to add an extra constant term is to add an extra dimension (column) to our covariate matrix $X$:\n",
    "\n",
    "$$\n",
    "\\textbf{addConst}(X) = \n",
    "\\left(\n",
    "\\begin{matrix}\n",
    "X_{0,0} & X_{0,1} & \\color{red}{1.0} \\\\\n",
    "X_{1,0} & X_{1,1} & \\color{red}{1.0} \\\\\n",
    "\\ldots & \\ldots & \\ldots \\\\\n",
    "X_{n,0} & X_{n,1} & \\color{red}{1.0}\n",
    "\\end{matrix}\n",
    "\\right)\n",
    "$$\n",
    "\n",
    "Complete the following function.  You may want to use `np.hstack` and `np.ones((n,1))`.\n"
   ]
  },
  {
   "cell_type": "code",
   "execution_count": null,
   "metadata": {
    "collapsed": true,
    "tags": [
     "student"
    ]
   },
   "outputs": [],
   "source": [
    "def add_const(X):\n",
    "    \"\"\"\n",
    "    Add an extra column of 1.0 to n by p matrix.\n",
    "    \n",
    "        X: an n by p matrix\n",
    "        return: an n by (p+1) matrix with the last column \n",
    "            containing 1.0\n",
    "    \"\"\"\n",
    "    # Hint: use np.hstack\n",
    "    ..."
   ]
  },
  {
   "cell_type": "code",
   "execution_count": null,
   "metadata": {
    "collapsed": true,
    "tags": [
     "test",
     "q04"
    ]
   },
   "outputs": [],
   "source": [
    "_ = ok.grade('q04')\n",
    "_ = ok.backup()"
   ]
  },
  {
   "cell_type": "markdown",
   "metadata": {},
   "source": [
    "## Question 5\n",
    "\n",
    "Use the above code to compute the parameters for the model:\n",
    "\n",
    "$$\n",
    "y = x_0  \\theta_0 + x_1 \\theta_1 + \\mathbf{\\theta_3}\n",
    "$$\n"
   ]
  },
  {
   "cell_type": "code",
   "execution_count": null,
   "metadata": {
    "collapsed": true,
    "tags": [
     "student"
    ]
   },
   "outputs": [],
   "source": [
    "theta_hat_with_intercept = ..."
   ]
  },
  {
   "cell_type": "code",
   "execution_count": null,
   "metadata": {
    "collapsed": true,
    "tags": [
     "test",
     "q05"
    ]
   },
   "outputs": [],
   "source": [
    "_ = ok.grade('q05')\n",
    "_ = ok.backup()"
   ]
  },
  {
   "cell_type": "markdown",
   "metadata": {},
   "source": [
    "Let's compare the estimator parameters with the true parameters (which we know because we fabricated the data)."
   ]
  },
  {
   "cell_type": "code",
   "execution_count": null,
   "metadata": {
    "collapsed": true
   },
   "outputs": [],
   "source": [
    "theta_hat_with_intercept"
   ]
  },
  {
   "cell_type": "code",
   "execution_count": null,
   "metadata": {
    "collapsed": true
   },
   "outputs": [],
   "source": [
    "print(\"True theta_0 and theta_1\", theta_true)\n",
    "print(\"True intercept (theta_2)\", intercept)"
   ]
  },
  {
   "cell_type": "markdown",
   "metadata": {},
   "source": [
    "How did we do?  The numbers should be relatively close however there was noise in our data so it is possible that we are slightly off.  What about the RMSE?"
   ]
  },
  {
   "cell_type": "code",
   "execution_count": null,
   "metadata": {
    "collapsed": true
   },
   "outputs": [],
   "source": [
    "print(\"RMSE with intercept term:\", \n",
    "      rmse(theta_hat_with_intercept, add_const(X), Y))"
   ]
  },
  {
   "cell_type": "code",
   "execution_count": null,
   "metadata": {
    "collapsed": true
   },
   "outputs": [],
   "source": [
    "print(\"RMSE without intercept:\", \n",
    "      rmse(theta_hat, X, Y))"
   ]
  },
  {
   "cell_type": "markdown",
   "metadata": {},
   "source": [
    "That is a substantial improvement!"
   ]
  },
  {
   "cell_type": "markdown",
   "metadata": {},
   "source": [
    "## Question 6\n",
    "\n",
    "Uses `sns.distplot` to plot the distribution of the residual for our estimator with an intercept term.  Note if there is a any skew"
   ]
  },
  {
   "cell_type": "code",
   "execution_count": null,
   "metadata": {
    "collapsed": true,
    "tags": [
     "student"
    ]
   },
   "outputs": [],
   "source": [
    "plt.figure(2)\n",
    "resid = ...\n",
    "# sns.distplot(resid)"
   ]
  },
  {
   "cell_type": "markdown",
   "metadata": {},
   "source": [
    "## Question 7 \n",
    "\n",
    "Calculate the sum of residual in question 6. Show that the sum is roughly zero."
   ]
  },
  {
   "cell_type": "code",
   "execution_count": null,
   "metadata": {
    "collapsed": true,
    "tags": [
     "student"
    ]
   },
   "outputs": [],
   "source": [
    "sum_resid = ..."
   ]
  },
  {
   "cell_type": "code",
   "execution_count": null,
   "metadata": {
    "collapsed": true,
    "tags": [
     "test",
     "q07"
    ]
   },
   "outputs": [],
   "source": [
    "_ = ok.grade('q07')\n",
    "_ = ok.backup()"
   ]
  },
  {
   "cell_type": "markdown",
   "metadata": {},
   "source": [
    "# Submitting your assignment\n",
    "\n",
    "Congratulations, you're done with this lab!\n",
    "\n",
    "Run the next cell to run all the tests at once."
   ]
  },
  {
   "cell_type": "code",
   "execution_count": null,
   "metadata": {
    "collapsed": true
   },
   "outputs": [],
   "source": [
    "_ = ok.grade_all()    "
   ]
  },
  {
   "cell_type": "markdown",
   "metadata": {},
   "source": [
    "Now, run the cell below to submit your assignment to OkPy. The autograder should email you shortly with your autograded score. The autograder will only run once every 30 minutes.\n",
    "\n",
    "**If you're failing tests on the autograder but pass them locally**, you should simulate the autograder by doing the following:\n",
    "\n",
    "1. In the top menu, click Kernel -> Restart and Run all.\n",
    "2. Run the cell above to run each OkPy test.\n",
    "\n",
    "**You must make sure that you pass all the tests when running steps 1 and 2 in order.** If you are still failing autograder tests, you should double check your results."
   ]
  },
  {
   "cell_type": "code",
   "execution_count": null,
   "metadata": {
    "collapsed": true
   },
   "outputs": [],
   "source": [
    "_ = ok.submit()"
   ]
  }
 ],
 "metadata": {
  "anaconda-cloud": {},
  "kernelspec": {
   "display_name": "Python 3",
   "language": "python",
   "name": "python3"
  },
  "language_info": {
   "codemirror_mode": {
    "name": "ipython",
    "version": 3
   },
   "file_extension": ".py",
   "mimetype": "text/x-python",
   "name": "python",
   "nbconvert_exporter": "python",
   "pygments_lexer": "ipython3",
   "version": "3.6.1"
  },
  "toc": {
   "colors": {
    "hover_highlight": "#DAA520",
    "navigate_num": "#000000",
    "navigate_text": "#333333",
    "running_highlight": "#FF0000",
    "selected_highlight": "#FFD700",
    "sidebar_border": "#EEEEEE",
    "wrapper_background": "#FFFFFF"
   },
   "moveMenuLeft": true,
   "nav_menu": {
    "height": "174px",
    "width": "252px"
   },
   "navigate_menu": true,
   "number_sections": true,
   "sideBar": true,
   "threshold": 4,
   "toc_cell": false,
   "toc_section_display": "block",
   "toc_window_display": false,
   "widenNotebook": false
  }
 },
 "nbformat": 4,
 "nbformat_minor": 1
}
