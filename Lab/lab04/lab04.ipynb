{
 "cells": [
  {
   "cell_type": "markdown",
   "metadata": {},
   "source": [
    "# Lab 4: Plotting, smoothing, transformation\n",
    "\n",
    "** If you are not attending lab, this assignment is due 09/19/2017 at 11:59pm (graded on accuracy) **\n",
    "\n",
    "** If you are attending lab, you do not need to submit the assignment; you just need to get checked off by your TA. **"
   ]
  },
  {
   "cell_type": "code",
   "execution_count": 1,
   "metadata": {
    "_cell_guid": "33c63379-d85b-4638-8183-d008fdb96de7",
    "_uuid": "7ad7f9f24df7dba8ac92d234890835f6b9970834",
    "collapsed": true
   },
   "outputs": [],
   "source": [
    "import pandas as pd\n",
    "import numpy as np\n",
    "import seaborn as sns\n",
    "import matplotlib.pyplot as plt\n",
    "plt.style.use('fivethirtyeight')\n",
    "sns.set()\n",
    "sns.set_context(\"talk\")\n",
    "%matplotlib inline"
   ]
  },
  {
   "cell_type": "code",
   "execution_count": 2,
   "metadata": {},
   "outputs": [
    {
     "name": "stdout",
     "output_type": "stream",
     "text": [
      "=====================================================================\n",
      "Assignment: Lab 04\n",
      "OK, version v1.12.10\n",
      "=====================================================================\n",
      "\n"
     ]
    }
   ],
   "source": [
    "# These lines load the tests.\n",
    "# !pip install -U okpy\n",
    "\n",
    "from IPython.display import display, Latex, Markdown\n",
    "from client.api.notebook import Notebook\n",
    "ok = Notebook('lab04.ok')"
   ]
  },
  {
   "cell_type": "code",
   "execution_count": 3,
   "metadata": {},
   "outputs": [
    {
     "name": "stdout",
     "output_type": "stream",
     "text": [
      "Successfully logged in as kath.eddinger@berkeley.edu\n"
     ]
    }
   ],
   "source": [
    "# ok.auth(force=True)\n",
    "ok.auth()"
   ]
  },
  {
   "cell_type": "markdown",
   "metadata": {},
   "source": [
    "## Objectives for Lab 04:\n",
    "\n",
    "In this lab you will get some practice applying data transformations and using working with kernel density estimators.  We will be working with data from the world bank containing various statistics for countries and territories around the world.  \n"
   ]
  },
  {
   "cell_type": "code",
   "execution_count": 4,
   "metadata": {},
   "outputs": [
    {
     "data": {
      "text/html": [
       "<div>\n",
       "<style>\n",
       "    .dataframe thead tr:only-child th {\n",
       "        text-align: right;\n",
       "    }\n",
       "\n",
       "    .dataframe thead th {\n",
       "        text-align: left;\n",
       "    }\n",
       "\n",
       "    .dataframe tbody tr th {\n",
       "        vertical-align: top;\n",
       "    }\n",
       "</style>\n",
       "<table border=\"1\" class=\"dataframe\">\n",
       "  <thead>\n",
       "    <tr style=\"text-align: right;\">\n",
       "      <th></th>\n",
       "      <th>Primary completion rate: Male: % of relevant age group: 2015</th>\n",
       "      <th>Primary completion rate: Female: % of relevant age group: 2015</th>\n",
       "      <th>Lower secondary completion rate: Male: % of relevant age group: 2015</th>\n",
       "      <th>Lower secondary completion rate: Female: % of relevant age group: 2015</th>\n",
       "      <th>Youth literacy rate: Male: % of ages 15-24: 2005-14</th>\n",
       "      <th>Youth literacy rate: Female: % of ages 15-24: 2005-14</th>\n",
       "      <th>Adult literacy rate: Male: % ages 15 and older: 2005-14</th>\n",
       "      <th>Adult literacy rate: Female: % ages 15 and older: 2005-14</th>\n",
       "      <th>Students at lowest proficiency on PISA: Mathematics: % of 15 year-olds: 2015</th>\n",
       "      <th>Students at lowest proficiency on PISA: Reading: % of 15 year-olds: 2015</th>\n",
       "      <th>...</th>\n",
       "      <th>Access to improved sanitation facilities: % of population: 1990</th>\n",
       "      <th>Access to improved sanitation facilities: % of population: 2015</th>\n",
       "      <th>Child immunization rate: Measles: % of children ages 12-23 months: 2015</th>\n",
       "      <th>Child immunization rate: DTP3: % of children ages 12-23 months: 2015</th>\n",
       "      <th>Children with acute respiratory infection taken to health provider: % of children under age 5 with ARI: 2009-2016</th>\n",
       "      <th>Children with diarrhea who received oral rehydration and continuous feeding: % of children under age 5 with diarrhea: 2009-2016</th>\n",
       "      <th>Children sleeping under treated bed nets: % of children under age 5: 2009-2016</th>\n",
       "      <th>Children with fever receiving antimalarial drugs: % of children under age 5 with fever: 2009-2016</th>\n",
       "      <th>Tuberculosis: Treatment success rate: % of new cases: 2014</th>\n",
       "      <th>Tuberculosis: Cases detection rate: % of new estimated cases: 2015</th>\n",
       "    </tr>\n",
       "  </thead>\n",
       "  <tbody>\n",
       "    <tr>\n",
       "      <th>Afghanistan</th>\n",
       "      <td>NaN</td>\n",
       "      <td>NaN</td>\n",
       "      <td>NaN</td>\n",
       "      <td>NaN</td>\n",
       "      <td>62.0</td>\n",
       "      <td>32.0</td>\n",
       "      <td>45.0</td>\n",
       "      <td>18.0</td>\n",
       "      <td>NaN</td>\n",
       "      <td>NaN</td>\n",
       "      <td>...</td>\n",
       "      <td>21.0</td>\n",
       "      <td>32.0</td>\n",
       "      <td>68.0</td>\n",
       "      <td>78.0</td>\n",
       "      <td>62.0</td>\n",
       "      <td>41.0</td>\n",
       "      <td>4.6</td>\n",
       "      <td>11.8</td>\n",
       "      <td>87.0</td>\n",
       "      <td>58.0</td>\n",
       "    </tr>\n",
       "    <tr>\n",
       "      <th>Albania</th>\n",
       "      <td>108.0</td>\n",
       "      <td>105.0</td>\n",
       "      <td>97.0</td>\n",
       "      <td>97.0</td>\n",
       "      <td>99.0</td>\n",
       "      <td>99.0</td>\n",
       "      <td>98.0</td>\n",
       "      <td>96.0</td>\n",
       "      <td>26.0</td>\n",
       "      <td>7.0</td>\n",
       "      <td>...</td>\n",
       "      <td>78.0</td>\n",
       "      <td>93.0</td>\n",
       "      <td>98.0</td>\n",
       "      <td>98.0</td>\n",
       "      <td>70.0</td>\n",
       "      <td>63.0</td>\n",
       "      <td>NaN</td>\n",
       "      <td>NaN</td>\n",
       "      <td>88.0</td>\n",
       "      <td>76.0</td>\n",
       "    </tr>\n",
       "    <tr>\n",
       "      <th>Algeria</th>\n",
       "      <td>106.0</td>\n",
       "      <td>105.0</td>\n",
       "      <td>68.0</td>\n",
       "      <td>85.0</td>\n",
       "      <td>96.0</td>\n",
       "      <td>92.0</td>\n",
       "      <td>83.0</td>\n",
       "      <td>68.0</td>\n",
       "      <td>51.0</td>\n",
       "      <td>11.0</td>\n",
       "      <td>...</td>\n",
       "      <td>80.0</td>\n",
       "      <td>88.0</td>\n",
       "      <td>95.0</td>\n",
       "      <td>95.0</td>\n",
       "      <td>66.0</td>\n",
       "      <td>42.0</td>\n",
       "      <td>NaN</td>\n",
       "      <td>NaN</td>\n",
       "      <td>88.0</td>\n",
       "      <td>80.0</td>\n",
       "    </tr>\n",
       "    <tr>\n",
       "      <th>American Samoa</th>\n",
       "      <td>NaN</td>\n",
       "      <td>NaN</td>\n",
       "      <td>NaN</td>\n",
       "      <td>NaN</td>\n",
       "      <td>NaN</td>\n",
       "      <td>NaN</td>\n",
       "      <td>NaN</td>\n",
       "      <td>NaN</td>\n",
       "      <td>NaN</td>\n",
       "      <td>NaN</td>\n",
       "      <td>...</td>\n",
       "      <td>61.0</td>\n",
       "      <td>63.0</td>\n",
       "      <td>NaN</td>\n",
       "      <td>NaN</td>\n",
       "      <td>NaN</td>\n",
       "      <td>NaN</td>\n",
       "      <td>NaN</td>\n",
       "      <td>NaN</td>\n",
       "      <td>NaN</td>\n",
       "      <td>87.0</td>\n",
       "    </tr>\n",
       "    <tr>\n",
       "      <th>Andorra</th>\n",
       "      <td>NaN</td>\n",
       "      <td>NaN</td>\n",
       "      <td>NaN</td>\n",
       "      <td>NaN</td>\n",
       "      <td>NaN</td>\n",
       "      <td>NaN</td>\n",
       "      <td>NaN</td>\n",
       "      <td>NaN</td>\n",
       "      <td>NaN</td>\n",
       "      <td>NaN</td>\n",
       "      <td>...</td>\n",
       "      <td>100.0</td>\n",
       "      <td>100.0</td>\n",
       "      <td>96.0</td>\n",
       "      <td>97.0</td>\n",
       "      <td>NaN</td>\n",
       "      <td>NaN</td>\n",
       "      <td>NaN</td>\n",
       "      <td>NaN</td>\n",
       "      <td>83.0</td>\n",
       "      <td>87.0</td>\n",
       "    </tr>\n",
       "  </tbody>\n",
       "</table>\n",
       "<p>5 rows × 45 columns</p>\n",
       "</div>"
      ],
      "text/plain": [
       "                Primary completion rate: Male: % of relevant age group: 2015  \\\n",
       "Afghanistan                                                   NaN              \n",
       "Albania                                                     108.0              \n",
       "Algeria                                                     106.0              \n",
       "American Samoa                                                NaN              \n",
       "Andorra                                                       NaN              \n",
       "\n",
       "                Primary completion rate: Female: % of relevant age group: 2015  \\\n",
       "Afghanistan                                                   NaN                \n",
       "Albania                                                     105.0                \n",
       "Algeria                                                     105.0                \n",
       "American Samoa                                                NaN                \n",
       "Andorra                                                       NaN                \n",
       "\n",
       "                Lower secondary completion rate: Male: % of relevant age group: 2015  \\\n",
       "Afghanistan                                                   NaN                      \n",
       "Albania                                                      97.0                      \n",
       "Algeria                                                      68.0                      \n",
       "American Samoa                                                NaN                      \n",
       "Andorra                                                       NaN                      \n",
       "\n",
       "                Lower secondary completion rate: Female: % of relevant age group: 2015  \\\n",
       "Afghanistan                                                   NaN                        \n",
       "Albania                                                      97.0                        \n",
       "Algeria                                                      85.0                        \n",
       "American Samoa                                                NaN                        \n",
       "Andorra                                                       NaN                        \n",
       "\n",
       "                Youth literacy rate: Male: % of ages 15-24: 2005-14  \\\n",
       "Afghanistan                                                  62.0     \n",
       "Albania                                                      99.0     \n",
       "Algeria                                                      96.0     \n",
       "American Samoa                                                NaN     \n",
       "Andorra                                                       NaN     \n",
       "\n",
       "                Youth literacy rate: Female: % of ages 15-24: 2005-14  \\\n",
       "Afghanistan                                                  32.0       \n",
       "Albania                                                      99.0       \n",
       "Algeria                                                      92.0       \n",
       "American Samoa                                                NaN       \n",
       "Andorra                                                       NaN       \n",
       "\n",
       "                Adult literacy rate: Male: % ages 15 and older: 2005-14  \\\n",
       "Afghanistan                                                  45.0         \n",
       "Albania                                                      98.0         \n",
       "Algeria                                                      83.0         \n",
       "American Samoa                                                NaN         \n",
       "Andorra                                                       NaN         \n",
       "\n",
       "                Adult literacy rate: Female: % ages 15 and older: 2005-14  \\\n",
       "Afghanistan                                                  18.0           \n",
       "Albania                                                      96.0           \n",
       "Algeria                                                      68.0           \n",
       "American Samoa                                                NaN           \n",
       "Andorra                                                       NaN           \n",
       "\n",
       "                Students at lowest proficiency on PISA: Mathematics: % of 15 year-olds: 2015  \\\n",
       "Afghanistan                                                   NaN                              \n",
       "Albania                                                      26.0                              \n",
       "Algeria                                                      51.0                              \n",
       "American Samoa                                                NaN                              \n",
       "Andorra                                                       NaN                              \n",
       "\n",
       "                Students at lowest proficiency on PISA: Reading: % of 15 year-olds: 2015  \\\n",
       "Afghanistan                                                   NaN                          \n",
       "Albania                                                       7.0                          \n",
       "Algeria                                                      11.0                          \n",
       "American Samoa                                                NaN                          \n",
       "Andorra                                                       NaN                          \n",
       "\n",
       "                                               ...                                  \\\n",
       "Afghanistan                                    ...                                   \n",
       "Albania                                        ...                                   \n",
       "Algeria                                        ...                                   \n",
       "American Samoa                                 ...                                   \n",
       "Andorra                                        ...                                   \n",
       "\n",
       "                Access to improved sanitation facilities: % of population: 1990  \\\n",
       "Afghanistan                                                  21.0                 \n",
       "Albania                                                      78.0                 \n",
       "Algeria                                                      80.0                 \n",
       "American Samoa                                               61.0                 \n",
       "Andorra                                                     100.0                 \n",
       "\n",
       "                Access to improved sanitation facilities: % of population: 2015  \\\n",
       "Afghanistan                                                  32.0                 \n",
       "Albania                                                      93.0                 \n",
       "Algeria                                                      88.0                 \n",
       "American Samoa                                               63.0                 \n",
       "Andorra                                                     100.0                 \n",
       "\n",
       "                Child immunization rate: Measles: % of children ages 12-23 months: 2015  \\\n",
       "Afghanistan                                                  68.0                         \n",
       "Albania                                                      98.0                         \n",
       "Algeria                                                      95.0                         \n",
       "American Samoa                                                NaN                         \n",
       "Andorra                                                      96.0                         \n",
       "\n",
       "                Child immunization rate: DTP3: % of children ages 12-23 months: 2015  \\\n",
       "Afghanistan                                                  78.0                      \n",
       "Albania                                                      98.0                      \n",
       "Algeria                                                      95.0                      \n",
       "American Samoa                                                NaN                      \n",
       "Andorra                                                      97.0                      \n",
       "\n",
       "                Children with acute respiratory infection taken to health provider: % of children under age 5 with ARI: 2009-2016  \\\n",
       "Afghanistan                                                  62.0                                                                   \n",
       "Albania                                                      70.0                                                                   \n",
       "Algeria                                                      66.0                                                                   \n",
       "American Samoa                                                NaN                                                                   \n",
       "Andorra                                                       NaN                                                                   \n",
       "\n",
       "                Children with diarrhea who received oral rehydration and continuous feeding: % of children under age 5 with diarrhea: 2009-2016  \\\n",
       "Afghanistan                                                  41.0                                                                                 \n",
       "Albania                                                      63.0                                                                                 \n",
       "Algeria                                                      42.0                                                                                 \n",
       "American Samoa                                                NaN                                                                                 \n",
       "Andorra                                                       NaN                                                                                 \n",
       "\n",
       "                Children sleeping under treated bed nets: % of children under age 5: 2009-2016  \\\n",
       "Afghanistan                                                   4.6                                \n",
       "Albania                                                       NaN                                \n",
       "Algeria                                                       NaN                                \n",
       "American Samoa                                                NaN                                \n",
       "Andorra                                                       NaN                                \n",
       "\n",
       "                Children with fever receiving antimalarial drugs: % of children under age 5 with fever: 2009-2016  \\\n",
       "Afghanistan                                                  11.8                                                   \n",
       "Albania                                                       NaN                                                   \n",
       "Algeria                                                       NaN                                                   \n",
       "American Samoa                                                NaN                                                   \n",
       "Andorra                                                       NaN                                                   \n",
       "\n",
       "                Tuberculosis: Treatment success rate: % of new cases: 2014  \\\n",
       "Afghanistan                                                  87.0            \n",
       "Albania                                                      88.0            \n",
       "Algeria                                                      88.0            \n",
       "American Samoa                                                NaN            \n",
       "Andorra                                                      83.0            \n",
       "\n",
       "                Tuberculosis: Cases detection rate: % of new estimated cases: 2015  \n",
       "Afghanistan                                                  58.0                   \n",
       "Albania                                                      76.0                   \n",
       "Algeria                                                      80.0                   \n",
       "American Samoa                                               87.0                   \n",
       "Andorra                                                      87.0                   \n",
       "\n",
       "[5 rows x 45 columns]"
      ]
     },
     "execution_count": 4,
     "metadata": {},
     "output_type": "execute_result"
    }
   ],
   "source": [
    "wb = pd.read_csv(\"data/world_bank_misc.csv\", index_col=0)\n",
    "wb.head()"
   ]
  },
  {
   "cell_type": "markdown",
   "metadata": {},
   "source": [
    "This table contains some interesting columns.  Take a look:"
   ]
  },
  {
   "cell_type": "code",
   "execution_count": 5,
   "metadata": {
    "scrolled": false
   },
   "outputs": [
    {
     "data": {
      "text/plain": [
       "['Primary completion rate: Male: % of relevant age group: 2015',\n",
       " 'Primary completion rate: Female: % of relevant age group: 2015',\n",
       " 'Lower secondary completion rate: Male: % of relevant age group: 2015',\n",
       " 'Lower secondary completion rate: Female: % of relevant age group: 2015',\n",
       " 'Youth literacy rate: Male: % of ages 15-24: 2005-14',\n",
       " 'Youth literacy rate: Female: % of ages 15-24: 2005-14',\n",
       " 'Adult literacy rate: Male: % ages 15 and older: 2005-14',\n",
       " 'Adult literacy rate: Female: % ages 15 and older: 2005-14',\n",
       " 'Students at lowest proficiency on PISA: Mathematics: % of 15 year-olds: 2015',\n",
       " 'Students at lowest proficiency on PISA: Reading: % of 15 year-olds: 2015',\n",
       " 'Students at lowest proficiency on PISA: Science: % of 15 year-olds: 2015',\n",
       " 'Population: millions: 2016',\n",
       " 'Surface area: sq. km thousands: 2016',\n",
       " 'Population density: people per sq. km: 2016',\n",
       " 'Gross national income, Atlas method: $ billions: 2016',\n",
       " 'Gross national income per capita, Atlas method: $: 2016',\n",
       " 'Purchasing power parity gross national income: $ billions: 2016',\n",
       " 'per capita: $: 2016',\n",
       " 'Gross domestic product: % growth : 2016',\n",
       " 'per capita: % growth: 2016',\n",
       " 'Prevalence of smoking: Male: % of adults: 2015',\n",
       " 'Prevalence of smoking: Female: % of adults: 2015',\n",
       " 'Incidence of tuberculosis: per 100,000 people: 2015',\n",
       " 'Prevalence of diabetes: % of population ages 20 to 79: 2015',\n",
       " 'Incidence of HIV: Total: % of uninfected population ages 15-49: 2015',\n",
       " 'Prevalence of HIV: Total: % of population ages 15-49: 2015',\n",
       " \"Prevalence of HIV: Women's share of population ages 15+ living with HIV: %: 2015\",\n",
       " 'Prevalence of HIV: Youth, Male: % of population ages 15-24: 2015',\n",
       " 'Prevalence of HIV: Youth, Female: % of population ages 15-24: 2015',\n",
       " 'Antiretroviral therapy coverage: % of people living with HIV: 2015',\n",
       " 'Cause of death: Communicable diseases and maternal, prenatal, and nutrition conditions: % of population: 2015',\n",
       " 'Cause of death: Non-communicable diseases: % of population: 2015',\n",
       " 'Cause of death: Injuries: % of population: 2015',\n",
       " 'Access to an improved water source: % of population: 1990',\n",
       " 'Access to an improved water source: % of population: 2015',\n",
       " 'Access to improved sanitation facilities: % of population: 1990',\n",
       " 'Access to improved sanitation facilities: % of population: 2015',\n",
       " 'Child immunization rate: Measles: % of children ages 12-23 months: 2015',\n",
       " 'Child immunization rate: DTP3: % of children ages 12-23 months: 2015',\n",
       " 'Children with acute respiratory infection taken to health provider: % of children under age 5 with ARI: 2009-2016',\n",
       " 'Children with diarrhea who received oral rehydration and continuous feeding: % of children under age 5 with diarrhea: 2009-2016',\n",
       " 'Children sleeping under treated bed nets: % of children under age 5: 2009-2016',\n",
       " 'Children with fever receiving antimalarial drugs: % of children under age 5 with fever: 2009-2016',\n",
       " 'Tuberculosis: Treatment success rate: % of new cases: 2014',\n",
       " 'Tuberculosis: Cases detection rate: % of new estimated cases: 2015']"
      ]
     },
     "execution_count": 5,
     "metadata": {},
     "output_type": "execute_result"
    }
   ],
   "source": [
    "list(wb.columns)"
   ]
  },
  {
   "cell_type": "markdown",
   "metadata": {},
   "source": [
    "# Part 1: Scaling\n",
    "\n",
    "In the first part of this assignment we will be scaling the data to linearize visualizations.\n"
   ]
  },
  {
   "cell_type": "markdown",
   "metadata": {},
   "source": [
    "## Question 1:\n",
    "\n",
    "Extract the fields corresponding to the **adult literacy rate in Female ages 15 and older for 2005-14** and the **gross national income per capita (atlas method)** into a new dataframe.  Then drop any rows that are missing values."
   ]
  },
  {
   "cell_type": "code",
   "execution_count": 8,
   "metadata": {
    "tags": [
     "student"
    ]
   },
   "outputs": [
    {
     "name": "stdout",
     "output_type": "stream",
     "text": [
      "Original records: 216\n",
      "Final records: 147\n"
     ]
    }
   ],
   "source": [
    "df = pd.DataFrame(index=wb.index)\n",
    "df['lit'] = wb['Adult literacy rate: Female: % ages 15 and older: 2005-14']\n",
    "df['inc'] = wb['Gross national income per capita, Atlas method: $: 2016']\n",
    "df.dropna(inplace=True)\n",
    "print(\"Original records:\", len(wb))\n",
    "print(\"Final records:\", len(df))"
   ]
  },
  {
   "cell_type": "code",
   "execution_count": 9,
   "metadata": {
    "tags": [
     "test",
     "q01"
    ]
   },
   "outputs": [
    {
     "name": "stdout",
     "output_type": "stream",
     "text": [
      "~~~~~~~~~~~~~~~~~~~~~~~~~~~~~~~~~~~~~~~~~~~~~~~~~~~~~~~~~~~~~~~~~~~~~\n",
      "Running tests\n",
      "\n",
      "---------------------------------------------------------------------\n",
      "Test summary\n",
      "    Passed: 1\n",
      "    Failed: 0\n",
      "[ooooooooook] 100.0% passed\n",
      "\n"
     ]
    },
    {
     "data": {
      "application/javascript": [
       "IPython.notebook.save_checkpoint();"
      ],
      "text/plain": [
       "<IPython.core.display.Javascript object>"
      ]
     },
     "metadata": {},
     "output_type": "display_data"
    },
    {
     "data": {
      "application/javascript": [
       "IPython.notebook.save_notebook();"
      ],
      "text/plain": [
       "<IPython.core.display.Javascript object>"
      ]
     },
     "metadata": {},
     "output_type": "display_data"
    },
    {
     "name": "stdout",
     "output_type": "stream",
     "text": [
      "Saving notebook... Saved 'lab04.ipynb'.\n",
      "Backup... 100% complete\n",
      "Backup successful for user: kath.eddinger@berkeley.edu\n",
      "URL: https://okpy.org/cal/ds100/fa17/lab04/backups/zpgDQ5\n",
      "NOTE: this is only a backup. To submit your assignment, use:\n",
      "\tpython3 ok --submit\n",
      "\n"
     ]
    }
   ],
   "source": [
    "_ = ok.grade('q01')\n",
    "_ = ok.backup()"
   ]
  },
  {
   "cell_type": "markdown",
   "metadata": {},
   "source": [
    "## Question 2a:\n",
    "\n",
    "Use the seaborn `distplot` tool to construct histograms for the adult literacy data and the income data:"
   ]
  },
  {
   "cell_type": "code",
   "execution_count": 17,
   "metadata": {
    "tags": [
     "student"
    ]
   },
   "outputs": [
    {
     "data": {
      "text/plain": [
       "<matplotlib.text.Text at 0x11b7a8390>"
      ]
     },
     "execution_count": 17,
     "metadata": {},
     "output_type": "execute_result"
    },
    {
     "data": {
      "image/png": "[encoded data removed]",
      "text/plain": [
       "<matplotlib.figure.Figure at 0x11b179b00>"
      ]
     },
     "metadata": {},
     "output_type": "display_data"
    }
   ],
   "source": [
    "plt.figure(figsize=(10,5))\n",
    "\n",
    "plt.subplot(1,2,1)\n",
    "# Make plot here\n",
    "sns.distplot(df['lit'])\n",
    "\n",
    "plt.xlabel(\"Adult literacy rate: Female: % ages 15 and older: 2005-14\")\n",
    "\n",
    "\n",
    "plt.subplot(1,2,2)\n",
    "# Make plot here\n",
    "sns.distplot(df['inc'])\n",
    "\n",
    "plt.xlabel('Gross national income per capita, Atlas method: $: 2016')\n"
   ]
  },
  {
   "cell_type": "markdown",
   "metadata": {},
   "source": [
    "## Question 2b\n",
    "\n",
    "One of the above plots could benefit from a log transformation.  Which one:"
   ]
  },
  {
   "cell_type": "code",
   "execution_count": 21,
   "metadata": {
    "tags": [
     "student"
    ]
   },
   "outputs": [],
   "source": [
    "needs_log_transformation = 'inc'"
   ]
  },
  {
   "cell_type": "code",
   "execution_count": 22,
   "metadata": {
    "tags": [
     "test",
     "q02b"
    ]
   },
   "outputs": [
    {
     "name": "stdout",
     "output_type": "stream",
     "text": [
      "~~~~~~~~~~~~~~~~~~~~~~~~~~~~~~~~~~~~~~~~~~~~~~~~~~~~~~~~~~~~~~~~~~~~~\n",
      "Running tests\n",
      "\n",
      "---------------------------------------------------------------------\n",
      "Test summary\n",
      "    Passed: 1\n",
      "    Failed: 0\n",
      "[ooooooooook] 100.0% passed\n",
      "\n"
     ]
    },
    {
     "data": {
      "application/javascript": [
       "IPython.notebook.save_checkpoint();"
      ],
      "text/plain": [
       "<IPython.core.display.Javascript object>"
      ]
     },
     "metadata": {},
     "output_type": "display_data"
    },
    {
     "data": {
      "application/javascript": [
       "IPython.notebook.save_notebook();"
      ],
      "text/plain": [
       "<IPython.core.display.Javascript object>"
      ]
     },
     "metadata": {},
     "output_type": "display_data"
    },
    {
     "name": "stdout",
     "output_type": "stream",
     "text": [
      "Saving notebook... Saved 'lab04.ipynb'.\n",
      "Backup... 100% complete\n",
      "Backup successful for user: kath.eddinger@berkeley.edu\n",
      "URL: https://okpy.org/cal/ds100/fa17/lab04/backups/Nkogj8\n",
      "NOTE: this is only a backup. To submit your assignment, use:\n",
      "\tpython3 ok --submit\n",
      "\n"
     ]
    }
   ],
   "source": [
    "_ = ok.grade('q02b')\n",
    "_ = ok.backup()"
   ]
  },
  {
   "cell_type": "markdown",
   "metadata": {},
   "source": [
    "## Question 2c\n",
    "\n",
    "Remake the appropriate plot with the data transformed using `log10`. Be sure to correct the axis label:"
   ]
  },
  {
   "cell_type": "code",
   "execution_count": 25,
   "metadata": {
    "tags": [
     "student"
    ]
   },
   "outputs": [
    {
     "data": {
      "text/plain": [
       "<matplotlib.axes._subplots.AxesSubplot at 0x11b8c8be0>"
      ]
     },
     "execution_count": 25,
     "metadata": {},
     "output_type": "execute_result"
    },
    {
     "data": {
      "image/png": "[encoded data removed]",
      "text/plain": [
       "<matplotlib.figure.Figure at 0x11a7cc4e0>"
      ]
     },
     "metadata": {},
     "output_type": "display_data"
    }
   ],
   "source": [
    "plt.figure()\n",
    "sns.distplot(np.log10(df['inc']))"
   ]
  },
  {
   "cell_type": "markdown",
   "metadata": {},
   "source": [
    "## Question 3a\n",
    "\n",
    "Use the Seaborn `regplot` function to plot `y=inc` vs `x=lit`:"
   ]
  },
  {
   "cell_type": "code",
   "execution_count": 28,
   "metadata": {
    "tags": [
     "student"
    ]
   },
   "outputs": [
    {
     "data": {
      "text/plain": [
       "<matplotlib.axes._subplots.AxesSubplot at 0x11ba9a358>"
      ]
     },
     "execution_count": 28,
     "metadata": {},
     "output_type": "execute_result"
    },
    {
     "data": {
      "image/png": "[encoded data removed]",
      "text/plain": [
       "<matplotlib.figure.Figure at 0x11ba85198>"
      ]
     },
     "metadata": {},
     "output_type": "display_data"
    }
   ],
   "source": [
    "plt.figure(figsize=(10,5))\n",
    "# Make plot here\n",
    "sns.regplot(df['lit'], df['inc'])"
   ]
  },
  {
   "cell_type": "markdown",
   "metadata": {},
   "source": [
    "## Question 3b \n",
    "\n",
    "Using the Tukey Mosteller's Bulge diagram: \n",
    "\n",
    "![The Bulge](https://i0.wp.com/f.hypotheses.org/wp-content/blogs.dir/253/files/2014/06/Selection_005.png?zoom=2&resize=295%2C318)\n",
    "\n",
    "Create two new columns `trans_lit` and `trans_inc` that correct the plot:"
   ]
  },
  {
   "cell_type": "code",
   "execution_count": 33,
   "metadata": {
    "tags": [
     "student"
    ]
   },
   "outputs": [
    {
     "data": {
      "text/plain": [
       "<matplotlib.axes._subplots.AxesSubplot at 0x11bbe6d30>"
      ]
     },
     "execution_count": 33,
     "metadata": {},
     "output_type": "execute_result"
    },
    {
     "data": {
      "image/png": "[encoded data removed]",
      "text/plain": [
       "<matplotlib.figure.Figure at 0x11c2ed400>"
      ]
     },
     "metadata": {},
     "output_type": "display_data"
    }
   ],
   "source": [
    "plt.figure(figsize=(10,5))\n",
    "\n",
    "df['trans_lit'] = np.power((df['lit']), 2)\n",
    "df['trans_inc'] = np.log(df['inc'])\n",
    "\n",
    "sns.regplot(x='trans_lit', y='trans_inc', data=df)"
   ]
  },
  {
   "cell_type": "code",
   "execution_count": 34,
   "metadata": {
    "tags": [
     "test",
     "q03b"
    ]
   },
   "outputs": [
    {
     "name": "stdout",
     "output_type": "stream",
     "text": [
      "~~~~~~~~~~~~~~~~~~~~~~~~~~~~~~~~~~~~~~~~~~~~~~~~~~~~~~~~~~~~~~~~~~~~~\n",
      "Running tests\n",
      "\n",
      "---------------------------------------------------------------------\n",
      "Test summary\n",
      "    Passed: 1\n",
      "    Failed: 0\n",
      "[ooooooooook] 100.0% passed\n",
      "\n"
     ]
    },
    {
     "data": {
      "application/javascript": [
       "IPython.notebook.save_checkpoint();"
      ],
      "text/plain": [
       "<IPython.core.display.Javascript object>"
      ]
     },
     "metadata": {},
     "output_type": "display_data"
    },
    {
     "data": {
      "application/javascript": [
       "IPython.notebook.save_notebook();"
      ],
      "text/plain": [
       "<IPython.core.display.Javascript object>"
      ]
     },
     "metadata": {},
     "output_type": "display_data"
    },
    {
     "name": "stdout",
     "output_type": "stream",
     "text": [
      "Saving notebook... Saved 'lab04.ipynb'.\n",
      "Backup... 100% complete\n",
      "Backup successful for user: kath.eddinger@berkeley.edu\n",
      "URL: https://okpy.org/cal/ds100/fa17/lab04/backups/W6ArMX\n",
      "NOTE: this is only a backup. To submit your assignment, use:\n",
      "\tpython3 ok --submit\n",
      "\n"
     ]
    }
   ],
   "source": [
    "_ = ok.grade('q03b')\n",
    "_ = ok.backup()"
   ]
  },
  {
   "cell_type": "markdown",
   "metadata": {},
   "source": [
    "# Part 2: Kernel Density Estimation\n",
    "\n",
    "In this part of the lab you will implement a kernel density estimator.\n"
   ]
  },
  {
   "cell_type": "markdown",
   "metadata": {},
   "source": [
    "Let's implement our own version of the KDE plot above.  Below we give you the Guassian Kernel function\n",
    "\n",
    "$$\\Large\n",
    "K_\\alpha(x, z) = \\frac{1}{\\sqrt{2 \\pi \\alpha^2}} \\exp\\left(-\\frac{(x - z)^2}{2  \\alpha ^2} \\right)\n",
    "$$"
   ]
  },
  {
   "cell_type": "code",
   "execution_count": 35,
   "metadata": {
    "collapsed": true
   },
   "outputs": [],
   "source": [
    "def gaussian_kernel(alpha, x, z):\n",
    "    return 1.0/np.sqrt(2. * np.pi * alpha**2) * np.exp(-(x - z) ** 2 / (2.0 * alpha**2))"
   ]
  },
  {
   "cell_type": "markdown",
   "metadata": {},
   "source": [
    "## Question 4a"
   ]
  },
  {
   "cell_type": "markdown",
   "metadata": {},
   "source": [
    "Implement the KDE function which computes:\n",
    "\n",
    "$$\\Large\n",
    "f_\\lambda(x) = \\frac{1}{n} \\sum_{i=1}^n K_\\alpha(x, z_i)\n",
    "$$\n",
    "\n",
    "Where {z_i} is the data, alpha is a parameter to control the smoothness"
   ]
  },
  {
   "cell_type": "code",
   "execution_count": 46,
   "metadata": {
    "collapsed": true,
    "tags": [
     "student"
    ]
   },
   "outputs": [],
   "source": [
    "def kde(kernel, alpha, x, data):\n",
    "    \"\"\"\n",
    "    Compute the kernel density estimate for the single query point x.\n",
    "\n",
    "    Args:\n",
    "        kernel: a kernel function from two argumen\n",
    "        alpha: the smoothing parameter to pass to the kernel\n",
    "        x: a single query point (in one dimension)\n",
    "        data: a numpy array of data points\n",
    "\n",
    "    Returns:\n",
    "        The smooted estimate at the query point x\n",
    "    \"\"\"\n",
    "    weights = [kernel(alpha, x, d) for d in data]\n",
    "\n",
    "    return np.sum(weights)/len(data)\n",
    "        "
   ]
  },
  {
   "cell_type": "code",
   "execution_count": 47,
   "metadata": {
    "tags": [
     "test",
     "q04a"
    ]
   },
   "outputs": [
    {
     "name": "stdout",
     "output_type": "stream",
     "text": [
      "~~~~~~~~~~~~~~~~~~~~~~~~~~~~~~~~~~~~~~~~~~~~~~~~~~~~~~~~~~~~~~~~~~~~~\n",
      "Running tests\n",
      "\n",
      "---------------------------------------------------------------------\n",
      "Test summary\n",
      "    Passed: 1\n",
      "    Failed: 0\n",
      "[ooooooooook] 100.0% passed\n",
      "\n"
     ]
    },
    {
     "data": {
      "application/javascript": [
       "IPython.notebook.save_checkpoint();"
      ],
      "text/plain": [
       "<IPython.core.display.Javascript object>"
      ]
     },
     "metadata": {},
     "output_type": "display_data"
    },
    {
     "data": {
      "application/javascript": [
       "IPython.notebook.save_notebook();"
      ],
      "text/plain": [
       "<IPython.core.display.Javascript object>"
      ]
     },
     "metadata": {},
     "output_type": "display_data"
    },
    {
     "name": "stdout",
     "output_type": "stream",
     "text": [
      "Saving notebook... Saved 'lab04.ipynb'.\n",
      "Backup... 100% complete\n",
      "Backup successful for user: kath.eddinger@berkeley.edu\n",
      "URL: https://okpy.org/cal/ds100/fa17/lab04/backups/J6kgY2\n",
      "NOTE: this is only a backup. To submit your assignment, use:\n",
      "\tpython3 ok --submit\n",
      "\n"
     ]
    }
   ],
   "source": [
    "_ = ok.grade('q04a')\n",
    "_ = ok.backup()"
   ]
  },
  {
   "cell_type": "markdown",
   "metadata": {},
   "source": [
    "Now let's test your function to generate a plot. You may find the ```np.linspace``` function helpful when plotting the KDE curve."
   ]
  },
  {
   "cell_type": "code",
   "execution_count": 49,
   "metadata": {},
   "outputs": [
    {
     "data": {
      "text/plain": [
       "[<matplotlib.lines.Line2D at 0x11b7957f0>]"
      ]
     },
     "execution_count": 49,
     "metadata": {},
     "output_type": "execute_result"
    },
    {
     "data": {
      "image/png": "[encoded data removed]",
      "text/plain": [
       "<matplotlib.figure.Figure at 0x11bd870b8>"
      ]
     },
     "metadata": {},
     "output_type": "display_data"
    }
   ],
   "source": [
    "alpha = 1.0\n",
    "xs = np.linspace(df['trans_inc'].min(), df['trans_inc'].max(), 1000)\n",
    "curve = [kde(gaussian_kernel, alpha, x, df['trans_inc']) for x in xs]\n",
    "plt.hist(df['trans_inc'], normed=True, color='orange')\n",
    "plt.plot(xs, curve, 'k-')"
   ]
  },
  {
   "cell_type": "markdown",
   "metadata": {},
   "source": [
    "## Question 4b\n",
    "\n",
    "If we make the value of alpha much smaller what happens?  Try setting the value of alpha to a more appropriate value:"
   ]
  },
  {
   "cell_type": "code",
   "execution_count": 57,
   "metadata": {
    "tags": [
     "student"
    ]
   },
   "outputs": [
    {
     "data": {
      "text/plain": [
       "[<matplotlib.lines.Line2D at 0x11bff3358>]"
      ]
     },
     "execution_count": 57,
     "metadata": {},
     "output_type": "execute_result"
    },
    {
     "data": {
      "image/png": "[encoded data removed]",
      "text/plain": [
       "<matplotlib.figure.Figure at 0x11b3eacf8>"
      ]
     },
     "metadata": {},
     "output_type": "display_data"
    }
   ],
   "source": [
    "alpha = .6\n",
    "xs = np.linspace(df['trans_inc'].min(), df['trans_inc'].max(), 1000)\n",
    "curve = [kde(gaussian_kernel, alpha, x, df['trans_inc']) for x in xs]\n",
    "plt.hist(df['trans_inc'], normed=True, color='orange')\n",
    "plt.plot(xs, curve, 'k-')"
   ]
  },
  {
   "cell_type": "code",
   "execution_count": 58,
   "metadata": {
    "tags": [
     "test",
     "q04b"
    ]
   },
   "outputs": [
    {
     "name": "stdout",
     "output_type": "stream",
     "text": [
      "~~~~~~~~~~~~~~~~~~~~~~~~~~~~~~~~~~~~~~~~~~~~~~~~~~~~~~~~~~~~~~~~~~~~~\n",
      "Running tests\n",
      "\n",
      "---------------------------------------------------------------------\n",
      "Test summary\n",
      "    Passed: 1\n",
      "    Failed: 0\n",
      "[ooooooooook] 100.0% passed\n",
      "\n"
     ]
    },
    {
     "data": {
      "application/javascript": [
       "IPython.notebook.save_checkpoint();"
      ],
      "text/plain": [
       "<IPython.core.display.Javascript object>"
      ]
     },
     "metadata": {},
     "output_type": "display_data"
    },
    {
     "data": {
      "application/javascript": [
       "IPython.notebook.save_notebook();"
      ],
      "text/plain": [
       "<IPython.core.display.Javascript object>"
      ]
     },
     "metadata": {},
     "output_type": "display_data"
    },
    {
     "name": "stdout",
     "output_type": "stream",
     "text": [
      "Saving notebook... Saved 'lab04.ipynb'.\n",
      "Backup... 100% complete\n",
      "Backup successful for user: kath.eddinger@berkeley.edu\n",
      "URL: https://okpy.org/cal/ds100/fa17/lab04/backups/OYpnGG\n",
      "NOTE: this is only a backup. To submit your assignment, use:\n",
      "\tpython3 ok --submit\n",
      "\n"
     ]
    }
   ],
   "source": [
    "_ = ok.grade('q04b')\n",
    "_ = ok.backup()"
   ]
  },
  {
   "cell_type": "markdown",
   "metadata": {},
   "source": [
    "## Question 4c\n",
    "\n",
    "How is the alpha effecting the results? What if we keep using a larger alpha on the transformed data? "
   ]
  },
  {
   "cell_type": "code",
   "execution_count": null,
   "metadata": {
    "collapsed": true,
    "tags": [
     "student"
    ]
   },
   "outputs": [],
   "source": [
    "q4c_answer = \"\"\"\n",
    "\n",
    "\"\"\""
   ]
  },
  {
   "cell_type": "markdown",
   "metadata": {},
   "source": [
    "## Question 4d\n",
    "\n",
    "We can also try other kernel functions such as the [boxcar kernel](https://en.wikipedia.org/wiki/Boxcar_function).\n"
   ]
  },
  {
   "cell_type": "code",
   "execution_count": 59,
   "metadata": {
    "collapsed": true
   },
   "outputs": [],
   "source": [
    "def boxcar_kernel(alpha, x, z):\n",
    "    return (((x-z)>=-alpha/2)&((x-z)<=alpha/2))/alpha"
   ]
  },
  {
   "cell_type": "markdown",
   "metadata": {},
   "source": [
    "We can plot the kernel function to see how it looks like"
   ]
  },
  {
   "cell_type": "code",
   "execution_count": 60,
   "metadata": {},
   "outputs": [
    {
     "data": {
      "application/vnd.jupyter.widget-view+json": {
       "model_id": "8ab4edad03794f598df3013e0bfa6f9b"
      }
     },
     "metadata": {},
     "output_type": "display_data"
    },
    {
     "data": {
      "text/plain": [
       "<function __main__.f>"
      ]
     },
     "execution_count": 60,
     "metadata": {},
     "output_type": "execute_result"
    }
   ],
   "source": [
    "from ipywidgets import interact\n",
    "x = np.linspace(-10,10,1000)\n",
    "def f(alpha):\n",
    "    plt.plot(x, boxcar_kernel(alpha,x,0))\n",
    "    plt.plot(x, gaussian_kernel(alpha,x,0))\n",
    "    plt.show()\n",
    "interact(f, alpha=(1,10,0.1))"
   ]
  },
  {
   "cell_type": "markdown",
   "metadata": {},
   "source": [
    "Using the interactive plot below compare the the two kernel techniques:  (Generating the KDE plot is slow, so you may expect some latency after you move the slider)"
   ]
  },
  {
   "cell_type": "code",
   "execution_count": 61,
   "metadata": {},
   "outputs": [
    {
     "data": {
      "application/vnd.jupyter.widget-view+json": {
       "model_id": "44f07c1a885a4de18888e63e45622f57"
      }
     },
     "metadata": {},
     "output_type": "display_data"
    },
    {
     "data": {
      "text/plain": [
       "<function __main__.f>"
      ]
     },
     "execution_count": 61,
     "metadata": {},
     "output_type": "execute_result"
    }
   ],
   "source": [
    "xs = np.linspace(df['trans_inc'].min(), df['trans_inc'].max(), 1000)\n",
    "def f(alpha_g, alpha_b):\n",
    "    plt.hist(df['trans_inc'], normed=True, color='orange')\n",
    "    g_curve = [kde(gaussian_kernel, alpha_g, x, df['trans_inc']) for x in xs]\n",
    "    plt.plot(xs, g_curve, 'k-', label='Gaussian')\n",
    "    b_curve = [kde(boxcar_kernel, alpha_b, x, df['trans_inc']) for x in xs]\n",
    "    plt.plot(xs, b_curve, 'r-', label='Boxcar')\n",
    "    plt.show()\n",
    "interact(f, alpha_g=(0.01,.5,0.01), alpha_b=(0.01,3,0.1))"
   ]
  },
  {
   "cell_type": "markdown",
   "metadata": {},
   "source": [
    "How is the boxcar kde plot comparing to previous plot using the gaussian kernel?"
   ]
  },
  {
   "cell_type": "code",
   "execution_count": null,
   "metadata": {
    "collapsed": true,
    "tags": [
     "student"
    ]
   },
   "outputs": [],
   "source": [
    "answer=\"\"\"\n",
    "\n",
    "\"\"\""
   ]
  },
  {
   "cell_type": "markdown",
   "metadata": {},
   "source": [
    "## Submission\n",
    "\n",
    "Congrats! You are finished with this assignment. For convenience, we've included a cell below that runs all the OkPy tests."
   ]
  },
  {
   "cell_type": "code",
   "execution_count": null,
   "metadata": {
    "collapsed": true
   },
   "outputs": [],
   "source": [
    "import os\n",
    "print(\"Running all tests...\")\n",
    "_ = [ok.grade(q[:-3]) for q in os.listdir(\"ok_tests\") if q.startswith('q')]"
   ]
  },
  {
   "cell_type": "markdown",
   "metadata": {},
   "source": [
    "Now, run the cell below to submit your assignment to OkPy. The autograder should email you shortly with your autograded score. The autograder will only run once every 30 minutes.\n",
    "\n",
    "**If you're failing tests on the autograder but pass them locally**, you should simulate the autograder by doing the following:\n",
    "\n",
    "1. In the top menu, click Kernel -> Restart and Run all.\n",
    "2. Run the cell above to run each OkPy test.\n",
    "\n",
    "**You must make sure that you pass all the tests when running steps 1 and 2 in order.** If you are still failing autograder tests, you should double check your results."
   ]
  },
  {
   "cell_type": "code",
   "execution_count": null,
   "metadata": {
    "collapsed": true
   },
   "outputs": [],
   "source": [
    "_ = ok.submit()"
   ]
  }
 ],
 "metadata": {
  "_change_revision": 0,
  "_is_fork": false,
  "kernelspec": {
   "display_name": "Python 3",
   "language": "python",
   "name": "python3"
  },
  "language_info": {
   "codemirror_mode": {
    "name": "ipython",
    "version": 3
   },
   "file_extension": ".py",
   "mimetype": "text/x-python",
   "name": "python",
   "nbconvert_exporter": "python",
   "pygments_lexer": "ipython3",
   "version": "3.6.1"
  }
 },
 "nbformat": 4,
 "nbformat_minor": 1
}
